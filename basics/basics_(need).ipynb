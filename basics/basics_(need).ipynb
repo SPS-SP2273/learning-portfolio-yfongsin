{
 "cells": [
  {
   "cell_type": "markdown",
   "id": "123456",
   "metadata": {},
   "source": [
    "<div style=\"text-align:left;font-size:2em\"><span style=\"font-weight:bolder;font-size:1.25em\">SP2273 | Learning Portfolio</span><br><br><span style=\"font-weight:bold;color:darkred\">Basics (Need)</span></div>"
   ]
  },
  {
   "cell_type": "markdown",
   "id": "0ea6fa67",
   "metadata": {},
   "source": [
    "## 1 Some Python Basics"
   ]
  },
  {
   "cell_type": "markdown",
   "id": "c8ba24a0",
   "metadata": {},
   "source": [
    "### 1.1 Functions"
   ]
  },
  {
   "cell_type": "code",
   "execution_count": 4,
   "id": "b7ea9c5e",
   "metadata": {},
   "outputs": [
    {
     "name": "stdout",
     "output_type": "stream",
     "text": [
      "Hello world!\n"
     ]
    }
   ],
   "source": [
    "\n",
    "# Your code here\n",
    "print('Hello world!')"
   ]
  },
  {
   "cell_type": "markdown",
   "id": "4fdbb7ac",
   "metadata": {},
   "source": [
    "### 1.2 Python is interpreted"
   ]
  },
  {
   "cell_type": "code",
   "execution_count": 3,
   "id": "a223998d",
   "metadata": {},
   "outputs": [
    {
     "name": "stdout",
     "output_type": "stream",
     "text": [
      "Hello World\n",
      "Hello World again\n"
     ]
    }
   ],
   "source": [
    "\n",
    "# Your code here\n",
    "print('Hello World')\n",
    "print('Hello World again')"
   ]
  },
  {
   "cell_type": "markdown",
   "id": "2a401112",
   "metadata": {},
   "source": [
    "### 1.3 Python is sensitive."
   ]
  },
  {
   "cell_type": "code",
   "execution_count": 2,
   "id": "64aa4f08",
   "metadata": {},
   "outputs": [
    {
     "name": "stdout",
     "output_type": "stream",
     "text": [
      "Hello World\n"
     ]
    },
    {
     "ename": "NameError",
     "evalue": "name 'Print' is not defined",
     "output_type": "error",
     "traceback": [
      "\u001b[0;31m---------------------------------------------------------------------------\u001b[0m",
      "\u001b[0;31mNameError\u001b[0m                                 Traceback (most recent call last)",
      "Cell \u001b[0;32mIn[2], line 3\u001b[0m\n\u001b[1;32m      1\u001b[0m \u001b[38;5;66;03m# Your code here\u001b[39;00m\n\u001b[1;32m      2\u001b[0m \u001b[38;5;28mprint\u001b[39m(\u001b[38;5;124m'\u001b[39m\u001b[38;5;124mHello World\u001b[39m\u001b[38;5;124m'\u001b[39m)      \u001b[38;5;66;03m# This WILL work\u001b[39;00m\n\u001b[0;32m----> 3\u001b[0m \u001b[43mPrint\u001b[49m(\u001b[38;5;124m'\u001b[39m\u001b[38;5;124mHello World\u001b[39m\u001b[38;5;124m'\u001b[39m)      \u001b[38;5;66;03m# This will NOT work\u001b[39;00m\n",
      "\u001b[0;31mNameError\u001b[0m: name 'Print' is not defined"
     ]
    }
   ],
   "source": [
    "\n",
    "# Your code here\n",
    "print('Hello World')      # This WILL work\n",
    "Print('Hello World')      # This will NOT work"
   ]
  },
  {
   "cell_type": "markdown",
   "id": "79bd93bb",
   "metadata": {},
   "source": [
    "### 1.4 Comments"
   ]
  },
  {
   "cell_type": "code",
   "execution_count": 5,
   "id": "1e2b1d85",
   "metadata": {},
   "outputs": [
    {
     "name": "stdout",
     "output_type": "stream",
     "text": [
      "Hello world\n",
      "One\n",
      "Three\n"
     ]
    }
   ],
   "source": [
    "\n",
    "# Your code here\n",
    "print(\"Hello world\" )     # Printing \"Hello World.\"\n",
    "# This is a comment\n",
    "print('One')              # This is a comment.\n",
    "# print('Two')            # The interpreter ignores this line.\n",
    "print('Three')            # This is\n",
    "                          # also a way to\n",
    "                          # write comments"
   ]
  },
  {
   "cell_type": "markdown",
   "id": "64537a63",
   "metadata": {},
   "source": [
    "### 1.5 = is not the same as =="
   ]
  },
  {
   "cell_type": "code",
   "execution_count": 6,
   "id": "548d27d9",
   "metadata": {},
   "outputs": [
    {
     "data": {
      "text/plain": [
       "True"
      ]
     },
     "execution_count": 6,
     "metadata": {},
     "output_type": "execute_result"
    }
   ],
   "source": [
    "\n",
    "# Your code here\n",
    "name = 'Batman'            # Make name carry 'Batman'\n",
    "name == 'Batman'           # Tell me if name is equal to 'Batman'?\n",
    "                           # Answer:  True or False"
   ]
  },
  {
   "cell_type": "markdown",
   "id": "d1c9cc79",
   "metadata": {},
   "source": [
    "### 1.6 Use if to make decisions"
   ]
  },
  {
   "cell_type": "code",
   "execution_count": 7,
   "id": "29f9b9a4",
   "metadata": {},
   "outputs": [
    {
     "name": "stdout",
     "output_type": "stream",
     "text": [
      "Hello Hero | Batman!\n"
     ]
    }
   ],
   "source": [
    "\n",
    "# Your code here\n",
    "name = 'Batman'\n",
    "\n",
    "if name == 'Batman':\n",
    "    print('Hello Hero | Batman!')\n",
    "else:\n",
    "    print('Hello World!')"
   ]
  },
  {
   "cell_type": "markdown",
   "id": "b302964b",
   "metadata": {},
   "source": [
    "### 1.7 Indentations (spaces) are sooo IMPORTANT!"
   ]
  },
  {
   "cell_type": "code",
   "execution_count": 8,
   "id": "33f2ec0e",
   "metadata": {},
   "outputs": [
    {
     "ename": "IndentationError",
     "evalue": "unexpected indent (767188906.py, line 8)",
     "output_type": "error",
     "traceback": [
      "\u001b[0;36m  Cell \u001b[0;32mIn[8], line 8\u001b[0;36m\u001b[0m\n\u001b[0;31m    print(x)\u001b[0m\n\u001b[0m    ^\u001b[0m\n\u001b[0;31mIndentationError\u001b[0m\u001b[0;31m:\u001b[0m unexpected indent\n"
     ]
    }
   ],
   "source": [
    "\n",
    "# Your code here\n",
    "#This will work\n",
    "x = 10\n",
    "print(x)\n",
    "\n",
    "#This will not work\n",
    "x = 10\n",
    " print(x)"
   ]
  },
  {
   "cell_type": "markdown",
   "id": "06b408ed",
   "metadata": {},
   "source": [
    "### 1.8 ‘age’ is English, age is a variable."
   ]
  },
  {
   "cell_type": "code",
   "execution_count": 11,
   "id": "b3f149d9",
   "metadata": {},
   "outputs": [
    {
     "name": "stdout",
     "output_type": "stream",
     "text": [
      "10\n",
      "age\n",
      "You're twenty years old.\n"
     ]
    }
   ],
   "source": [
    "\n",
    "# Your code here\n",
    "age = 10\n",
    "print(age)       # Print the value of the variable age\n",
    "print(\"age\")     # Print the English word 'age'\n",
    "\n",
    "#Sometimes it is good to have both ' ' and \" \"\n",
    "print(\"You're twenty years old.\")"
   ]
  },
  {
   "cell_type": "markdown",
   "id": "5bb5f226",
   "metadata": {},
   "source": [
    "### 1.9 Escape sequences"
   ]
  },
  {
   "cell_type": "code",
   "execution_count": 14,
   "id": "e96bb945",
   "metadata": {},
   "outputs": [
    {
     "name": "stdout",
     "output_type": "stream",
     "text": [
      "You're twenty years old.\n",
      "A\\B\\C\n",
      "A\n",
      "B\n",
      "C\n",
      "A\tB\tC\n"
     ]
    }
   ],
   "source": [
    "\n",
    "# Your code here\n",
    "#Single quote\n",
    "print('You\\'re twenty years old.')\n",
    "\n",
    "#Backslash\n",
    "print('A\\\\B\\\\C')\n",
    "\n",
    "#Newline\n",
    "print('A\\nB\\nC')\n",
    "\n",
    "#Horizontal Tab\n",
    "print('A\\tB\\tC')"
   ]
  },
  {
   "cell_type": "markdown",
   "id": "24a97f58",
   "metadata": {},
   "source": [
    "### 1.10 Brackets"
   ]
  },
  {
   "cell_type": "code",
   "execution_count": 16,
   "id": "82b1df97",
   "metadata": {},
   "outputs": [
    {
     "name": "stdout",
     "output_type": "stream",
     "text": [
      "Hello!\n",
      "Bruce Wayne\n"
     ]
    }
   ],
   "source": [
    "\n",
    "# Your code here\n",
    "#Python uses () in calls to function and for mathematics\n",
    "print('Hello!')             # In functions\n",
    "(1 + 2) * 5                 # For math\n",
    "\n",
    "#Python uses [] for lists of data\n",
    "py_list = [1, 2, 3, 4, 5]   # A 1D list\n",
    "\n",
    "py_list_2 = [[1, \"A\"],      # A 2D list\n",
    "             [2, \"B\"],\n",
    "             [3, \"C\"],\n",
    "             [4, \"D\"],\n",
    "             [5, \"E\"]]\n",
    "\n",
    "#Python uses {} to store data that use a key-to identify a value. This means of storing data is called a dictionary.\n",
    "personal_info = {\n",
    "    'Names': 'Batman',\n",
    "    'Real Name': 'Bruce Wayne',\n",
    "    'Age': 55,\n",
    "    'Affiliation': 'Justice League',\n",
    "    'Universe': 'DC'\n",
    "}\n",
    "\n",
    "#Dictionary is a neat way to store data \n",
    "print(personal_info['Real Name'])    "
   ]
  },
  {
   "cell_type": "markdown",
   "id": "51c52e9b",
   "metadata": {},
   "source": [
    "## 2 Giving Python superpowers"
   ]
  },
  {
   "cell_type": "markdown",
   "id": "40edb381",
   "metadata": {},
   "source": [
    "### 2.1 Packages"
   ]
  },
  {
   "cell_type": "code",
   "execution_count": 20,
   "id": "50f4f0c6",
   "metadata": {},
   "outputs": [
    {
     "data": {
      "text/plain": [
       "array([2., 3., 4.])"
      ]
     },
     "execution_count": 20,
     "metadata": {},
     "output_type": "execute_result"
    }
   ],
   "source": [
    "\n",
    "# Your code here\n",
    "1 * ((2 - 3) + 4) ** 5 / 6  #Python can run this\n",
    "#sqrt(4)  Currently will not work because basic Python is limited\n",
    "\n",
    "#need to import math package\n",
    "import math         # Adding(importing) the functions\n",
    "                    # of the 'math' package    \n",
    "math.sqrt(4)\n",
    "\n",
    "#there is another module called numpy\n",
    "import numpy as np    # Imports Numpy with alias np\n",
    "np.sqrt(4)\n",
    "\n",
    "#Multiple packages are available as the different versions have different capabilities and efficiencies\n",
    "#For example, Numpy can handle a list of numbers\n",
    "np.sqrt([4, 9, 16])"
   ]
  },
  {
   "cell_type": "markdown",
   "id": "28ac56a9",
   "metadata": {},
   "source": [
    "### 2.2 The dot (.)"
   ]
  },
  {
   "cell_type": "code",
   "execution_count": 22,
   "id": "98f16ca9",
   "metadata": {},
   "outputs": [
    {
     "data": {
      "text/plain": [
       "['I', 'am', 'Batman']"
      ]
     },
     "execution_count": 22,
     "metadata": {},
     "output_type": "execute_result"
    }
   ],
   "source": [
    "\n",
    "# Your code here\n",
    "#The dot is used to indicate ownership\n",
    "math. sqrt (4) #sqrt() belongs to math module\n",
    "np. sqrt (4) #seqrt() belogns to NumPy\n",
    "\n",
    "\"I am Batman\".split() #returns a split array of strings"
   ]
  },
  {
   "cell_type": "markdown",
   "id": "caeb15d5",
   "metadata": {},
   "source": [
    "## Exercise 1 :  Total recall?"
   ]
  },
  {
   "cell_type": "markdown",
   "id": "d1bd8258",
   "metadata": {},
   "source": [
    "print function: print('Hello world!')\n",
    "_commenting: #This is a comment_\n",
    "if/else function: if x == 1:\n",
    "_escape sequences: Single quote - \\' , Backslash - \\\\ , Newline - \\n , Horizontal Tab - \\t_\n",
    "import packages\n",
    "\n",
    "\n"
   ]
  },
  {
   "cell_type": "markdown",
   "id": "8d01392c",
   "metadata": {},
   "source": [
    "## Exercise 2 :  Debug me"
   ]
  },
  {
   "cell_type": "code",
   "execution_count": 6,
   "id": "d1fda821",
   "metadata": {},
   "outputs": [
    {
     "name": "stdout",
     "output_type": "stream",
     "text": [
      "3 4 5.0\n"
     ]
    }
   ],
   "source": [
    "\n",
    "\n",
    "\n",
    "# Your solution here\n",
    "import math\n",
    "x, y = 3, 4\n",
    "z = math.sqrt(x**2 + y**2)\n",
    "print(x, y, z)\n",
    "\n"
   ]
  },
  {
   "cell_type": "markdown",
   "id": "ed14f640",
   "metadata": {},
   "source": [
    "## Exercise 3 :  In your own words"
   ]
  },
  {
   "cell_type": "markdown",
   "id": "0cacfe7e",
   "metadata": {},
   "source": [
    "| **#** | **Term**     |                       **Description**                      |\n",
    "|-------|--------------|:----------------------------------------------------------:|\n",
    "| 1     | Function     |      A function is something that does a specific task     |\n",
    "| 2     | Arguments    |     An argument is something you input into a function     |\n",
    "| 3     | Comments     | Additional information that python will ignore and not run |\n",
    "| 4     | Indentations |      Indentations are used to separate blocks of code      |\n",
    "| 5     | Packages     |   A package is a module that gives python more functions   |\n",
    "| 6     | .            |            The dot is used to indicate ownership           |"
   ]
  },
  {
   "cell_type": "markdown",
   "id": "ca5fa999",
   "metadata": {},
   "source": [
    "## Exercise 4 :  More than one way to divide"
   ]
  },
  {
   "cell_type": "code",
   "execution_count": 8,
   "id": "73cd4c4f",
   "metadata": {},
   "outputs": [
    {
     "data": {
      "text/plain": [
       "1"
      ]
     },
     "execution_count": 8,
     "metadata": {},
     "output_type": "execute_result"
    }
   ],
   "source": [
    "\n",
    "\n",
    "\n",
    "# Your solution here\n",
    "5/2           # It will perform a floating point division and return 2.5\n",
    "5//2          # It will perform a floor division and return 2\n",
    "5%2           # The modulus is 1\n"
   ]
  }
 ],
 "metadata": {
  "kernelspec": {
   "display_name": "Python 3 (ipykernel)",
   "language": "python",
   "name": "python3"
  },
  "language_info": {
   "codemirror_mode": {
    "name": "ipython",
    "version": 3
   },
   "file_extension": ".py",
   "mimetype": "text/x-python",
   "name": "python",
   "nbconvert_exporter": "python",
   "pygments_lexer": "ipython3",
   "version": "3.10.8"
  },
  "toc": {
   "base_numbering": 1,
   "nav_menu": {},
   "number_sections": true,
   "sideBar": true,
   "skip_h1_title": false,
   "title_cell": "Table of Contents",
   "title_sidebar": "Contents",
   "toc_cell": false,
   "toc_position": {},
   "toc_section_display": true,
   "toc_window_display": false
  },
  "varInspector": {
   "cols": {
    "lenName": 16,
    "lenType": 16,
    "lenVar": 40
   },
   "kernels_config": {
    "python": {
     "delete_cmd_postfix": "",
     "delete_cmd_prefix": "del ",
     "library": "var_list.py",
     "varRefreshCmd": "print(var_dic_list())"
    },
    "r": {
     "delete_cmd_postfix": ") ",
     "delete_cmd_prefix": "rm(",
     "library": "var_list.r",
     "varRefreshCmd": "cat(var_dic_list()) "
    }
   },
   "types_to_exclude": [
    "module",
    "function",
    "builtin_function_or_method",
    "instance",
    "_Feature"
   ],
   "window_display": false
  },
  "vscode": {
   "interpreter": {
    "hash": "31f2aee4e71d21fbe5cf8b01ff0e069b9275f58929596ceb00d14d90e3e16cd6"
   }
  }
 },
 "nbformat": 4,
 "nbformat_minor": 5
}
