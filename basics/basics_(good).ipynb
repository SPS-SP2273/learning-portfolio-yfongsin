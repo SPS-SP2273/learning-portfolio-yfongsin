{
 "cells": [
  {
   "cell_type": "markdown",
   "id": "123456",
   "metadata": {},
   "source": [
    "<div style=\"text-align:left;font-size:2em\"><span style=\"font-weight:bolder;font-size:1.25em\">SP2273 | Learning Portfolio</span><br><br><span style=\"font-weight:bold;color:darkred\">Basics (Good)</span></div>"
   ]
  },
  {
   "cell_type": "markdown",
   "id": "9b3ce2b2",
   "metadata": {},
   "source": [
    "## 1 More Python Basics"
   ]
  },
  {
   "cell_type": "markdown",
   "id": "871c44c3",
   "metadata": {},
   "source": [
    "### 1.1 Computers read = from Right to Left!"
   ]
  },
  {
   "cell_type": "code",
   "execution_count": 1,
   "id": "b7c5893b",
   "metadata": {},
   "outputs": [
    {
     "name": "stdout",
     "output_type": "stream",
     "text": [
      "42\n"
     ]
    }
   ],
   "source": [
    "\n",
    "# Your code here\n",
    "x = 40\n",
    "y = x + 2\n",
    "\n",
    "y = 40\n",
    "y = y + 2\n",
    "print(y)\n",
    "\n",
    "x = y = 10"
   ]
  },
  {
   "cell_type": "markdown",
   "id": "2f7da0b5",
   "metadata": {},
   "source": [
    "### 1.2 Shorter and cleaner"
   ]
  },
  {
   "cell_type": "code",
   "execution_count": 2,
   "id": "9e1b7597",
   "metadata": {},
   "outputs": [
    {
     "data": {
      "text/plain": [
       "38"
      ]
     },
     "execution_count": 2,
     "metadata": {},
     "output_type": "execute_result"
    }
   ],
   "source": [
    "\n",
    "# Your code here\n",
    "y = 40\n",
    "y += 2    # Same as y = y + 2\n",
    "\n",
    "y = 40\n",
    "y -= 2     # Same as y = y - 2\n",
    "\n",
    "y = 40\n",
    "y /= 2    # Same as y = y/2\n",
    "\n",
    "y = 40\n",
    "y *= 2    # Same as y = y * 2"
   ]
  },
  {
   "cell_type": "markdown",
   "id": "e23a5488",
   "metadata": {},
   "source": [
    "### 1.3 Asking questions"
   ]
  },
  {
   "cell_type": "code",
   "execution_count": 3,
   "id": "d3aecd08",
   "metadata": {},
   "outputs": [
    {
     "data": {
      "text/plain": [
       "True"
      ]
     },
     "execution_count": 3,
     "metadata": {},
     "output_type": "execute_result"
    }
   ],
   "source": [
    "\n",
    "# Your code here\n",
    "fruits = [\"apple\", \"banana\", \"pineapple\", \"jackfruit\"]\n",
    "vegetables = [\"celery\", \"potato\", \"broccoli\", \"kale\"]\n",
    "#can use **in** to ask conditional questions\n",
    "\"apple\" in fruits\n",
    "\"peach\" in fruits\n",
    "\"peach\" not in fruits\n",
    "(\"apple\" in fruits) and (\"celery\" in vegetables)\n",
    "(\"apple\" in fruits) or (\"celery\" in vegetables)\n",
    "\n",
    "#Basic Python only knows how to compare similar data types\n",
    "#3 > 10.5 will work, but 3 > 'apple' will not\n",
    "#However, Python can compare 'apples' and 'oranges' due to ASCII\n",
    "\n",
    "'apples' > 'oranges'\n",
    "\n",
    "#Python also allows you to write\n",
    "5 < x < 15"
   ]
  },
  {
   "cell_type": "markdown",
   "id": "3aeff5d9",
   "metadata": {},
   "source": [
    "### 1.4 There is more to if"
   ]
  },
  {
   "cell_type": "code",
   "execution_count": null,
   "id": "8857d069",
   "metadata": {},
   "outputs": [],
   "source": [
    "\n",
    "# elif statements\n",
    "name = 'Batman'\n",
    "\n",
    "if name == 'Batman':\n",
    "    print('Hello Hero | Batman!')\n",
    "elif name == 'Robin':\n",
    "    print('Hello Sidekick | Robin!')\n",
    "else:\n",
    "    print('Hello World!')\n"
   ]
  },
  {
   "cell_type": "markdown",
   "id": "ae1c3043",
   "metadata": {},
   "source": [
    "### 1.5 Python stores information in different formats or types."
   ]
  },
  {
   "cell_type": "code",
   "execution_count": 5,
   "id": "fa54902d",
   "metadata": {},
   "outputs": [
    {
     "name": "stdout",
     "output_type": "stream",
     "text": [
      "1 <class 'int'>\n",
      "1.234 <class 'str'>\n",
      "1.234 <class 'float'>\n",
      "(1.234+0j) <class 'complex'>\n"
     ]
    }
   ],
   "source": [
    "\n",
    "# Storing the number as an integer will drop the decimal portion\n",
    "x = int(1.234)\n",
    "print(x, type(x))\n",
    "\n",
    "#Storing the number as a string will output a string\n",
    "x = str(1.234)\n",
    "print(x, type(x))\n",
    "\n",
    "#Storing the number as a float will keep the decimal\n",
    "x = float(1.234)\n",
    "print(x, type(x))\n",
    "\n",
    "#Storing the number as a complex number will include an imaginary part of the number\n",
    "x = complex(1.234)\n",
    "print(x, type(x))\n",
    "\n",
    "#We can force Python to change the type of a variable, also known as typecasting\n",
    "x = '1.234'\n",
    "print(x, type(x))\n",
    "x = float(x)\n",
    "print(x, type(x))"
   ]
  },
  {
   "cell_type": "markdown",
   "id": "76f67fa2",
   "metadata": {},
   "source": [
    "### 1.6 Combining English and variables"
   ]
  },
  {
   "cell_type": "code",
   "execution_count": 9,
   "id": "edd9d01c",
   "metadata": {},
   "outputs": [
    {
     "name": "stdout",
     "output_type": "stream",
     "text": [
      "Hello Batman!\n",
      "Hello BATMAN!\n",
      "The value of 10 squared is 100!\n",
      "Bruce Wayne is Batman.\n",
      "        Bruce Wayne is Batman.\n",
      "    Bruce Wayne is Batman.    \n",
      "Bruce Wayne is Batman.        \n",
      "The cube of pi to 6 decimal places is 31.006277\n",
      "The cube of pi to 6 decimal places is 3.100628e+01\n"
     ]
    }
   ],
   "source": [
    "\n",
    "# English and variable can be combined in print functions by using f-string/string interpolation\n",
    "name = \"Batman\"\n",
    "print(f\"Hello {name}!\")\n",
    "\n",
    "name = \"Batman\"\n",
    "print(f\"Hello {name.upper()}!\")\n",
    "\n",
    "x = 10\n",
    "print(f\"The value of {x} squared is {x**2}!\")\n",
    "\n",
    "# More can be done with f-strings, like formatting a string or number\n",
    "text = 'Bruce Wayne is Batman.'\n",
    "print(f'{text}')\n",
    "\n",
    "print(f'{text:>30}')      # A block of 30 characters; aligned right\n",
    "\n",
    "print(f'{text:^30}')      # A block of 30 characters; aligned centre\n",
    "\n",
    "print(f'{text:<30}')      # A block of 30 characters; aligned left\n",
    "\n",
    "# The f in .6f tells the f-string to output the number in decimal notation\n",
    "print(f'The cube of pi to 6 decimal places is {np.pi**3:.6f}')\n",
    "\n",
    "# The e in .6e tells the f-string to output the number in scientific notation\n",
    "print(f'The cube of pi to 6 decimal places is {np.pi**3:.6e}')\n",
    "\n"
   ]
  },
  {
   "cell_type": "markdown",
   "id": "48878893",
   "metadata": {},
   "source": [
    "### 1.7 Python can be a prima-donna."
   ]
  },
  {
   "cell_type": "code",
   "execution_count": null,
   "id": "ebdbfca7",
   "metadata": {},
   "outputs": [],
   "source": [
    "\n",
    "# When we do something Python doesn't like or understand, it will throw out an error message. Fixing errors with code is called debugging.\n"
   ]
  },
  {
   "cell_type": "markdown",
   "id": "345faa7e",
   "metadata": {},
   "source": [
    "## 2 Best Practices for Scientific Computing"
   ]
  },
  {
   "cell_type": "markdown",
   "id": "ec3c7979",
   "metadata": {},
   "source": [
    "### 2.1 Some tips"
   ]
  },
  {
   "cell_type": "markdown",
   "id": "f20dfb17",
   "metadata": {},
   "source": [
    "1. **Write programs for people, not computers.**\n",
    "2. **Optimise software only after it works correctly.**\n",
    "3. **Document design and purpose, not mechanics.**\n",
    "4. **Collaborate.**"
   ]
  },
  {
   "cell_type": "markdown",
   "id": "154ef593",
   "metadata": {},
   "source": [
    "### 2.2 Getting help."
   ]
  },
  {
   "cell_type": "code",
   "execution_count": 10,
   "id": "3ac52aeb",
   "metadata": {},
   "outputs": [
    {
     "name": "stdout",
     "output_type": "stream",
     "text": [
      "Help on built-in function print in module builtins:\n",
      "\n",
      "print(...)\n",
      "    print(value, ..., sep=' ', end='\\n', file=sys.stdout, flush=False)\n",
      "    \n",
      "    Prints the values to a stream, or to sys.stdout by default.\n",
      "    Optional keyword arguments:\n",
      "    file:  a file-like object (stream); defaults to the current sys.stdout.\n",
      "    sep:   string inserted between values, default a space.\n",
      "    end:   string appended after the last value, default a newline.\n",
      "    flush: whether to forcibly flush the stream.\n",
      "\n"
     ]
    }
   ],
   "source": [
    "\n",
    "# Can access the internet (stack overflow) to get a question about programming answered\n",
    "#Can also use the python in-built help function\n",
    "help(print)\n"
   ]
  },
  {
   "cell_type": "markdown",
   "id": "18a25a09",
   "metadata": {},
   "source": [
    "## Exercise 1 :  Bias for some heroes"
   ]
  },
  {
   "cell_type": "code",
   "execution_count": 2,
   "id": "ecc461b3",
   "metadata": {
    "code_folding": []
   },
   "outputs": [
    {
     "name": "stdout",
     "output_type": "stream",
     "text": [
      "HELLO BATMAN!\n",
      "HELLO BLACK WIDOW!\n",
      "hello aqua man!\n",
      "hello batman!\n",
      "hello batman!\n"
     ]
    }
   ],
   "source": [
    "\n",
    "\n",
    "\n",
    "# Your solution here\n",
    "def hello(name):\n",
    "    if name == \"Batman\" or name == \"Black Widow\":\n",
    "        print(f\"Hello {name}!\".upper())\n",
    "    else:\n",
    "        print(f\"Hello {name}!\".lower())\n",
    "\n",
    "hello(\"Batman\")\n",
    "hello(\"Black Widow\")\n",
    "hello(\"Aqua Man\")\n",
    "hello(\"batman\")\n",
    "hello(\"batMan\")"
   ]
  },
  {
   "cell_type": "markdown",
   "id": "5913d835",
   "metadata": {},
   "source": [
    "## Exercise 2 :  Bias for some heroes, continues"
   ]
  },
  {
   "cell_type": "code",
   "execution_count": 3,
   "id": "d96c849c",
   "metadata": {},
   "outputs": [
    {
     "name": "stdout",
     "output_type": "stream",
     "text": [
      "HELLO BATMAN!\n",
      "HELLO BLACK WIDOW!\n",
      "hello aqua man!\n",
      "HELLO BATMAN!\n",
      "HELLO BATMAN!\n"
     ]
    }
   ],
   "source": [
    "\n",
    "\n",
    "\n",
    "# Your solution here\n",
    "def hello(name):\n",
    "    if name.lower() == \"batman\" or name.lower() == \"black widow\":\n",
    "        print(f\"Hello {name}!\".upper())\n",
    "    else:\n",
    "        print(f\"Hello {name}!\".lower())\n",
    "\n",
    "hello(\"Batman\")\n",
    "hello(\"Black Widow\")\n",
    "hello(\"Aqua Man\")\n",
    "hello(\"batman\")\n",
    "hello(\"batMan\")"
   ]
  },
  {
   "cell_type": "markdown",
   "id": "b1a75484",
   "metadata": {},
   "source": [
    "## Exercise 3 :  Look for help to replace"
   ]
  },
  {
   "cell_type": "code",
   "execution_count": 4,
   "id": "e16cc06e",
   "metadata": {},
   "outputs": [
    {
     "data": {
      "text/plain": [
       "'The Batman lives in Gotham City.'"
      ]
     },
     "execution_count": 4,
     "metadata": {},
     "output_type": "execute_result"
    }
   ],
   "source": [
    "\n",
    "\n",
    "\n",
    "# Your solution here\n",
    "'The Joker lives in Gotham City.'.replace(\"Joker\", \"Batman\")\n",
    "\n"
   ]
  }
 ],
 "metadata": {
  "kernelspec": {
   "display_name": "Python 3 (ipykernel)",
   "language": "python",
   "name": "python3"
  },
  "language_info": {
   "codemirror_mode": {
    "name": "ipython",
    "version": 3
   },
   "file_extension": ".py",
   "mimetype": "text/x-python",
   "name": "python",
   "nbconvert_exporter": "python",
   "pygments_lexer": "ipython3",
   "version": "3.10.8"
  },
  "toc": {
   "base_numbering": 1,
   "nav_menu": {},
   "number_sections": true,
   "sideBar": true,
   "skip_h1_title": false,
   "title_cell": "Table of Contents",
   "title_sidebar": "Contents",
   "toc_cell": false,
   "toc_position": {},
   "toc_section_display": true,
   "toc_window_display": false
  },
  "varInspector": {
   "cols": {
    "lenName": 16,
    "lenType": 16,
    "lenVar": 40
   },
   "kernels_config": {
    "python": {
     "delete_cmd_postfix": "",
     "delete_cmd_prefix": "del ",
     "library": "var_list.py",
     "varRefreshCmd": "print(var_dic_list())"
    },
    "r": {
     "delete_cmd_postfix": ") ",
     "delete_cmd_prefix": "rm(",
     "library": "var_list.r",
     "varRefreshCmd": "cat(var_dic_list()) "
    }
   },
   "types_to_exclude": [
    "module",
    "function",
    "builtin_function_or_method",
    "instance",
    "_Feature"
   ],
   "window_display": false
  },
  "vscode": {
   "interpreter": {
    "hash": "31f2aee4e71d21fbe5cf8b01ff0e069b9275f58929596ceb00d14d90e3e16cd6"
   }
  }
 },
 "nbformat": 4,
 "nbformat_minor": 5
}
