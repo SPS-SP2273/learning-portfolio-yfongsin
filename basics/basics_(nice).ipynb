{
 "cells": [
  {
   "cell_type": "markdown",
   "id": "123456",
   "metadata": {},
   "source": [
    "<div style=\"text-align:left;font-size:2em\"><span style=\"font-weight:bolder;font-size:1.25em\">SP2273 | Learning Portfolio</span><br><br><span style=\"font-weight:bold;color:darkred\">Basics (Nice)</span></div>"
   ]
  },
  {
   "cell_type": "markdown",
   "id": "a4c46088",
   "metadata": {},
   "source": [
    "## 1 Beyond Python Basics"
   ]
  },
  {
   "cell_type": "markdown",
   "id": "b320b52e",
   "metadata": {},
   "source": [
    "### 1.1 If if is not enough"
   ]
  },
  {
   "cell_type": "code",
   "execution_count": null,
   "id": "23ab61a7",
   "metadata": {},
   "outputs": [],
   "source": [
    "\n",
    "# Your code here\n",
    "#match-case statement that does similar things as if-elif-else statements\n",
    "name = 'Batman'\n",
    "\n",
    "match name:\n",
    "    case 'Batman':\n",
    "        print('Hello Hero | Batman!')\n",
    "    case 'Robin':\n",
    "        print('Hello Sidekick | Robin!')\n",
    "    case _:\n",
    "        print('Hello World!')"
   ]
  },
  {
   "cell_type": "markdown",
   "id": "27b326a9",
   "metadata": {},
   "source": [
    "### 1.2 Ternary operators or Conditional Statements"
   ]
  },
  {
   "cell_type": "code",
   "execution_count": null,
   "id": "f4febd75",
   "metadata": {},
   "outputs": [],
   "source": [
    "\n",
    "# Your code here\n",
    "#instead of \n",
    "if nationality == 'French':\n",
    "    greeting = \"Bonjour!\"\n",
    "else:\n",
    "    greeting = \"Hello!\"\n",
    "    \n",
    "#can also write as\n",
    "greeting = \"Bonjour!\" if nationality == 'French' else \"Hello!\"\n",
    "#or \n",
    "(\"Bonjour!\", \"Hello!\")[nationality == 'French']"
   ]
  },
  {
   "cell_type": "markdown",
   "id": "671efcb5",
   "metadata": {},
   "source": [
    "### 1.3 Swapping values"
   ]
  },
  {
   "cell_type": "code",
   "execution_count": null,
   "id": "7ff5a2da",
   "metadata": {},
   "outputs": [],
   "source": [
    "\n",
    "# Your code here\n",
    "a, b = 1, 2\n",
    "a, b = b, a\n",
    "print(a, b)"
   ]
  },
  {
   "cell_type": "markdown",
   "id": "01daad33",
   "metadata": {},
   "source": [
    "### 1.4 Never compare floats directly"
   ]
  },
  {
   "cell_type": "code",
   "execution_count": 2,
   "id": "d9a8fe4a",
   "metadata": {},
   "outputs": [
    {
     "name": "stdout",
     "output_type": "stream",
     "text": [
      "0.29999999999999999\n",
      "True\n",
      "True\n"
     ]
    }
   ],
   "source": [
    "\n",
    "# Your code here\n",
    "a = 0.1\n",
    "a3 = 0.3\n",
    "a * 3 == a3\n",
    "#This is because floating point numbers canot be exactly stored in acomputer and this type of eror is called a roundoff error.\n",
    "print(f\"{0.3:1.17f}\")\n",
    "\n",
    "#to get around this issue, should check if variable is close to expected values\n",
    "eps = 1E-10\n",
    "print(abs(a * 3 - a3) < eps)\n",
    "\n",
    "#or use Numpy\n",
    "print(np.isclose(a * 3, a3))"
   ]
  },
  {
   "cell_type": "markdown",
   "id": "0baf93b8",
   "metadata": {},
   "source": [
    "### 1.5 Operator precedance"
   ]
  },
  {
   "cell_type": "markdown",
   "id": "b71231dc",
   "metadata": {},
   "source": [
    "There is a operator precedence among the various operators in Python.\n",
    "\n",
    "According to the table below,\n",
    "1. Highest precedence at the top, lowest at the bottom.\n",
    "2. Operators in the same box evaluate left to right\n",
    "\n",
    "| **Description**                     |                   **Operator**                   |\n",
    "|-------------------------------------|:------------------------------------------------:|\n",
    "| Parentheses (grouping)              |                        ()                        |\n",
    "| Function call                       |                    f(args...)                    |\n",
    "| Slicing                             |                  x[index:index]                  |\n",
    "| Subscription                        |                     x[index]                     |\n",
    "| Attribute reference                 |                    x.attribute                   |\n",
    "| Exponentiation                      |                        **                        |\n",
    "| Bitwise not                         |                        ~x                        |\n",
    "| Positive, negative                  |                      +x, -x                      |\n",
    "| Multiplication, division, remainder |                      *, /, %                     |\n",
    "| Addition, subtraction               |                       +, -                       |\n",
    "| Bitwise shifts                      |                      <<, >>                      |\n",
    "| Bitwise AND                         |                         &                        |\n",
    "| Bitwise XOR                         |                         ^                        |\n",
    "| Bitwise OR                          |                        \\|                        |\n",
    "| Comparisons, membership, identity   | in, not in, is, is not, <, <=, >, >=, <>, !=, == |\n",
    "| Boolean NOT                         |                       not x                      |\n",
    "| Boolean AND                         |                        and                       |\n",
    "| Boolean OR                          |                        or                        |\n",
    "| Lambda expression                   |                      lambda                      |"
   ]
  },
  {
   "cell_type": "markdown",
   "id": "b6924d73",
   "metadata": {},
   "source": [
    "## 2 Variables in Python"
   ]
  },
  {
   "cell_type": "markdown",
   "id": "cdcef633",
   "metadata": {},
   "source": [
    "### 2.1 Variables in Python are just names"
   ]
  },
  {
   "cell_type": "code",
   "execution_count": 3,
   "id": "09a260a2",
   "metadata": {},
   "outputs": [
    {
     "name": "stdout",
     "output_type": "stream",
     "text": [
      "x: [1, 2, 3], y: [1, 2, 3]\n"
     ]
    }
   ],
   "source": [
    "\n",
    "# Your code here\n",
    "x = [1, 2]\n",
    "y = x\n",
    "y.append(3)\n",
    "\n",
    "print(f\"x: {x}, y: {y}\")\n",
    "\n",
    "#I would expect the code to print x: [1, 2] and y: [1,2,3] which is not the case\n",
    "\n",
    "#The code below shows that x, y both have the same id as 1\n",
    "x = 1\n",
    "y = 1\n",
    "\n",
    "print(f\"x: {id(x)}, y: {id(y)}, 1: {id(1)}\")\n",
    "\n",
    "#Before the code is run, Python has things or objects 1, 2 and a that have three properties type, value and id. For example, 1 can have the value 1, type int, and some id. a can have the value ‘a’, type str and some id.\n",
    "#After the code is run, x and y are ‘looking at’ or bound to 1. So x and y are referred to as names that are bound to 1\n",
    "\n",
    "x = 1\n",
    "y = x + 1\n",
    "\n",
    "print(f\"x: {id(x)}, y: {id(y)}\")\n",
    "\n",
    "#Since y have to have the value 2, y now gets bound to object 2, because the value of object 1 cannot be changed, so the binding is changed instead\n",
    "#Objects whose values cannot be changed (integers, str, float, bool) are called immutable\n",
    "#Objects who values can be changed are called mutable and include lists and dictionaries and instances of classes\n",
    "\n",
    "#Looking at the code again with explanations:\n",
    "# x is bound to a list object with a value [1 ,2]\n",
    "x = [1, 2]\n",
    "\n",
    "# y is bound to the SAME list object with a value [1 ,2]\n",
    "y = x\n",
    "\n",
    "# y is used to change the value of the object from  [1, 2] to [1, 2, 3]\n",
    "y.append(3)\n",
    "\n",
    "#To have a y that is an independent copy of x, one should use:\n",
    "y = x.copy()\n"
   ]
  },
  {
   "cell_type": "markdown",
   "id": "5a1365ff",
   "metadata": {},
   "source": [
    "### 2.2 == is not the same as is"
   ]
  },
  {
   "cell_type": "markdown",
   "id": "e453b5a6",
   "metadata": {},
   "source": [
    "x is y checks for identity. i. e., it asks if x and y are bound to the same object by comparing the ID.\n",
    "\n",
    "x == y checks for equality by running a function that checks for equality (such as _eq_ of a class)."
   ]
  }
 ],
 "metadata": {
  "kernelspec": {
   "display_name": "Python 3 (ipykernel)",
   "language": "python",
   "name": "python3"
  },
  "language_info": {
   "codemirror_mode": {
    "name": "ipython",
    "version": 3
   },
   "file_extension": ".py",
   "mimetype": "text/x-python",
   "name": "python",
   "nbconvert_exporter": "python",
   "pygments_lexer": "ipython3",
   "version": "3.10.8"
  },
  "toc": {
   "base_numbering": 1,
   "nav_menu": {},
   "number_sections": true,
   "sideBar": true,
   "skip_h1_title": false,
   "title_cell": "Table of Contents",
   "title_sidebar": "Contents",
   "toc_cell": false,
   "toc_position": {},
   "toc_section_display": true,
   "toc_window_display": false
  },
  "varInspector": {
   "cols": {
    "lenName": 16,
    "lenType": 16,
    "lenVar": 40
   },
   "kernels_config": {
    "python": {
     "delete_cmd_postfix": "",
     "delete_cmd_prefix": "del ",
     "library": "var_list.py",
     "varRefreshCmd": "print(var_dic_list())"
    },
    "r": {
     "delete_cmd_postfix": ") ",
     "delete_cmd_prefix": "rm(",
     "library": "var_list.r",
     "varRefreshCmd": "cat(var_dic_list()) "
    }
   },
   "types_to_exclude": [
    "module",
    "function",
    "builtin_function_or_method",
    "instance",
    "_Feature"
   ],
   "window_display": false
  },
  "vscode": {
   "interpreter": {
    "hash": "31f2aee4e71d21fbe5cf8b01ff0e069b9275f58929596ceb00d14d90e3e16cd6"
   }
  }
 },
 "nbformat": 4,
 "nbformat_minor": 5
}
