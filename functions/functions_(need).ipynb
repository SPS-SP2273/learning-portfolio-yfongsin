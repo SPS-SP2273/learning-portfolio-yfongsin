{
 "cells": [
  {
   "cell_type": "markdown",
   "id": "123456",
   "metadata": {},
   "source": [
    "<div style=\"text-align:left;font-size:2em\"><span style=\"font-weight:bolder;font-size:1.25em\">SP2273 | Learning Portfolio</span><br><br><span style=\"font-weight:bold;color:darkred\">Functions (Need)</span></div>"
   ]
  },
  {
   "cell_type": "markdown",
   "id": "17a40589",
   "metadata": {},
   "source": [
    "## 1 User defined functions"
   ]
  },
  {
   "cell_type": "markdown",
   "id": "fc970557",
   "metadata": {},
   "source": [
    "### 1.1 Named functions that return"
   ]
  },
  {
   "cell_type": "code",
   "execution_count": 5,
   "id": "be7f9cc0",
   "metadata": {},
   "outputs": [
    {
     "data": {
      "text/plain": [
       "'Hello Super Man!'"
      ]
     },
     "execution_count": 5,
     "metadata": {},
     "output_type": "execute_result"
    }
   ],
   "source": [
    "#You can define a named function as such:\n",
    "\n",
    "def greeting(name):\n",
    "    if name == 'Batman':\n",
    "        return 'Hello Batman! So, nice to meet you!'\n",
    "    else:\n",
    "        return f'Hello {name}!'\n",
    "    \n",
    "    \n",
    "#To use/call the function,:\n",
    "greeting(\"Super Man\")\n",
    "\n",
    "#or\n",
    "\n",
    "greeting(name=\"Super Man\")\n",
    "\n",
    "#the function's name is greeting and it accepts a single argument called name\n",
    "#the colon (:) and indentation demarcates the function's code block\n",
    "# the keyword return get an output from the function\n"
   ]
  },
  {
   "cell_type": "code",
   "execution_count": 2,
   "id": "f4d3825c",
   "metadata": {},
   "outputs": [
    {
     "name": "stdout",
     "output_type": "stream",
     "text": [
      "Hello Super Man!\n"
     ]
    }
   ],
   "source": [
    "#Can assign the returned value of a function to a variable as uch:\n",
    "greet=greeting(name='Super Man')\n",
    "print(greet)"
   ]
  },
  {
   "cell_type": "code",
   "execution_count": 4,
   "id": "30d0f457",
   "metadata": {},
   "outputs": [],
   "source": [
    "#A function can return most anything\n",
    "#Below is an example of a function that accepts a list and returns the maximum, minimum and mean\n",
    "def basic_stats(numbers):\n",
    "    np_numbers=np.array(numbers)\n",
    "    return np_numbers.min(), np_numbers.max(), np_numbers.mean()\n",
    "\n",
    "#To use it:\n",
    "list_min, list_max, list_mean = basic_stats([1, 2, 3, 4, 5])"
   ]
  },
  {
   "cell_type": "markdown",
   "id": "f8ff393c",
   "metadata": {},
   "source": [
    "### 1.2 Named functions that don’t return"
   ]
  },
  {
   "cell_type": "markdown",
   "id": "c6815b00",
   "metadata": {},
   "source": [
    "A function does **not** have to return anything. For e.g., print() does something but does not return a value. Such functions are needed for things such as saving data to a file.\n"
   ]
  },
  {
   "cell_type": "markdown",
   "id": "6718dbf3",
   "metadata": {},
   "source": [
    "### 1.3 Anonymous functions"
   ]
  },
  {
   "cell_type": "code",
   "execution_count": 5,
   "id": "d41f4f55",
   "metadata": {},
   "outputs": [
    {
     "data": {
      "text/plain": [
       "'Hello Super Man!'"
      ]
     },
     "execution_count": 5,
     "metadata": {},
     "output_type": "execute_result"
    }
   ],
   "source": [
    "#Anonymous functions (also known as lambda functions) are short one-liners\n",
    "#The following examples accepts a single argument called name.\n",
    "\n",
    "my_short_function = lambda name: f\"Hello {name}!\"\n",
    "\n",
    "#Can use it as such:\n",
    "my_short_function(name=\"Super Man\")\n",
    "\n",
    "#A lambda function always returns the value of the last statement\n",
    "#Above example not a very good anonymous because a name is used"
   ]
  },
  {
   "cell_type": "code",
   "execution_count": 7,
   "id": "e2a9ba5e",
   "metadata": {},
   "outputs": [
    {
     "data": {
      "text/plain": [
       "[[9, 0, 10],\n",
       " [8, 1, 11],\n",
       " [7, 2, 12],\n",
       " [6, 3, 13],\n",
       " [5, 4, 14],\n",
       " [4, 5, 15],\n",
       " [3, 6, 16],\n",
       " [2, 7, 17],\n",
       " [1, 8, 18],\n",
       " [0, 9, 19]]"
      ]
     },
     "execution_count": 7,
     "metadata": {},
     "output_type": "execute_result"
    }
   ],
   "source": [
    "#An example where things get really anonymous:\n",
    "#Say I want ot sort a 2D list, the sorted() function can be used as follow:\n",
    "numbers=[[9, 0, 10],\n",
    "         [8, 1, 11],\n",
    "         [7, 2, 12],\n",
    "         [6, 3, 13],\n",
    "         [5, 4, 14],\n",
    "         [4, 5, 15],\n",
    "         [3, 6, 16],\n",
    "         [2, 7, 17],\n",
    "         [1, 8, 18],\n",
    "         [0, 9, 19]]\n",
    "\n",
    "sorted(numbers)                         # Sort by comparing the default key \n",
    "                                        # (i.e. the 1st element)\n",
    "    \n",
    "#This sorting is based on comparing the first elements of the sub-lists\n",
    "#If I want to use some other criteria, need to specify a key that can be used for comparison\n",
    "#A lambda function can be used for this as follows:\n",
    "sorted(numbers, key=lambda x: x[1])     # Sort by comparing a custom key\n",
    "                                        # that uses the 2nd element\n",
    "    \n",
    "#This is powerful as I can specify almost any criterion I like. For example, can sort according to the sum of the elements of the sub-lists:\n",
    "sorted(numbers, key=lambda x: sum(x))   # Sort by comparing a custom key\n",
    "                                        # that uses the sum of the elements"
   ]
  },
  {
   "cell_type": "markdown",
   "id": "69640d85",
   "metadata": {},
   "source": [
    "### 1.4 Optional arguments"
   ]
  },
  {
   "cell_type": "code",
   "execution_count": 8,
   "id": "8ef82718",
   "metadata": {},
   "outputs": [
    {
     "data": {
      "text/plain": [
       "'Hello no one!'"
      ]
     },
     "execution_count": 8,
     "metadata": {},
     "output_type": "execute_result"
    }
   ],
   "source": [
    "#In python, arguments to our function can be optional\n",
    "#To do this, we need to give the argument a default value:\n",
    "def greeting(name='no one'):\n",
    "    if name == 'Batman':\n",
    "        return 'Hello Batman! So, nice to meet you!'\n",
    "    else:\n",
    "        return f'Hello {name}!'\n",
    "    \n",
    "#Running this function without an argument now will not throw an error\n",
    "greeting()\n"
   ]
  },
  {
   "cell_type": "code",
   "execution_count": 6,
   "id": "71c9f3f4",
   "metadata": {},
   "outputs": [
    {
     "name": "stdout",
     "output_type": "stream",
     "text": [
      "I am Batman!\n",
      "I---am---Batman!\n"
     ]
    }
   ],
   "source": [
    "#Looking at the documentation for print(),\n",
    "\n",
    "#Docstring:\n",
    "#    print(value, ..., sep=' ', end='\\n', file=sys.stdout, flush=False)\n",
    "#\n",
    "#    Prints the values to a stream, or to sys.stdout by default.\n",
    "#    Optional keyword arguments:\n",
    "#    file:  a file-like object (stream); defaults to the current sys.stdout.\n",
    "#    sep:   string inserted between values, default a space.\n",
    "#    end:   string appended after the last value, default a newline.\n",
    "#    flush: whether to forcibly flush the stream.\n",
    "#    Type:      builtin_function_or_method\n",
    "\n",
    "#print() can accept other arguments and are optional with default values\n",
    "#However, we can specify them if we like:\n",
    "print('I', 'am', 'Batman!')                 # Just for comparison\n",
    "#> I am Batman!\n",
    "print('I', 'am', 'Batman!', sep='---')  \n",
    "#> I---am---Batman!"
   ]
  },
  {
   "cell_type": "markdown",
   "id": "36fb2275",
   "metadata": {},
   "source": [
    "## 2 The importance of functions?"
   ]
  },
  {
   "cell_type": "markdown",
   "id": "888c22c6",
   "metadata": {},
   "source": [
    "### 2.1 An argument for functions"
   ]
  },
  {
   "cell_type": "markdown",
   "id": "f975e6fa",
   "metadata": {},
   "source": [
    "1. **Abstraction of details**: The most important benefit of functions is the ability to strategise. Breaking up complicated solution into modular chunks allows one to think about it more easily. Easier to focus on overall solution because there are no unnecessarty information. This hiding of 'stuff' is called abstraction\n",
    "2. **Reusability of code**: Easily reuse a function instead of copying and pasting at different places\n",
    "3. **Maintainability of code**: Easier to change and maintain because you only need to make changes in one place, at the function definition"
   ]
  },
  {
   "cell_type": "markdown",
   "id": "fd005623",
   "metadata": {},
   "source": [
    "### 2.2 A word of caution"
   ]
  },
  {
   "cell_type": "markdown",
   "id": "7845b852",
   "metadata": {},
   "source": [
    "- Functions can be abused by trying to do too much or having too many functions. \n",
    "- They can also be overused\n",
    "- Having too many functions makes it difficult to read your code and increases computational overheads\n"
   ]
  },
  {
   "cell_type": "markdown",
   "id": "3df0e9e3",
   "metadata": {},
   "source": [
    "## Exercise 1 :  Do you know why?"
   ]
  },
  {
   "cell_type": "markdown",
   "id": "7e895348",
   "metadata": {},
   "source": [
    "Even though there is no else statement, as long as name != 'Batman', the greeting function will not return 'Hello Batman! So, nice to meet you!'. The function will continue to move on to the next line of code and return f'Hello {name}!'\n",
    "\n",
    "\n"
   ]
  },
  {
   "cell_type": "markdown",
   "id": "60a36407",
   "metadata": {},
   "source": [
    "## Exercise 2 :  Calculator functions"
   ]
  },
  {
   "cell_type": "code",
   "execution_count": 8,
   "id": "5fa64bb0",
   "metadata": {},
   "outputs": [
    {
     "data": {
      "text/plain": [
       "True"
      ]
     },
     "execution_count": 8,
     "metadata": {},
     "output_type": "execute_result"
    }
   ],
   "source": [
    "y=np.array([64, 0, 56, 24, 73])\n",
    "y == 0\n",
    "\n",
    "np.any(y)"
   ]
  },
  {
   "cell_type": "code",
   "execution_count": 12,
   "id": "e183b4c5",
   "metadata": {},
   "outputs": [
    {
     "name": "stdout",
     "output_type": "stream",
     "text": [
      "[100 100 100 100 100]\n",
      "[-28 -32 -12  52 -46]\n",
      "[2304 2244 2464 1824 1971]\n",
      "[0.5625     0.51515152 0.78571429 3.16666667 0.36986301]\n"
     ]
    }
   ],
   "source": [
    "def add(x, y):\n",
    "    return x + y\n",
    "\n",
    "def subtract(x, y):\n",
    "    return x - y\n",
    "\n",
    "def multiply(x, y):\n",
    "    return x * y\n",
    "\n",
    "def divide(x, y):\n",
    "    if np.any(y == 0):\n",
    "        exit()\n",
    "    else:\n",
    "        return x / y\n",
    "    \n",
    "x = np.array([36, 34, 44, 76, 27])\n",
    "y = np.array([64, 66, 56, 24, 73])\n",
    "\n",
    "print(add(x, y))\n",
    "print(subtract(x, y))\n",
    "print(multiply(x, y))\n",
    "print(divide(x, y))"
   ]
  },
  {
   "cell_type": "markdown",
   "id": "5218301a",
   "metadata": {},
   "source": [
    "## Exercise 3 :  max_info() with NumPy"
   ]
  },
  {
   "cell_type": "code",
   "execution_count": 13,
   "id": "6520a70b",
   "metadata": {},
   "outputs": [
    {
     "data": {
      "text/plain": [
       "(83, 2)"
      ]
     },
     "execution_count": 13,
     "metadata": {},
     "output_type": "execute_result"
    }
   ],
   "source": [
    "def max_info(numbers):\n",
    "    return np.max(numbers), np.argmax(numbers)\n",
    "\n",
    "numbers = [40, 27, 83, 44, 74, 51, 76, 77, 10, 49]\n",
    "\n",
    "max_info(numbers)"
   ]
  }
 ],
 "metadata": {
  "kernelspec": {
   "display_name": "Python 3 (ipykernel)",
   "language": "python",
   "name": "python3"
  },
  "language_info": {
   "codemirror_mode": {
    "name": "ipython",
    "version": 3
   },
   "file_extension": ".py",
   "mimetype": "text/x-python",
   "name": "python",
   "nbconvert_exporter": "python",
   "pygments_lexer": "ipython3",
   "version": "3.10.8"
  },
  "toc": {
   "base_numbering": 1,
   "nav_menu": {},
   "number_sections": true,
   "sideBar": true,
   "skip_h1_title": false,
   "title_cell": "Table of Contents",
   "title_sidebar": "Contents",
   "toc_cell": false,
   "toc_position": {},
   "toc_section_display": true,
   "toc_window_display": false
  },
  "varInspector": {
   "cols": {
    "lenName": 16,
    "lenType": 16,
    "lenVar": 40
   },
   "kernels_config": {
    "python": {
     "delete_cmd_postfix": "",
     "delete_cmd_prefix": "del ",
     "library": "var_list.py",
     "varRefreshCmd": "print(var_dic_list())"
    },
    "r": {
     "delete_cmd_postfix": ") ",
     "delete_cmd_prefix": "rm(",
     "library": "var_list.r",
     "varRefreshCmd": "cat(var_dic_list()) "
    }
   },
   "types_to_exclude": [
    "module",
    "function",
    "builtin_function_or_method",
    "instance",
    "_Feature"
   ],
   "window_display": false
  },
  "vscode": {
   "interpreter": {
    "hash": "31f2aee4e71d21fbe5cf8b01ff0e069b9275f58929596ceb00d14d90e3e16cd6"
   }
  }
 },
 "nbformat": 4,
 "nbformat_minor": 5
}
