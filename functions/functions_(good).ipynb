{
 "cells": [
  {
   "cell_type": "markdown",
   "id": "123456",
   "metadata": {},
   "source": [
    "<div style=\"text-align:left;font-size:2em\"><span style=\"font-weight:bolder;font-size:1.25em\">SP2273 | Learning Portfolio</span><br><br><span style=\"font-weight:bold;color:darkred\">Functions (Good)</span></div>"
   ]
  },
  {
   "cell_type": "markdown",
   "id": "0a80aeec",
   "metadata": {},
   "source": [
    "## 1 Check, balances and contingencies"
   ]
  },
  {
   "cell_type": "markdown",
   "id": "e0dd5367",
   "metadata": {},
   "source": [
    "Pre-empting problems is necessary, such as checking for zero division related to the divided() function. This is because users and programmers are not infallible, and you cannot think of everything that can go wrong"
   ]
  },
  {
   "cell_type": "markdown",
   "id": "4e36b736",
   "metadata": {},
   "source": [
    "### 1.1 assert"
   ]
  },
  {
   "cell_type": "code",
   "execution_count": 6,
   "id": "2b4e2158",
   "metadata": {},
   "outputs": [],
   "source": [
    "# Python has a command assert that can check a condition and halt the execution if necessary\n",
    "#Also has option of printing a message\n",
    "\n",
    "#The basic syntax is as follows:\n",
    "# assert condition-to-check, message\n",
    "\n",
    "#assert stops the flow if the condition fails. For e.g.:\n",
    "#assert x >= 0, \"x is becoming negative!\"\n",
    "\n",
    "#The programme will run as long as the condition is True.\n",
    "#If it fails, an AssertationError is raised, and the programme stops running\n",
    "#Following will run without a problem\n",
    "x = 10\n",
    "assert x >= 0, \"x is becoming negative!\""
   ]
  },
  {
   "cell_type": "code",
   "execution_count": 4,
   "id": "bb0e0e11",
   "metadata": {},
   "outputs": [
    {
     "ename": "AssertionError",
     "evalue": "x is becoming negative!",
     "output_type": "error",
     "traceback": [
      "\u001b[0;31m---------------------------------------------------------------------------\u001b[0m",
      "\u001b[0;31mAssertionError\u001b[0m                            Traceback (most recent call last)",
      "Cell \u001b[0;32mIn[4], line 3\u001b[0m\n\u001b[1;32m      1\u001b[0m \u001b[38;5;66;03m#But not the following\u001b[39;00m\n\u001b[1;32m      2\u001b[0m x \u001b[38;5;241m=\u001b[39m \u001b[38;5;241m-\u001b[39m\u001b[38;5;241m1\u001b[39m\n\u001b[0;32m----> 3\u001b[0m \u001b[38;5;28;01massert\u001b[39;00m x \u001b[38;5;241m>\u001b[39m\u001b[38;5;241m=\u001b[39m \u001b[38;5;241m0\u001b[39m, \u001b[38;5;124m\"\u001b[39m\u001b[38;5;124mx is becoming negative!\u001b[39m\u001b[38;5;124m\"\u001b[39m\n",
      "\u001b[0;31mAssertionError\u001b[0m: x is becoming negative!"
     ]
    }
   ],
   "source": [
    "#But not the following\n",
    "x = -1\n",
    "assert x >= 0, \"x is becoming negative!\""
   ]
  },
  {
   "cell_type": "markdown",
   "id": "95a71b80",
   "metadata": {},
   "source": [
    "### 1.2 try-except"
   ]
  },
  {
   "cell_type": "markdown",
   "id": "8d38e007",
   "metadata": {},
   "source": [
    "A technical name for things going wrong is **exceptions**. Division by zero will raise a ZeroDivisionError. Exception left unhandled will halt programme. Python offers 'try-except' structure to catch and handle exceptions\n",
    "\n",
    "try-except syntax can also be used to ensure your programme is able to handle some situations beyond control. For example, when using Python to speak to LumiNUS server, cna use try-except to handle situations when the server does not respond"
   ]
  },
  {
   "cell_type": "code",
   "execution_count": 8,
   "id": "5272bbcd",
   "metadata": {},
   "outputs": [
    {
     "name": "stdout",
     "output_type": "stream",
     "text": [
      "Give me a number and I will calculate its square.qrejn\n"
     ]
    },
    {
     "ename": "ValueError",
     "evalue": "invalid literal for int() with base 10: 'qrejn'",
     "output_type": "error",
     "traceback": [
      "\u001b[0;31m---------------------------------------------------------------------------\u001b[0m",
      "\u001b[0;31mValueError\u001b[0m                                Traceback (most recent call last)",
      "Cell \u001b[0;32mIn[8], line 5\u001b[0m\n\u001b[1;32m      1\u001b[0m \u001b[38;5;66;03m#to use the try-except flow control statement\u001b[39;00m\n\u001b[1;32m      2\u001b[0m \n\u001b[1;32m      3\u001b[0m \u001b[38;5;66;03m#we can get a user response using the input() function\u001b[39;00m\n\u001b[1;32m      4\u001b[0m number\u001b[38;5;241m=\u001b[39m\u001b[38;5;28minput\u001b[39m(\u001b[38;5;124m\"\u001b[39m\u001b[38;5;124mGive me a number and I will calculate its square.\u001b[39m\u001b[38;5;124m\"\u001b[39m)\n\u001b[0;32m----> 5\u001b[0m square\u001b[38;5;241m=\u001b[39m\u001b[38;5;28;43mint\u001b[39;49m\u001b[43m(\u001b[49m\u001b[43mnumber\u001b[49m\u001b[43m)\u001b[49m\u001b[38;5;241m*\u001b[39m\u001b[38;5;241m*\u001b[39m\u001b[38;5;241m2\u001b[39m              \u001b[38;5;66;03m# Convert English to number\u001b[39;00m\n\u001b[1;32m      6\u001b[0m \u001b[38;5;28mprint\u001b[39m(\u001b[38;5;124mf\u001b[39m\u001b[38;5;124m'\u001b[39m\u001b[38;5;124mThe square of \u001b[39m\u001b[38;5;132;01m{\u001b[39;00mnumber\u001b[38;5;132;01m}\u001b[39;00m\u001b[38;5;124m is \u001b[39m\u001b[38;5;132;01m{\u001b[39;00msquare\u001b[38;5;132;01m}\u001b[39;00m\u001b[38;5;124m!\u001b[39m\u001b[38;5;124m'\u001b[39m)\n\u001b[1;32m      8\u001b[0m \u001b[38;5;66;03m#This works if the typecasting int(number) makes sense. But what if the input is not a number but something else like 'qreqe'?\u001b[39;00m\n",
      "\u001b[0;31mValueError\u001b[0m: invalid literal for int() with base 10: 'qrejn'"
     ]
    }
   ],
   "source": [
    "#to use the try-except flow control statement\n",
    "\n",
    "#we can get a user response using the input() function\n",
    "number=input(\"Give me a number and I will calculate its square.\")\n",
    "square=int(number)**2              # Convert English to number\n",
    "print(f'The square of {number} is {square}!')\n",
    "\n",
    "#This works if the typecasting int(number) makes sense. But what if the input is not a number but something else like 'qreqe'?"
   ]
  },
  {
   "cell_type": "code",
   "execution_count": 4,
   "id": "71c4077d",
   "metadata": {},
   "outputs": [
    {
     "name": "stdout",
     "output_type": "stream",
     "text": [
      "Give me a number and I will calculate its square.dqjkq \n",
      "Oh oh! I cannot square dqjkq !\n"
     ]
    }
   ],
   "source": [
    "#Use the try-except to get around this problem\n",
    "try:\n",
    "    number=input(\"Give me a number and I will calculate its square.\")\n",
    "    square=int(number)**2\n",
    "    print(f'The square of {number} is {square}!')\n",
    "except:\n",
    "    print(f\"Oh oh! I cannot square {number}!\")"
   ]
  },
  {
   "cell_type": "markdown",
   "id": "f8c9580d",
   "metadata": {},
   "source": [
    "## 2 Some loose ends"
   ]
  },
  {
   "cell_type": "markdown",
   "id": "d1745daa",
   "metadata": {},
   "source": [
    "### 2.1 Positional, keyword and default arguments"
   ]
  },
  {
   "cell_type": "markdown",
   "id": "2043ebda",
   "metadata": {},
   "source": [
    "In the past chapter, two styles of passing arguments to the function greeting() was used, greeting('Super Man') or greeting(name='Super Man'). \n",
    "\n",
    "There are three 'ways' to pass a value to an argument. They are called **positional**, **keyword** or **default**.\n"
   ]
  },
  {
   "cell_type": "code",
   "execution_count": 2,
   "id": "514fed69",
   "metadata": {},
   "outputs": [],
   "source": [
    "#To make this clearer, consider the following function:\n",
    "\n",
    "def funny_add(a, b, c=1):\n",
    "    return a + 10*b + 100*c"
   ]
  },
  {
   "cell_type": "markdown",
   "id": "3ee93183",
   "metadata": {},
   "source": [
    "If I call the function using funny_add(1, 2, 3), I am assigning 1, 2, 3 to a, b, c using the positional order of the arguments\n",
    "\n",
    "Another way is to explicity specify the keyword to assign the values by calling the function as funny_add(c=3, b=1, a=2) (Order does not matter)\n",
    "\n",
    "Since c is optional, can choose not to specify it provided I want c to be 1"
   ]
  },
  {
   "cell_type": "code",
   "execution_count": 3,
   "id": "c921180f",
   "metadata": {},
   "outputs": [
    {
     "data": {
      "text/plain": [
       "121"
      ]
     },
     "execution_count": 3,
     "metadata": {},
     "output_type": "execute_result"
    }
   ],
   "source": [
    "#Below are example fo how one can combine these three styles.\n",
    "# However, keyword followed by positional confuses Python and won't work\n",
    "\n",
    "funny_add(1, 2)           # Two positional, 1 default\n",
    "#> 121\n",
    "funny_add(1, 2, 3)        # Three positional\n",
    "#> 321\n",
    "funny_add(a=1, b=2)       # Two keyword, 1 default\n",
    "#> 121\n",
    "funny_add(c=3, b=1, a=2)  # Three keyword\n",
    "#> 312\n",
    "funny_add(1, c=3, b=2)    # One positional, 2 keyword\n",
    "#> 321\n",
    "funny_add(1, b=2)         # One positional, 1 keyword, 1 default\n",
    "#> 121"
   ]
  },
  {
   "cell_type": "code",
   "execution_count": 5,
   "id": "96d01354",
   "metadata": {},
   "outputs": [
    {
     "ename": "SyntaxError",
     "evalue": "positional argument follows keyword argument (3662227911.py, line 3)",
     "output_type": "error",
     "traceback": [
      "\u001b[0;36m  Cell \u001b[0;32mIn[5], line 3\u001b[0;36m\u001b[0m\n\u001b[0;31m    funny_add(a=2, 1)         # Won't work.\u001b[0m\n\u001b[0m                    ^\u001b[0m\n\u001b[0;31mSyntaxError\u001b[0m\u001b[0;31m:\u001b[0m positional argument follows keyword argument\n"
     ]
    }
   ],
   "source": [
    "#The following will not work because Python cannot figure out the position of 1\n",
    "\n",
    "funny_add(a=2, 1)         # Won't work.\n",
    "                          # Keywords cannot be followed by \n",
    "                          # positional"
   ]
  },
  {
   "cell_type": "markdown",
   "id": "52412248",
   "metadata": {},
   "source": [
    "### 2.2 Docstrings"
   ]
  },
  {
   "cell_type": "markdown",
   "id": "a28804fb",
   "metadata": {},
   "source": [
    "Python has a **docstring** feature that allows us to document what a function does inside the function. This documentation is displayed when we ask Python to show us the help info using help()."
   ]
  },
  {
   "cell_type": "code",
   "execution_count": 7,
   "id": "fb08d1de",
   "metadata": {},
   "outputs": [],
   "source": [
    "#An example:\n",
    "def funny_add(a, b, c=1):\n",
    "    '''\n",
    "    A test function to demonstrate how \n",
    "    positional, keyword and default arguments \n",
    "    work.\n",
    "    '''\n",
    "    return a + 10*b + 100*c"
   ]
  },
  {
   "cell_type": "code",
   "execution_count": 8,
   "id": "eb18d9fe",
   "metadata": {},
   "outputs": [
    {
     "name": "stdout",
     "output_type": "stream",
     "text": [
      "Help on function funny_add in module __main__:\n",
      "\n",
      "funny_add(a, b, c=1)\n",
      "    A test function to demonstrate how \n",
      "    positional, keyword and default arguments \n",
      "    work.\n",
      "\n"
     ]
    }
   ],
   "source": [
    "#A docstring needs to be sandwiched between a pair of ''' or \"\"\"\" and can span multiple line\n",
    "\n",
    "help(funny_add)"
   ]
  },
  {
   "cell_type": "markdown",
   "id": "a5f26b37",
   "metadata": {},
   "source": [
    "### 2.3 Function are first class citizens"
   ]
  },
  {
   "cell_type": "markdown",
   "id": "afa3ceee",
   "metadata": {},
   "source": [
    "Python functions are called first-class citizens because they have the same privileges as variables. This opens up very useful possibilities for scientific programming because we can pass a function as an argument to another function\n"
   ]
  },
  {
   "cell_type": "code",
   "execution_count": 9,
   "id": "64be4e00",
   "metadata": {},
   "outputs": [
    {
     "data": {
      "text/plain": [
       "-1.0"
      ]
     },
     "execution_count": 9,
     "metadata": {},
     "output_type": "execute_result"
    }
   ],
   "source": [
    "#Consider this:\n",
    "\n",
    "def my_function(angle, trig_function):\n",
    "        return trig_function(angle)\n",
    "\n",
    "# Let's use the function\n",
    "my_function(np.pi/2, np.sin)        \n",
    "#> 1.0\n",
    "my_function(np.pi/2, np.cos)        \n",
    "#> 6.123233995736766e-17\n",
    "my_function(np.pi/2, lambda x: np.cos(2*x))  \n",
    "#> -1.0\n",
    "\n",
    "#When passing a function as an argument, we do not include the parenthesis()"
   ]
  },
  {
   "cell_type": "markdown",
   "id": "1e2f0927",
   "metadata": {},
   "source": [
    "### 2.4 More unpacking"
   ]
  },
  {
   "cell_type": "code",
   "execution_count": 10,
   "id": "ec08bfa7",
   "metadata": {},
   "outputs": [
    {
     "name": "stdout",
     "output_type": "stream",
     "text": [
      "1 2 3\n",
      "1 2 3\n",
      "1 [2, 3, 4] 5\n",
      "1 5\n"
     ]
    }
   ],
   "source": [
    "#There is more to unpacking. Unpacking can make extracting information from lists and arrays a breeze\n",
    "\n",
    "x, y, z = [1, 2, 3]\n",
    "print(x, y, z)\n",
    "\n",
    "x, y, z = np.array([1, 2, 3])\n",
    "print(x, y, z)\n",
    "\n",
    "x, *y, z = np.array([1, 2, 3, 4, 5])\n",
    "print(x, y, z)\n",
    "#Adding a * will allocate the list between the first and last elements to y\n",
    "\n",
    "x, *_, y = [1, 2, 3, 4, 5]\n",
    "print(x, y)"
   ]
  },
  {
   "cell_type": "markdown",
   "id": "3878ce3b",
   "metadata": {},
   "source": [
    "## Exercise 1 :  A better calculator I"
   ]
  },
  {
   "cell_type": "code",
   "execution_count": 35,
   "id": "7e9af5b7",
   "metadata": {},
   "outputs": [],
   "source": [
    "def add(x, y):\n",
    "    return x + y\n",
    "\n",
    "def subtract(x, y):\n",
    "    return x - y\n",
    "\n",
    "def multiply(x, y):\n",
    "    return x * y\n",
    "\n",
    "def divide(x, y):\n",
    "    assert np.all(y != 0), \"y is zero!\"\n",
    "    return x / y"
   ]
  },
  {
   "cell_type": "markdown",
   "id": "97d496c0",
   "metadata": {},
   "source": [
    "## Exercise 2 :  A better calculator II"
   ]
  },
  {
   "cell_type": "code",
   "execution_count": 36,
   "id": "72143dd6",
   "metadata": {},
   "outputs": [],
   "source": [
    "def add(x, y):\n",
    "    return x + y\n",
    "\n",
    "def subtract(x, y):\n",
    "    return x - y\n",
    "\n",
    "def multiply(x, y):\n",
    "    return x * y\n",
    "\n",
    "def divide(x, y):\n",
    "    try:\n",
    "        return x / y\n",
    "    except:\n",
    "        print(f\"Oh no! I cannot divide by {y}\")"
   ]
  }
 ],
 "metadata": {
  "kernelspec": {
   "display_name": "Python 3 (ipykernel)",
   "language": "python",
   "name": "python3"
  },
  "language_info": {
   "codemirror_mode": {
    "name": "ipython",
    "version": 3
   },
   "file_extension": ".py",
   "mimetype": "text/x-python",
   "name": "python",
   "nbconvert_exporter": "python",
   "pygments_lexer": "ipython3",
   "version": "3.10.8"
  },
  "toc": {
   "base_numbering": 1,
   "nav_menu": {},
   "number_sections": true,
   "sideBar": true,
   "skip_h1_title": false,
   "title_cell": "Table of Contents",
   "title_sidebar": "Contents",
   "toc_cell": false,
   "toc_position": {},
   "toc_section_display": true,
   "toc_window_display": false
  },
  "varInspector": {
   "cols": {
    "lenName": 16,
    "lenType": 16,
    "lenVar": 40
   },
   "kernels_config": {
    "python": {
     "delete_cmd_postfix": "",
     "delete_cmd_prefix": "del ",
     "library": "var_list.py",
     "varRefreshCmd": "print(var_dic_list())"
    },
    "r": {
     "delete_cmd_postfix": ") ",
     "delete_cmd_prefix": "rm(",
     "library": "var_list.r",
     "varRefreshCmd": "cat(var_dic_list()) "
    }
   },
   "types_to_exclude": [
    "module",
    "function",
    "builtin_function_or_method",
    "instance",
    "_Feature"
   ],
   "window_display": false
  },
  "vscode": {
   "interpreter": {
    "hash": "31f2aee4e71d21fbe5cf8b01ff0e069b9275f58929596ceb00d14d90e3e16cd6"
   }
  }
 },
 "nbformat": 4,
 "nbformat_minor": 5
}
