{
 "cells": [
  {
   "cell_type": "markdown",
   "id": "123456",
   "metadata": {},
   "source": [
    "<div style=\"text-align:left;font-size:2em\"><span style=\"font-weight:bolder;font-size:1.25em\">SP2273 | Learning Portfolio</span><br><br><span style=\"font-weight:bold;color:darkred\">Using Jupyter (Good)</span></div>"
   ]
  },
  {
   "cell_type": "markdown",
   "id": "5ec26005",
   "metadata": {},
   "source": [
    "## 1 Some tips and tricks"
   ]
  },
  {
   "cell_type": "markdown",
   "id": "38c64e83",
   "metadata": {},
   "source": [
    "### 1.1 Keyboard Shortcuts"
   ]
  },
  {
   "cell_type": "markdown",
   "id": "5320f5f9",
   "metadata": {},
   "source": [
    "Action\tShortcut\n",
    "\n",
    "Run cell\tCTRL + ENTER or CMD + ENTER\n",
    "\n",
    "Run cell and move to the next\tSHIFT + ENTER\n",
    "\n",
    "Convert cell to code cell\tESC + Y\n",
    "\n",
    "Convert cell to Markdown cell\tESC + M\n",
    "\n",
    "Create new cell\tESC + A (above) ESC + B (below)\n",
    "\n",
    "Copy cell(s)\tESC + C\n",
    "\n",
    "Paste cell(s)\tESC + V\n",
    "\n",
    "Merge cells\tESC + M\n",
    "\n",
    "Delete cell\tESC + D + D\n",
    "\n",
    "Show shortcuts\tESC + H"
   ]
  },
  {
   "cell_type": "markdown",
   "id": "f44f2de3",
   "metadata": {},
   "source": [
    "### 1.2 Shell commands"
   ]
  },
  {
   "cell_type": "code",
   "execution_count": 3,
   "id": "479a4e4a",
   "metadata": {},
   "outputs": [
    {
     "name": "stdout",
     "output_type": "stream",
     "text": [
      "/Users/yongfongsin/Documents/GitHub/learning-portfolio-yfongsin/using jupyter\r\n"
     ]
    }
   ],
   "source": [
    "\n",
    "# Your code here\n",
    "!pwd"
   ]
  },
  {
   "cell_type": "markdown",
   "id": "8765519d",
   "metadata": {},
   "source": [
    "## 2 Jupyter Extensions"
   ]
  },
  {
   "cell_type": "markdown",
   "id": "a3c07d6c",
   "metadata": {},
   "source": [
    "### 2.1 Installing the extensions"
   ]
  },
  {
   "cell_type": "code",
   "execution_count": null,
   "id": "1d75e729",
   "metadata": {},
   "outputs": [
    {
     "name": "stdout",
     "output_type": "stream",
     "text": [
      "Retrieving notices: ...working... done\n",
      "Collecting package metadata (current_repodata.json): done\n",
      "Solving environment: done\n",
      "\n",
      "## Package Plan ##\n",
      "\n",
      "  environment location: /Users/yongfongsin/miniconda3\n",
      "\n",
      "  added / updated specs:\n",
      "    - jupyter_contrib_nbextensions\n",
      "\n",
      "\n",
      "The following packages will be downloaded:\n",
      "\n",
      "    package                    |            build\n",
      "    ---------------------------|-----------------\n",
      "    conda-22.11.1              |  py310hbe9552e_1         891 KB  conda-forge\n",
      "    jupyter_contrib_core-0.4.0 |     pyhd8ed1ab_0          18 KB  conda-forge\n",
      "    jupyter_contrib_nbextensions-0.7.0|     pyhd8ed1ab_0        20.4 MB  conda-forge\n",
      "    jupyter_highlight_selected_word-0.2.0|py310hbe9552e_1005          15 KB  conda-forge\n",
      "    jupyter_latex_envs-1.4.6   |  pyhd8ed1ab_1002         735 KB  conda-forge\n",
      "    jupyter_nbextensions_configurator-0.6.1|     pyhd8ed1ab_0         450 KB  conda-forge\n",
      "    libsqlite-3.40.0           |       h76d750c_0         804 KB  conda-forge\n",
      "    libzlib-1.2.13             |       h03a7124_4          50 KB  conda-forge\n",
      "    lxml-4.9.1                 |  py310h2fae87d_0         1.2 MB\n",
      "    python-3.10.8              |hf452327_0_cpython        10.1 MB  conda-forge\n",
      "    pyyaml-6.0                 |  py310h8e9501a_5         159 KB  conda-forge\n",
      "    yaml-0.2.5                 |       h3422bc3_2          86 KB  conda-forge\n",
      "    zlib-1.2.13                |       h03a7124_4          79 KB  conda-forge\n",
      "    ------------------------------------------------------------\n",
      "                                           Total:        34.9 MB\n",
      "\n",
      "The following NEW packages will be INSTALLED:\n",
      "\n",
      "  jupyter_contrib_c~ conda-forge/noarch::jupyter_contrib_core-0.4.0-pyhd8ed1ab_0 \n",
      "  jupyter_contrib_n~ conda-forge/noarch::jupyter_contrib_nbextensions-0.7.0-pyhd8ed1ab_0 \n",
      "  jupyter_highlight~ conda-forge/osx-arm64::jupyter_highlight_selected_word-0.2.0-py310hbe9552e_1005 \n",
      "  jupyter_latex_envs conda-forge/noarch::jupyter_latex_envs-1.4.6-pyhd8ed1ab_1002 \n",
      "  jupyter_nbextensi~ conda-forge/noarch::jupyter_nbextensions_configurator-0.6.1-pyhd8ed1ab_0 \n",
      "  libsqlite          conda-forge/osx-arm64::libsqlite-3.40.0-h76d750c_0 \n",
      "  libzlib            conda-forge/osx-arm64::libzlib-1.2.13-h03a7124_4 \n",
      "  lxml               pkgs/main/osx-arm64::lxml-4.9.1-py310h2fae87d_0 \n",
      "  pyyaml             conda-forge/osx-arm64::pyyaml-6.0-py310h8e9501a_5 \n",
      "  yaml               conda-forge/osx-arm64::yaml-0.2.5-h3422bc3_2 \n",
      "\n",
      "The following packages will be UPDATED:\n",
      "\n",
      "  zlib                    pkgs/main::zlib-1.2.13-h5a0b063_0 --> conda-forge::zlib-1.2.13-h03a7124_4 \n",
      "\n",
      "The following packages will be SUPERSEDED by a higher-priority channel:\n",
      "\n",
      "  conda              pkgs/main::conda-22.11.1-py310hca03da~ --> conda-forge::conda-22.11.1-py310hbe9552e_1 \n",
      "  python                pkgs/main::python-3.10.8-hc0d8a6c_1 --> conda-forge::python-3.10.8-hf452327_0_cpython \n",
      "\n",
      "\n",
      "Proceed ([y]/n)? "
     ]
    }
   ],
   "source": [
    "\n",
    "# Your code here\n",
    "!conda install -c conda-forge jupyter_contrib_nbextensions"
   ]
  },
  {
   "cell_type": "markdown",
   "id": "3be6923d",
   "metadata": {},
   "source": [
    "### 2.2 Enabling the extensions"
   ]
  },
  {
   "cell_type": "code",
   "execution_count": null,
   "id": "0dc84400",
   "metadata": {},
   "outputs": [],
   "source": [
    "\n",
    "# Your code here\n"
   ]
  },
  {
   "cell_type": "markdown",
   "id": "abe673a7",
   "metadata": {},
   "source": [
    "## 3 Shell Magic"
   ]
  },
  {
   "cell_type": "markdown",
   "id": "aa7d0aa1",
   "metadata": {},
   "source": [
    "## 4 The Kernel"
   ]
  },
  {
   "cell_type": "markdown",
   "id": "412c0761",
   "metadata": {},
   "source": [
    "## Exercise 1 :  A new shortcut"
   ]
  },
  {
   "cell_type": "code",
   "execution_count": null,
   "id": "84f93683",
   "metadata": {},
   "outputs": [],
   "source": [
    "\n",
    "\n",
    "\n",
    "# Your solution here\n",
    "\n",
    "\n"
   ]
  }
 ],
 "metadata": {
  "kernelspec": {
   "display_name": "Python 3 (ipykernel)",
   "language": "python",
   "name": "python3"
  },
  "language_info": {
   "codemirror_mode": {
    "name": "ipython",
    "version": 3
   },
   "file_extension": ".py",
   "mimetype": "text/x-python",
   "name": "python",
   "nbconvert_exporter": "python",
   "pygments_lexer": "ipython3",
   "version": "3.10.8"
  },
  "toc": {
   "base_numbering": 1,
   "nav_menu": {},
   "number_sections": true,
   "sideBar": true,
   "skip_h1_title": false,
   "title_cell": "Table of Contents",
   "title_sidebar": "Contents",
   "toc_cell": false,
   "toc_position": {},
   "toc_section_display": true,
   "toc_window_display": false
  },
  "vscode": {
   "interpreter": {
    "hash": "31f2aee4e71d21fbe5cf8b01ff0e069b9275f58929596ceb00d14d90e3e16cd6"
   }
  }
 },
 "nbformat": 4,
 "nbformat_minor": 5
}
