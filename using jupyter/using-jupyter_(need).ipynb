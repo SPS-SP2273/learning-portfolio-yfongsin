{
 "cells": [
  {
   "cell_type": "code",
   "execution_count": 1,
   "id": "15a4df65",
   "metadata": {},
   "outputs": [
    {
     "name": "stdout",
     "output_type": "stream",
     "text": [
      "Hello World!\n"
     ]
    }
   ],
   "source": [
    "print('Hello World!')"
   ]
  },
  {
   "cell_type": "markdown",
   "id": "9f50c69f",
   "metadata": {},
   "source": [
    "The ships hung in the sky in much the same way that bricks don’t."
   ]
  },
  {
   "cell_type": "markdown",
   "id": "9f919d6c",
   "metadata": {},
   "source": [
    "The ships *hung in the sky* in much the same way that **bricks don't.** <sup>1</sup><sub>QUOTE</sub>"
   ]
  },
  {
   "cell_type": "markdown",
   "id": "f66be836",
   "metadata": {},
   "source": [
    "# The largest heading\n",
    "## The second-largest heading\n",
    "### The third-largest heading\n",
    "###### The smallest heading"
   ]
  },
  {
   "cell_type": "markdown",
   "id": "0a30f73c",
   "metadata": {},
   "source": [
    "```python\n",
    "print('Hello World!')\n",
    "```"
   ]
  },
  {
   "cell_type": "markdown",
   "id": "dee9550e",
   "metadata": {},
   "source": [
    "[SP2273 Website](https://sps.nus.edu.sg/sp2273)"
   ]
  },
  {
   "cell_type": "markdown",
   "id": "4b0e16cd",
   "metadata": {},
   "source": [
    "![](https://nus.edu.sg/images/default-source/base/logo.png)"
   ]
  },
  {
   "cell_type": "markdown",
   "id": "c9bc0fa1",
   "metadata": {},
   "source": [
    "| A    |  B   |    C |\n",
    "| :--- | :--: | ---: |\n",
    "| a1   |  b1  |   c1 |\n",
    "| a2   |  b2  |   c2 |\n",
    "| a3   |  b3  |   c3 |"
   ]
  },
  {
   "cell_type": "markdown",
   "id": "eb5770dc",
   "metadata": {},
   "source": [
    "1. Master Yoda\n",
    "1. Luke Skywalker\n",
    "1. Anakin Skywalker"
   ]
  },
  {
   "cell_type": "markdown",
   "id": "97cb226c",
   "metadata": {},
   "source": [
    "- Master Yoda\n",
    "- Luke Skywalker\n",
    "- Anakin Skywalker"
   ]
  },
  {
   "cell_type": "markdown",
   "id": "210bc2d8",
   "metadata": {},
   "source": [
    "1. Master Yoda\n",
    "    1. Was a Jedi\n",
    "    1. Was a bit green\n",
    "1. Luke Skywalker\n",
    "   1. Was a Jedi\n",
    "   1. Is Anakin's son.\n",
    "1. Anakin Skywalker\n",
    "   1. Was a Jedi then became a baddie\n",
    "   1. Is famous for saying 'Luke, I am your father'"
   ]
  },
  {
   "cell_type": "markdown",
   "id": "351e2eb0",
   "metadata": {},
   "source": [
    "1. Master Yoda\n",
    "   - Was a Jedi\n",
    "   - Was a bit green\n",
    "2. Luke Skywalker\n",
    "   - Was a Jedi\n",
    "   - Is Anakin's son.\n",
    "3. Anakin Skywalker\n",
    "   - Was a Jedi then became a baddie\n",
    "   - Is famous for saying 'Luke, I am your father'"
   ]
  },
  {
   "cell_type": "markdown",
   "id": "c8e6df7b",
   "metadata": {},
   "source": [
    "$\\sqrt{b^2-4ac}$"
   ]
  },
  {
   "cell_type": "markdown",
   "id": "172823b7",
   "metadata": {},
   "source": [
    "$$\n",
    "x = \\dfrac{-b \\pm \\sqrt{b^2-4ac}}{2a}\n",
    "$$"
   ]
  },
  {
   "cell_type": "markdown",
   "id": "845c43d1",
   "metadata": {},
   "source": [
    "**Quadratic Equations**\n",
    "\n",
    "![](https://upload.wikimedia.org/wikipedia/commons/thumb/f/f8/Polynomialdeg2.svg/300px-Polynomialdeg2.svg.png)\n",
    "\n",
    "(Image from the [Wikipedia page on Quadratic equations](https://en.wikipedia.org/wiki/Quadratic_equation))\n",
    "\n",
    "**Introduction**\n",
    "\n",
    "The general form of a quadratic equation is:\n",
    "\n",
    "$$\n",
    "ax^2+bx+c=0\n",
    "$$\n",
    "\n",
    "**Solutions** Provided a \\ne 0, we can use an elementary algebraic method called [completing the square](https://en.wikipedia.org/wiki/Completing_the_square) to show that a quadratic equation has the following solution:\n",
    "\n",
    "$$\n",
    "x = \\dfrac{-b \\pm \\sqrt{b^2-4ac}}{2a}\n",
    "$$\n",
    "\n",
    "**Discriminant**\n",
    "\n",
    "The quantity $\\Delta = b^2 - 4ac$ is called the **discriminant** of the equation and decides the nature of its solutions. The table below shows the various possibilities.\n",
    "\n",
    "| **Discriminant** | **Roots** |\n",
    "|:---:|---|\n",
    "| $$\\Delta=b^2-4ac=0$$ | A single solution of $-b/(2a)$ |\n",
    "| $\\Delta=b^2-4ac>0$ | Two distinct solutions |\n",
    "| $\\Delta=b^2-4ac<0$ | No real solutions; both are complex. |"
   ]
  },
  {
   "cell_type": "markdown",
   "id": "ed714578",
   "metadata": {},
   "source": [
    "1. What is a **repository**?\n",
    "    - A repository is a folder to hold files and records the changes that to the files.\n",
    "2. Git keeps tracks of **changes** in the files in our repository.\n",
    "3. What is a **commit**?\n",
    "    - Commit is to specify the file changes that one wants to record to a local device, alongside a brief description to it.\n",
    "4. What is a **push**?\n",
    "    - A push is to share the commits recorded on the local device to the server.\n",
    "5. What is the difference between **GitHub** and **GitHub Desktop**?\n",
    "    - GitHub is a cloud-based server to manage repositories while GitHub Desktop is an application that allows user to interact with GitHub more comfortably through a GUI.\n",
    "6. Is there an 'opposite' to a **push**?\n",
    "    - The 'opposite' to a push is a pull that copies the changes made in the cloud onto the local device"
   ]
  }
 ],
 "metadata": {
  "kernelspec": {
   "display_name": "Python 3 (ipykernel)",
   "language": "python",
   "name": "python3"
  },
  "language_info": {
   "codemirror_mode": {
    "name": "ipython",
    "version": 3
   },
   "file_extension": ".py",
   "mimetype": "text/x-python",
   "name": "python",
   "nbconvert_exporter": "python",
   "pygments_lexer": "ipython3",
   "version": "3.10.8"
  }
 },
 "nbformat": 4,
 "nbformat_minor": 5
}
