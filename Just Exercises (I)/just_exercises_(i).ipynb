{
 "cells": [
  {
   "cell_type": "markdown",
   "id": "123456",
   "metadata": {},
   "source": [
    "<div style=\"text-align:left;font-size:2em\"><span style=\"font-weight:bolder;font-size:1.25em\">SP2273 | Learning Portfolio</span><br><br><span style=\"font-weight:bold;color:darkred\">Just Exercises (I)</span></div>"
   ]
  },
  {
   "cell_type": "markdown",
   "id": "b21b8a91",
   "metadata": {},
   "source": [
    "## Exercise 1 :  F-strings to the rescue"
   ]
  },
  {
   "cell_type": "code",
   "execution_count": 40,
   "id": "7ae81200",
   "metadata": {},
   "outputs": [
    {
     "name": "stdout",
     "output_type": "stream",
     "text": [
      "iii5iii\n"
     ]
    }
   ],
   "source": [
    "x = 5\n",
    "print(f\"{x:i^7}\")"
   ]
  },
  {
   "cell_type": "code",
   "execution_count": 41,
   "id": "a8657ab0",
   "metadata": {},
   "outputs": [
    {
     "name": "stdout",
     "output_type": "stream",
     "text": [
      "00001\n",
      "00002\n",
      "00003\n",
      "00004\n",
      "00005\n",
      "00006\n",
      "00007\n",
      "00008\n",
      "00009\n",
      "00010\n"
     ]
    }
   ],
   "source": [
    "#Question 1\n",
    "for i in range(10):\n",
    "    print(f\"{i+1:0>5}\")\n",
    "\n",
    "\n",
    "\n"
   ]
  },
  {
   "cell_type": "code",
   "execution_count": 44,
   "id": "09636cd3",
   "metadata": {},
   "outputs": [
    {
     "name": "stdout",
     "output_type": "stream",
     "text": [
      "001          +\n",
      "002         ++\n",
      "003        +++\n",
      "004       ++++\n",
      "005      +++++\n",
      "006     ++++++\n",
      "007    +++++++\n",
      "008   ++++++++\n",
      "009  +++++++++\n",
      "010 ++++++++++\n"
     ]
    }
   ],
   "source": [
    "#Question 2\n",
    "for i in range(10):\n",
    "    print(f\"{i+1:0>3}{' '*(10-i)}{'+' * (i+1)}\")"
   ]
  },
  {
   "cell_type": "code",
   "execution_count": 45,
   "id": "fd1b6a46",
   "metadata": {},
   "outputs": [
    {
     "name": "stdout",
     "output_type": "stream",
     "text": [
      "001 -+++++++++\n",
      "002 --++++++++\n",
      "003 ---+++++++\n",
      "004 ----++++++\n",
      "005 -----+++++\n",
      "006 ------++++\n",
      "007 -------+++\n",
      "008 --------++\n",
      "009 ---------+\n",
      "010 ----------\n"
     ]
    }
   ],
   "source": [
    "#Question 3\n",
    "for i in range(10):\n",
    "    print(f\"{i+1:0>3} {'-'*(i+1)}{'+' * (9-i)}\")"
   ]
  },
  {
   "cell_type": "code",
   "execution_count": 33,
   "id": "561119e9",
   "metadata": {},
   "outputs": [
    {
     "data": {
      "text/plain": [
       "['bruce_exploits.txt',\n",
       " 'bruce_enemies.txt',\n",
       " 'bruce_friends.txt',\n",
       " 'natasha_exploits.txt',\n",
       " 'natasha_enemies.txt',\n",
       " 'natasha_friends.txt',\n",
       " 'tony_exploits.txt',\n",
       " 'tony_enemies.txt',\n",
       " 'tony_friends.txt']"
      ]
     },
     "execution_count": 33,
     "metadata": {},
     "output_type": "execute_result"
    }
   ],
   "source": [
    "#Question 4\n",
    "\n",
    "names = ['bruce', 'natasha', 'tony']\n",
    "topics = ['exploits', 'enemies', 'friends']\n",
    "list = []\n",
    "for name in names:\n",
    "    for topic in topics:\n",
    "        list += [name + '_' + topic + '.txt']\n",
    "\n",
    "list"
   ]
  },
  {
   "cell_type": "code",
   "execution_count": 48,
   "id": "812dfd77",
   "metadata": {},
   "outputs": [
    {
     "data": {
      "text/plain": [
       "['data_sg_exp-01_trial-001.txt',\n",
       " 'data_sg_exp-01_trial-002.txt',\n",
       " 'data_sg_exp-01_trial-003.txt',\n",
       " 'data_sg_exp-01_trial-004.txt',\n",
       " 'data_sg_exp-01_trial-005.txt',\n",
       " 'data_sg_exp-01_trial-006.txt',\n",
       " 'data_sg_exp-01_trial-007.txt',\n",
       " 'data_sg_exp-01_trial-008.txt',\n",
       " 'data_sg_exp-01_trial-009.txt',\n",
       " 'data_sg_exp-01_trial-010.txt',\n",
       " 'data_sg_exp-01_trial-011.txt',\n",
       " 'data_sg_exp-01_trial-012.txt',\n",
       " 'data_sg_exp-01_trial-013.txt',\n",
       " 'data_sg_exp-01_trial-014.txt',\n",
       " 'data_sg_exp-01_trial-015.txt',\n",
       " 'data_sg_exp-01_trial-016.txt',\n",
       " 'data_sg_exp-01_trial-017.txt',\n",
       " 'data_sg_exp-01_trial-018.txt',\n",
       " 'data_sg_exp-01_trial-019.txt',\n",
       " 'data_sg_exp-01_trial-020.txt',\n",
       " 'data_sg_exp-01_trial-021.txt',\n",
       " 'data_sg_exp-01_trial-022.txt',\n",
       " 'data_sg_exp-01_trial-023.txt',\n",
       " 'data_sg_exp-01_trial-024.txt',\n",
       " 'data_sg_exp-01_trial-025.txt',\n",
       " 'data_sg_exp-01_trial-026.txt',\n",
       " 'data_sg_exp-01_trial-027.txt',\n",
       " 'data_sg_exp-01_trial-028.txt',\n",
       " 'data_sg_exp-01_trial-029.txt',\n",
       " 'data_sg_exp-01_trial-030.txt',\n",
       " 'data_sg_exp-01_trial-031.txt',\n",
       " 'data_sg_exp-01_trial-032.txt',\n",
       " 'data_sg_exp-01_trial-033.txt',\n",
       " 'data_sg_exp-01_trial-034.txt',\n",
       " 'data_sg_exp-01_trial-035.txt',\n",
       " 'data_sg_exp-01_trial-036.txt',\n",
       " 'data_sg_exp-01_trial-037.txt',\n",
       " 'data_sg_exp-01_trial-038.txt',\n",
       " 'data_sg_exp-01_trial-039.txt',\n",
       " 'data_sg_exp-01_trial-040.txt',\n",
       " 'data_sg_exp-01_trial-041.txt',\n",
       " 'data_sg_exp-01_trial-042.txt',\n",
       " 'data_sg_exp-01_trial-043.txt',\n",
       " 'data_sg_exp-01_trial-044.txt',\n",
       " 'data_sg_exp-01_trial-045.txt',\n",
       " 'data_sg_exp-01_trial-046.txt',\n",
       " 'data_sg_exp-01_trial-047.txt',\n",
       " 'data_sg_exp-01_trial-048.txt',\n",
       " 'data_sg_exp-01_trial-049.txt',\n",
       " 'data_sg_exp-01_trial-050.txt',\n",
       " 'data_sg_exp-02_trial-001.txt',\n",
       " 'data_sg_exp-02_trial-002.txt',\n",
       " 'data_sg_exp-02_trial-003.txt',\n",
       " 'data_sg_exp-02_trial-004.txt',\n",
       " 'data_sg_exp-02_trial-005.txt',\n",
       " 'data_sg_exp-02_trial-006.txt',\n",
       " 'data_sg_exp-02_trial-007.txt',\n",
       " 'data_sg_exp-02_trial-008.txt',\n",
       " 'data_sg_exp-02_trial-009.txt',\n",
       " 'data_sg_exp-02_trial-010.txt',\n",
       " 'data_sg_exp-02_trial-011.txt',\n",
       " 'data_sg_exp-02_trial-012.txt',\n",
       " 'data_sg_exp-02_trial-013.txt',\n",
       " 'data_sg_exp-02_trial-014.txt',\n",
       " 'data_sg_exp-02_trial-015.txt',\n",
       " 'data_sg_exp-02_trial-016.txt',\n",
       " 'data_sg_exp-02_trial-017.txt',\n",
       " 'data_sg_exp-02_trial-018.txt',\n",
       " 'data_sg_exp-02_trial-019.txt',\n",
       " 'data_sg_exp-02_trial-020.txt',\n",
       " 'data_sg_exp-02_trial-021.txt',\n",
       " 'data_sg_exp-02_trial-022.txt',\n",
       " 'data_sg_exp-02_trial-023.txt',\n",
       " 'data_sg_exp-02_trial-024.txt',\n",
       " 'data_sg_exp-02_trial-025.txt',\n",
       " 'data_sg_exp-02_trial-026.txt',\n",
       " 'data_sg_exp-02_trial-027.txt',\n",
       " 'data_sg_exp-02_trial-028.txt',\n",
       " 'data_sg_exp-02_trial-029.txt',\n",
       " 'data_sg_exp-02_trial-030.txt',\n",
       " 'data_sg_exp-02_trial-031.txt',\n",
       " 'data_sg_exp-02_trial-032.txt',\n",
       " 'data_sg_exp-02_trial-033.txt',\n",
       " 'data_sg_exp-02_trial-034.txt',\n",
       " 'data_sg_exp-02_trial-035.txt',\n",
       " 'data_sg_exp-02_trial-036.txt',\n",
       " 'data_sg_exp-02_trial-037.txt',\n",
       " 'data_sg_exp-02_trial-038.txt',\n",
       " 'data_sg_exp-02_trial-039.txt',\n",
       " 'data_sg_exp-02_trial-040.txt',\n",
       " 'data_sg_exp-02_trial-041.txt',\n",
       " 'data_sg_exp-02_trial-042.txt',\n",
       " 'data_sg_exp-02_trial-043.txt',\n",
       " 'data_sg_exp-02_trial-044.txt',\n",
       " 'data_sg_exp-02_trial-045.txt',\n",
       " 'data_sg_exp-02_trial-046.txt',\n",
       " 'data_sg_exp-02_trial-047.txt',\n",
       " 'data_sg_exp-02_trial-048.txt',\n",
       " 'data_sg_exp-02_trial-049.txt',\n",
       " 'data_sg_exp-02_trial-050.txt',\n",
       " 'data_sg_exp-03_trial-001.txt',\n",
       " 'data_sg_exp-03_trial-002.txt',\n",
       " 'data_sg_exp-03_trial-003.txt',\n",
       " 'data_sg_exp-03_trial-004.txt',\n",
       " 'data_sg_exp-03_trial-005.txt',\n",
       " 'data_sg_exp-03_trial-006.txt',\n",
       " 'data_sg_exp-03_trial-007.txt',\n",
       " 'data_sg_exp-03_trial-008.txt',\n",
       " 'data_sg_exp-03_trial-009.txt',\n",
       " 'data_sg_exp-03_trial-010.txt',\n",
       " 'data_sg_exp-03_trial-011.txt',\n",
       " 'data_sg_exp-03_trial-012.txt',\n",
       " 'data_sg_exp-03_trial-013.txt',\n",
       " 'data_sg_exp-03_trial-014.txt',\n",
       " 'data_sg_exp-03_trial-015.txt',\n",
       " 'data_sg_exp-03_trial-016.txt',\n",
       " 'data_sg_exp-03_trial-017.txt',\n",
       " 'data_sg_exp-03_trial-018.txt',\n",
       " 'data_sg_exp-03_trial-019.txt',\n",
       " 'data_sg_exp-03_trial-020.txt',\n",
       " 'data_sg_exp-03_trial-021.txt',\n",
       " 'data_sg_exp-03_trial-022.txt',\n",
       " 'data_sg_exp-03_trial-023.txt',\n",
       " 'data_sg_exp-03_trial-024.txt',\n",
       " 'data_sg_exp-03_trial-025.txt',\n",
       " 'data_sg_exp-03_trial-026.txt',\n",
       " 'data_sg_exp-03_trial-027.txt',\n",
       " 'data_sg_exp-03_trial-028.txt',\n",
       " 'data_sg_exp-03_trial-029.txt',\n",
       " 'data_sg_exp-03_trial-030.txt',\n",
       " 'data_sg_exp-03_trial-031.txt',\n",
       " 'data_sg_exp-03_trial-032.txt',\n",
       " 'data_sg_exp-03_trial-033.txt',\n",
       " 'data_sg_exp-03_trial-034.txt',\n",
       " 'data_sg_exp-03_trial-035.txt',\n",
       " 'data_sg_exp-03_trial-036.txt',\n",
       " 'data_sg_exp-03_trial-037.txt',\n",
       " 'data_sg_exp-03_trial-038.txt',\n",
       " 'data_sg_exp-03_trial-039.txt',\n",
       " 'data_sg_exp-03_trial-040.txt',\n",
       " 'data_sg_exp-03_trial-041.txt',\n",
       " 'data_sg_exp-03_trial-042.txt',\n",
       " 'data_sg_exp-03_trial-043.txt',\n",
       " 'data_sg_exp-03_trial-044.txt',\n",
       " 'data_sg_exp-03_trial-045.txt',\n",
       " 'data_sg_exp-03_trial-046.txt',\n",
       " 'data_sg_exp-03_trial-047.txt',\n",
       " 'data_sg_exp-03_trial-048.txt',\n",
       " 'data_sg_exp-03_trial-049.txt',\n",
       " 'data_sg_exp-03_trial-050.txt',\n",
       " 'data_gb_exp-01_trial-001.txt',\n",
       " 'data_gb_exp-01_trial-002.txt',\n",
       " 'data_gb_exp-01_trial-003.txt',\n",
       " 'data_gb_exp-01_trial-004.txt',\n",
       " 'data_gb_exp-01_trial-005.txt',\n",
       " 'data_gb_exp-01_trial-006.txt',\n",
       " 'data_gb_exp-01_trial-007.txt',\n",
       " 'data_gb_exp-01_trial-008.txt',\n",
       " 'data_gb_exp-01_trial-009.txt',\n",
       " 'data_gb_exp-01_trial-010.txt',\n",
       " 'data_gb_exp-01_trial-011.txt',\n",
       " 'data_gb_exp-01_trial-012.txt',\n",
       " 'data_gb_exp-01_trial-013.txt',\n",
       " 'data_gb_exp-01_trial-014.txt',\n",
       " 'data_gb_exp-01_trial-015.txt',\n",
       " 'data_gb_exp-01_trial-016.txt',\n",
       " 'data_gb_exp-01_trial-017.txt',\n",
       " 'data_gb_exp-01_trial-018.txt',\n",
       " 'data_gb_exp-01_trial-019.txt',\n",
       " 'data_gb_exp-01_trial-020.txt',\n",
       " 'data_gb_exp-01_trial-021.txt',\n",
       " 'data_gb_exp-01_trial-022.txt',\n",
       " 'data_gb_exp-01_trial-023.txt',\n",
       " 'data_gb_exp-01_trial-024.txt',\n",
       " 'data_gb_exp-01_trial-025.txt',\n",
       " 'data_gb_exp-01_trial-026.txt',\n",
       " 'data_gb_exp-01_trial-027.txt',\n",
       " 'data_gb_exp-01_trial-028.txt',\n",
       " 'data_gb_exp-01_trial-029.txt',\n",
       " 'data_gb_exp-01_trial-030.txt',\n",
       " 'data_gb_exp-01_trial-031.txt',\n",
       " 'data_gb_exp-01_trial-032.txt',\n",
       " 'data_gb_exp-01_trial-033.txt',\n",
       " 'data_gb_exp-01_trial-034.txt',\n",
       " 'data_gb_exp-01_trial-035.txt',\n",
       " 'data_gb_exp-01_trial-036.txt',\n",
       " 'data_gb_exp-01_trial-037.txt',\n",
       " 'data_gb_exp-01_trial-038.txt',\n",
       " 'data_gb_exp-01_trial-039.txt',\n",
       " 'data_gb_exp-01_trial-040.txt',\n",
       " 'data_gb_exp-01_trial-041.txt',\n",
       " 'data_gb_exp-01_trial-042.txt',\n",
       " 'data_gb_exp-01_trial-043.txt',\n",
       " 'data_gb_exp-01_trial-044.txt',\n",
       " 'data_gb_exp-01_trial-045.txt',\n",
       " 'data_gb_exp-01_trial-046.txt',\n",
       " 'data_gb_exp-01_trial-047.txt',\n",
       " 'data_gb_exp-01_trial-048.txt',\n",
       " 'data_gb_exp-01_trial-049.txt',\n",
       " 'data_gb_exp-01_trial-050.txt',\n",
       " 'data_gb_exp-02_trial-001.txt',\n",
       " 'data_gb_exp-02_trial-002.txt',\n",
       " 'data_gb_exp-02_trial-003.txt',\n",
       " 'data_gb_exp-02_trial-004.txt',\n",
       " 'data_gb_exp-02_trial-005.txt',\n",
       " 'data_gb_exp-02_trial-006.txt',\n",
       " 'data_gb_exp-02_trial-007.txt',\n",
       " 'data_gb_exp-02_trial-008.txt',\n",
       " 'data_gb_exp-02_trial-009.txt',\n",
       " 'data_gb_exp-02_trial-010.txt',\n",
       " 'data_gb_exp-02_trial-011.txt',\n",
       " 'data_gb_exp-02_trial-012.txt',\n",
       " 'data_gb_exp-02_trial-013.txt',\n",
       " 'data_gb_exp-02_trial-014.txt',\n",
       " 'data_gb_exp-02_trial-015.txt',\n",
       " 'data_gb_exp-02_trial-016.txt',\n",
       " 'data_gb_exp-02_trial-017.txt',\n",
       " 'data_gb_exp-02_trial-018.txt',\n",
       " 'data_gb_exp-02_trial-019.txt',\n",
       " 'data_gb_exp-02_trial-020.txt',\n",
       " 'data_gb_exp-02_trial-021.txt',\n",
       " 'data_gb_exp-02_trial-022.txt',\n",
       " 'data_gb_exp-02_trial-023.txt',\n",
       " 'data_gb_exp-02_trial-024.txt',\n",
       " 'data_gb_exp-02_trial-025.txt',\n",
       " 'data_gb_exp-02_trial-026.txt',\n",
       " 'data_gb_exp-02_trial-027.txt',\n",
       " 'data_gb_exp-02_trial-028.txt',\n",
       " 'data_gb_exp-02_trial-029.txt',\n",
       " 'data_gb_exp-02_trial-030.txt',\n",
       " 'data_gb_exp-02_trial-031.txt',\n",
       " 'data_gb_exp-02_trial-032.txt',\n",
       " 'data_gb_exp-02_trial-033.txt',\n",
       " 'data_gb_exp-02_trial-034.txt',\n",
       " 'data_gb_exp-02_trial-035.txt',\n",
       " 'data_gb_exp-02_trial-036.txt',\n",
       " 'data_gb_exp-02_trial-037.txt',\n",
       " 'data_gb_exp-02_trial-038.txt',\n",
       " 'data_gb_exp-02_trial-039.txt',\n",
       " 'data_gb_exp-02_trial-040.txt',\n",
       " 'data_gb_exp-02_trial-041.txt',\n",
       " 'data_gb_exp-02_trial-042.txt',\n",
       " 'data_gb_exp-02_trial-043.txt',\n",
       " 'data_gb_exp-02_trial-044.txt',\n",
       " 'data_gb_exp-02_trial-045.txt',\n",
       " 'data_gb_exp-02_trial-046.txt',\n",
       " 'data_gb_exp-02_trial-047.txt',\n",
       " 'data_gb_exp-02_trial-048.txt',\n",
       " 'data_gb_exp-02_trial-049.txt',\n",
       " 'data_gb_exp-02_trial-050.txt',\n",
       " 'data_gb_exp-03_trial-001.txt',\n",
       " 'data_gb_exp-03_trial-002.txt',\n",
       " 'data_gb_exp-03_trial-003.txt',\n",
       " 'data_gb_exp-03_trial-004.txt',\n",
       " 'data_gb_exp-03_trial-005.txt',\n",
       " 'data_gb_exp-03_trial-006.txt',\n",
       " 'data_gb_exp-03_trial-007.txt',\n",
       " 'data_gb_exp-03_trial-008.txt',\n",
       " 'data_gb_exp-03_trial-009.txt',\n",
       " 'data_gb_exp-03_trial-010.txt',\n",
       " 'data_gb_exp-03_trial-011.txt',\n",
       " 'data_gb_exp-03_trial-012.txt',\n",
       " 'data_gb_exp-03_trial-013.txt',\n",
       " 'data_gb_exp-03_trial-014.txt',\n",
       " 'data_gb_exp-03_trial-015.txt',\n",
       " 'data_gb_exp-03_trial-016.txt',\n",
       " 'data_gb_exp-03_trial-017.txt',\n",
       " 'data_gb_exp-03_trial-018.txt',\n",
       " 'data_gb_exp-03_trial-019.txt',\n",
       " 'data_gb_exp-03_trial-020.txt',\n",
       " 'data_gb_exp-03_trial-021.txt',\n",
       " 'data_gb_exp-03_trial-022.txt',\n",
       " 'data_gb_exp-03_trial-023.txt',\n",
       " 'data_gb_exp-03_trial-024.txt',\n",
       " 'data_gb_exp-03_trial-025.txt',\n",
       " 'data_gb_exp-03_trial-026.txt',\n",
       " 'data_gb_exp-03_trial-027.txt',\n",
       " 'data_gb_exp-03_trial-028.txt',\n",
       " 'data_gb_exp-03_trial-029.txt',\n",
       " 'data_gb_exp-03_trial-030.txt',\n",
       " 'data_gb_exp-03_trial-031.txt',\n",
       " 'data_gb_exp-03_trial-032.txt',\n",
       " 'data_gb_exp-03_trial-033.txt',\n",
       " 'data_gb_exp-03_trial-034.txt',\n",
       " 'data_gb_exp-03_trial-035.txt',\n",
       " 'data_gb_exp-03_trial-036.txt',\n",
       " 'data_gb_exp-03_trial-037.txt',\n",
       " 'data_gb_exp-03_trial-038.txt',\n",
       " 'data_gb_exp-03_trial-039.txt',\n",
       " 'data_gb_exp-03_trial-040.txt',\n",
       " 'data_gb_exp-03_trial-041.txt',\n",
       " 'data_gb_exp-03_trial-042.txt',\n",
       " 'data_gb_exp-03_trial-043.txt',\n",
       " 'data_gb_exp-03_trial-044.txt',\n",
       " 'data_gb_exp-03_trial-045.txt',\n",
       " 'data_gb_exp-03_trial-046.txt',\n",
       " 'data_gb_exp-03_trial-047.txt',\n",
       " 'data_gb_exp-03_trial-048.txt',\n",
       " 'data_gb_exp-03_trial-049.txt',\n",
       " 'data_gb_exp-03_trial-050.txt']"
      ]
     },
     "execution_count": 48,
     "metadata": {},
     "output_type": "execute_result"
    }
   ],
   "source": [
    "#Question 5\n",
    "\n",
    "countries = ['sg' , 'gb']\n",
    "files = []\n",
    "\n",
    "\n",
    "\n",
    "for country in countries:\n",
    "    for i in range(3):\n",
    "        for j in range(50):\n",
    "            files += ['data_' + country + '_exp-' + f\"{i+1:0>2}\" + '_trial-' + f\"{j+1:0>3}\" + '.txt']\n",
    "            \n",
    "files       \n"
   ]
  },
  {
   "cell_type": "markdown",
   "id": "a04034fb",
   "metadata": {},
   "source": [
    "## Exercise 2 :  Tutti frutti"
   ]
  },
  {
   "cell_type": "markdown",
   "id": "a229927d",
   "metadata": {},
   "source": [
    "1. Yes"
   ]
  },
  {
   "cell_type": "code",
   "execution_count": 17,
   "id": "bf2a899b",
   "metadata": {
    "code_folding": []
   },
   "outputs": [
    {
     "name": "stdout",
     "output_type": "stream",
     "text": [
      "a e\n",
      "b a\n",
      "p e\n",
      "j t\n",
      "p h\n",
      "d n\n",
      "w n\n",
      "m o\n",
      "s y\n",
      "p t\n"
     ]
    }
   ],
   "source": [
    "#Question 2\n",
    "fruits = [\"apple\", \"banana\", \"pineapple\", \"jackfruit\",\n",
    "        \"peach\", \"durian\", \"watermelon\", \"mango\",\n",
    "        \"strawberry\", \"passionfruit\"]\n",
    "\n",
    "for fruit in fruits:\n",
    "    print(fruit[0], fruit[-1])"
   ]
  },
  {
   "cell_type": "code",
   "execution_count": 16,
   "id": "68b519ed",
   "metadata": {},
   "outputs": [
    {
     "name": "stdout",
     "output_type": "stream",
     "text": [
      "apple\n",
      "banana\n",
      "PINEAPPLE\n",
      "jackfruit\n",
      "PEACH\n",
      "durian\n",
      "watermelon\n",
      "mango\n",
      "strawberry\n",
      "PASSIONFRUIT\n"
     ]
    }
   ],
   "source": [
    "#Question 3\n",
    "fruits = [\"apple\", \"banana\", \"pineapple\", \"jackfruit\",\n",
    "        \"peach\", \"durian\", \"watermelon\", \"mango\",\n",
    "        \"strawberry\", \"passionfruit\"]\n",
    "\n",
    "for fruit in fruits:\n",
    "    if fruit[0] == 'p':\n",
    "        print(fruit.upper())\n",
    "    else:\n",
    "        print(fruit)"
   ]
  },
  {
   "cell_type": "code",
   "execution_count": 15,
   "id": "d9a8fe0d",
   "metadata": {},
   "outputs": [
    {
     "name": "stdout",
     "output_type": "stream",
     "text": [
      "['apple', 'banana', 'pineapple', 'jackfruit', 'peach', 'durian', 'watermelon', 'mango', 'strawberry', 'passionfruit', 'dragon fruit', 'apricots', 'oranges']\n"
     ]
    }
   ],
   "source": [
    "#Question 4\n",
    "#Part 1\n",
    "fruits = [\"apple\", \"banana\", \"pineapple\", \"jackfruit\",\n",
    "        \"peach\", \"durian\", \"watermelon\", \"mango\",\n",
    "        \"strawberry\", \"passionfruit\"]\n",
    "\n",
    "for fruit in [\"dragon fruit\", \"apricots\", \"oranges\"]:\n",
    "    fruits.append(fruit)\n",
    "\n",
    "print(fruits)"
   ]
  },
  {
   "cell_type": "code",
   "execution_count": 14,
   "id": "e743c8c2",
   "metadata": {},
   "outputs": [
    {
     "name": "stdout",
     "output_type": "stream",
     "text": [
      "['dragon fruit', 'apricots', 'oranges', 'apple', 'banana', 'pineapple', 'jackfruit', 'peach', 'durian', 'watermelon', 'mango', 'strawberry', 'passionfruit']\n"
     ]
    }
   ],
   "source": [
    "#Part 2\n",
    "fruits = [\"apple\", \"banana\", \"pineapple\", \"jackfruit\",\n",
    "        \"peach\", \"durian\", \"watermelon\", \"mango\",\n",
    "        \"strawberry\", \"passionfruit\"]\n",
    "\n",
    "prepend_list = [\"dragon fruit\", \"apricots\", \"oranges\"]\n",
    "for fruit in fruits:\n",
    "    prepend_list.append(fruit)\n",
    "    \n",
    "print(prepend_list)"
   ]
  },
  {
   "cell_type": "code",
   "execution_count": 13,
   "id": "ec2787cf",
   "metadata": {},
   "outputs": [
    {
     "name": "stdout",
     "output_type": "stream",
     "text": [
      "['apple', 'banana', 'pineapple', 'jackfruit', 'peach', 'dragon fruit', 'apricots', 'oranges', 'durian', 'watermelon', 'mango', 'strawberry', 'passionfruit']\n"
     ]
    }
   ],
   "source": [
    "#Part 3\n",
    "fruits = [\"apple\", \"banana\", \"pineapple\", \"jackfruit\",\n",
    "        \"peach\", \"durian\", \"watermelon\", \"mango\",\n",
    "        \"strawberry\", \"passionfruit\"]\n",
    "\n",
    "index = len(fruits) // 2\n",
    "for count, fruit in enumerate([\"dragon fruit\", \"apricots\", \"oranges\"]):\n",
    "    fruits.insert(index + count, fruit)\n",
    "\n",
    "print(fruits)"
   ]
  },
  {
   "cell_type": "code",
   "execution_count": 18,
   "id": "cccdde05",
   "metadata": {},
   "outputs": [
    {
     "data": {
      "text/plain": [
       "['pineapple', 'jackfruit', 'watermelon', 'strawberry', 'passionfruit']"
      ]
     },
     "execution_count": 18,
     "metadata": {},
     "output_type": "execute_result"
    }
   ],
   "source": [
    "#Question 5\n",
    "fruits = [\"apple\", \"banana\", \"pineapple\", \"jackfruit\",\n",
    "        \"peach\", \"durian\", \"watermelon\", \"mango\",\n",
    "        \"strawberry\", \"passionfruit\"]\n",
    "\n",
    "[fruit for fruit in fruits if len(fruit) > 8]"
   ]
  },
  {
   "cell_type": "markdown",
   "id": "268f2a42",
   "metadata": {},
   "source": [
    "## Exercise 3 :  Ciao Fibonacci"
   ]
  },
  {
   "cell_type": "code",
   "execution_count": 19,
   "id": "c4dfc07b",
   "metadata": {},
   "outputs": [
    {
     "data": {
      "text/plain": [
       "[0, 1, 1, 2, 3, 5, 8, 13, 21, 34, 55, 89, 144, 233, 377]"
      ]
     },
     "execution_count": 19,
     "metadata": {},
     "output_type": "execute_result"
    }
   ],
   "source": [
    "fibonnaci = [0,1]\n",
    "\n",
    "for i in range(2, 15):\n",
    "    fibonnaci += [fibonnaci[i-1] + fibonnaci[i-2]]\n",
    "\n",
    "fibonnaci"
   ]
  },
  {
   "cell_type": "markdown",
   "id": "e47af108",
   "metadata": {},
   "source": [
    "## Exercise 4 :  A function for Fibonacci"
   ]
  },
  {
   "cell_type": "code",
   "execution_count": 26,
   "id": "5c3db79b",
   "metadata": {},
   "outputs": [],
   "source": [
    "def fibonacci(n):\n",
    "    if n <= 0:\n",
    "        return None\n",
    "    elif n == 1:\n",
    "        return [0]\n",
    "    elif n == 2:\n",
    "        return [0, 1]\n",
    "    else:\n",
    "        list = [0, 1]\n",
    "        for i in range(2, n):\n",
    "            list += [list[i-1] + list[i-2]]\n",
    "        return list"
   ]
  },
  {
   "cell_type": "markdown",
   "id": "8e13b7b8",
   "metadata": {},
   "source": [
    "## Exercise 5 :  max_info() without NumPy"
   ]
  },
  {
   "cell_type": "code",
   "execution_count": 30,
   "id": "f148eefc",
   "metadata": {},
   "outputs": [
    {
     "data": {
      "text/plain": [
       "(83, 2)"
      ]
     },
     "execution_count": 30,
     "metadata": {},
     "output_type": "execute_result"
    }
   ],
   "source": [
    "def max_info(numbers):\n",
    "    my_max = numbers[0]\n",
    "    my_max_index = 0\n",
    "    for index, number in enumerate(numbers):\n",
    "        if number > my_max:\n",
    "            my_max = number\n",
    "            my_max_index = index\n",
    "    return my_max, my_max_index\n",
    "\n",
    "numbers = [40, 27, 83, 44, 74, 51, 76, 77, 10, 49]\n",
    "max_info(numbers)\n"
   ]
  },
  {
   "cell_type": "markdown",
   "id": "be76d704",
   "metadata": {},
   "source": [
    "## Exercise 6 :  Take count"
   ]
  },
  {
   "cell_type": "code",
   "execution_count": 32,
   "id": "784aab8e",
   "metadata": {},
   "outputs": [
    {
     "name": "stdout",
     "output_type": "stream",
     "text": [
      "['A', 'G', 'G', 'C', 'A', 'A', 'G', 'A', 'A', 'G', 'C', 'T', 'A', 'G', 'A', 'A', 'T', 'T', 'C', 'T', 'G', 'G', 'C', 'C', 'T', 'G', 'A', 'G', 'T', 'A', 'T', 'C', 'T', 'C', 'A', 'G', 'T', 'A', 'C', 'A', 'G', 'G', 'C', 'G', 'C', 'A', 'G', 'T', 'C', 'G', 'A', 'A', 'T', 'C', 'T', 'T', 'C', 'C', 'G', 'G', 'A', 'A', 'T', 'C', 'A', 'C', 'A', 'T', 'T', 'G', 'C', 'T', 'C', 'G', 'C', 'G', 'C', 'T', 'T', 'A', 'A', 'A', 'C', 'C', 'C', 'G', 'C', 'T', 'C', 'T', 'A', 'A', 'A', 'C', 'C', 'T', 'T', 'T', 'G', 'A', 'G', 'T', 'A', 'A', 'T', 'T', 'C', 'G', 'A', 'C', 'G', 'A', 'C', 'A', 'T', 'T', 'G', 'G', 'G', 'T', 'T', 'C', 'C', 'C', 'T', 'C', 'C', 'G', 'A', 'C', 'G', 'C', 'T', 'G', 'T', 'C', 'T', 'G', 'A', 'C', 'A', 'A', 'C', 'T', 'C', 'T', 'T', 'T', 'A', 'A', 'G', 'A', 'T', 'C', 'C', 'T', 'T', 'G', 'G', 'C', 'A', 'C', 'G', 'A', 'T', 'G', 'T', 'C', 'G', 'A', 'T', 'A', 'G', 'A', 'C', 'A', 'T', 'T', 'G', 'T', 'C', 'C', 'C', 'T', 'G', 'A', 'T', 'G', 'A', 'C', 'G', 'C', 'C', 'T', 'C', 'A', 'C', 'A', 'A', 'G', 'G', 'T', 'A', 'A', 'C', 'C', 'T', 'G', 'G', 'C', 'T', 'C', 'T', 'A', 'G', 'T', 'A', 'G', 'G', 'G', 'T', 'G', 'G', 'T', 'C', 'T', 'T', 'T', 'G', 'C', 'T', 'G', 'C', 'G', 'G', 'A', 'A', 'C', 'T', 'T', 'A', 'C', 'C', 'A', 'C', 'C', 'T', 'G', 'G', 'T', 'G', 'G', 'A', 'T', 'C', 'C', 'A', 'A', 'G', 'C', 'A', 'C', 'C', 'A', 'G', 'A', 'G', 'G', 'A', 'G', 'T', 'T', 'C', 'G', 'A', 'A', 'G', 'A', 'G', 'G', 'C', 'T', 'G', 'G', 'G', 'G', 'T', 'A', 'C', 'C', 'C', 'C', 'C', 'T', 'A', 'T', 'T', 'T', 'A', 'G', 'G', 'A', 'A', 'G', 'G', 'G', 'C', 'G', 'A', 'G', 'A', 'C', 'T', 'A', 'C', 'G', 'G', 'T', 'C', 'A', 'C', 'A', 'A', 'A', 'T', 'T', 'C', 'C', 'A', 'A', 'A', 'T', 'G', 'G', 'C', 'T', 'T', 'C', 'C', 'C', 'T', 'C', 'G', 'A', 'T', 'T', 'C', 'A', 'T', 'G', 'A', 'C', 'G', 'C', 'C', 'A', 'G', 'A', 'A', 'T', 'G', 'C', 'C', 'T', 'G', 'G', 'C', 'T', 'G', 'T', 'G', 'C', 'C', 'A', 'A', 'T', 'T', 'T', 'G', 'T', 'C', 'G', 'C', 'C', 'T', 'T', 'G', 'C', 'G', 'T', 'C', 'G', 'T', 'T', 'C', 'T', 'G', 'T', 'C', 'A', 'A', 'T', 'C', 'T', 'T', 'T', 'A', 'C', 'T', 'C', 'G', 'T', 'G', 'T', 'C', 'G', 'T', 'G', 'T', 'T', 'G', 'T', 'G', 'A', 'T', 'A', 'A', 'A', 'T', 'G', 'A', 'C', 'A', 'A', 'A', 'C', 'C', 'C', 'T', 'G', 'C', 'A', 'C', 'A', 'A', 'C', 'G', 'T', 'A', 'G', 'G', 'G', 'C', 'T', 'C', 'A', 'C', 'A', 'C', 'A', 'A', 'G', 'G', 'G', 'A', 'A', 'T', 'C', 'T', 'A', 'G', 'A', 'G', 'T', 'A', 'T', 'C', 'C', 'G', 'A', 'T', 'A', 'C', 'A', 'G', 'G', 'G', 'A', 'G', 'C', 'T', 'T', 'T', 'A', 'G', 'C', 'T', 'T', 'C', 'C', 'G', 'T', 'C', 'C', 'C', 'T', 'T', 'A', 'T', 'A', 'G', 'C', 'C', 'T', 'G', 'C', 'C', 'A', 'T', 'A', 'T', 'T', 'C', 'T', 'T', 'G', 'C', 'G', 'G', 'T', 'A', 'G', 'C', 'A', 'C', 'G', 'A', 'G', 'C', 'C', 'T', 'C', 'A', 'G', 'A', 'T', 'C', 'T', 'T', 'C', 'T', 'C', 'A', 'C', 'T', 'C', 'C', 'G', 'G', 'A', 'A', 'A', 'T', 'G', 'G', 'G', 'A', 'G', 'C', 'T', 'T', 'C', 'G', 'A', 'C', 'G', 'G', 'T', 'C', 'A', 'A', 'G', 'G', 'G', 'C', 'T', 'A', 'A', 'G', 'A', 'C', 'G', 'T', 'C', 'T', 'T', 'C', 'G', 'G', 'G', 'A', 'G', 'A', 'A', 'A', 'T', 'A', 'C', 'C', 'T', 'A', 'G', 'G', 'C', 'G', 'A', 'T', 'G', 'A', 'C', 'C', 'C', 'T', 'G', 'A', 'G', 'T', 'G', 'G', 'T', 'T', 'T', 'T', 'C', 'C', 'G', 'C', 'G', 'T', 'A', 'T', 'A', 'A', 'C', 'T', 'C', 'A', 'T', 'C', 'C', 'T', 'G', 'G', 'T', 'T', 'G', 'C', 'A', 'A', 'A', 'T', 'G', 'A', 'T', 'T', 'A', 'C', 'C', 'G', 'T', 'T', 'A', 'T', 'A', 'G', 'C', 'C', 'T', 'G', 'G', 'G', 'G', 'A', 'T', 'A', 'T', 'G', 'C', 'C', 'T', 'C', 'A', 'A', 'T', 'T', 'C', 'C', 'G', 'A', 'A', 'C', 'C', 'C', 'A', 'G', 'G', 'A', 'G', 'C', 'A', 'T', 'C', 'A', 'C', 'T', 'C', 'G', 'A', 'G', 'C', 'A', 'A', 'T', 'A', 'G', 'C', 'G', 'G', 'T', 'A', 'A', 'A', 'G', 'G', 'A', 'G', 'G', 'C', 'T', 'A', 'T', 'T', 'A', 'G', 'C', 'A', 'A', 'A', 'A', 'T', 'T', 'G', 'T', 'C', 'A', 'C', 'G', 'A', 'T', 'A', 'A', 'G', 'C', 'G', 'C', 'C', 'G', 'T', 'T', 'G', 'T', 'A', 'G', 'T', 'G', 'A', 'A', 'A', 'T', 'T', 'A', 'A', 'G', 'A', 'T', 'A', 'C', 'A', 'T', 'A', 'C', 'A', 'T', 'C', 'G', 'T', 'T', 'T', 'A', 'G', 'C', 'A', 'C', 'A', 'T', 'C', 'A', 'C', 'T', 'C', 'T', 'C', 'A', 'C', 'G', 'G', 'C', 'G', 'T', 'C', 'T', 'A', 'G', 'A', 'A', 'G', 'C', 'T', 'G', 'A', 'T', 'C', 'T', 'T', 'C', 'A', 'T', 'A', 'T', 'G', 'C', 'T', 'G', 'A', 'C', 'T', 'C', 'A', 'G', 'A', 'A', 'G', 'G', 'C', 'T', 'C', 'G', 'G', 'A', 'T', 'A', 'A', 'T', 'A', 'G', 'A', 'G', 'G', 'A', 'C', 'G', 'A', 'A', 'G', 'G', 'T', 'A', 'G', 'T', 'T', 'T', 'A', 'C', 'T', 'C', 'A', 'T', 'C', 'G', 'C', 'T', 'G', 'C', 'C', 'C', 'C', 'G', 'A', 'C', 'T', 'A', 'T', 'T', 'A', 'C', 'G', 'T', 'G', 'T', 'G', 'C', 'A', 'T', 'G', 'A', 'T', 'A', 'A', 'A', 'G', 'T', 'C', 'T', 'G', 'A', 'C', 'C', 'C', 'T', 'G', 'A', 'C', 'G', 'T', 'T', 'C', 'C', 'C', 'A', 'A', 'G', 'C', 'C', 'G', 'A', 'G', 'G', 'C', 'A', 'G', 'A', 'G', 'G', 'G', 'G', 'T', 'T', 'T', 'T', 'A', 'C', 'G', 'C', 'T', 'G', 'A', 'A', 'T', 'G', 'T', 'C', 'C', 'G', 'C', 'T', 'C', 'T', 'C', 'T', 'G', 'T', 'C', 'G', 'G', 'A', 'T', 'G', 'A', 'T', 'T', 'T', 'C', 'G', 'G', 'A', 'A', 'G', 'C', 'T', 'G']\n"
     ]
    }
   ],
   "source": [
    "#Part 1\n",
    "dna_list = list('AGGCAAGAAGCTAGAATTCTGGCCTGAGTATCTCAGTACAGGCGCAGTCGAATCTTCCGGAATCACATTGCTCGCGCTTAAACCCGCTCTAAACCTTTGAGTAATTCGACGACATTGGGTTCCCTCCGACGCTGTCTGACAACTCTTTAAGATCCTTGGCACGATGTCGATAGACATTGTCCCTGATGACGCCTCACAAGGTAACCTGGCTCTAGTAGGGTGGTCTTTGCTGCGGAACTTACCACCTGGTGGATCCAAGCACCAGAGGAGTTCGAAGAGGCTGGGGTACCCCCTATTTAGGAAGGGCGAGACTACGGTCACAAATTCCAAATGGCTTCCCTCGATTCATGACGCCAGAATGCCTGGCTGTGCCAATTTGTCGCCTTGCGTCGTTCTGTCAATCTTTACTCGTGTCGTGTTGTGATAAATGACAAACCCTGCACAACGTAGGGCTCACACAAGGGAATCTAGAGTATCCGATACAGGGAGCTTTAGCTTCCGTCCCTTATAGCCTGCCATATTCTTGCGGTAGCACGAGCCTCAGATCTTCTCACTCCGGAAATGGGAGCTTCGACGGTCAAGGGCTAAGACGTCTTCGGGAGAAATACCTAGGCGATGACCCTGAGTGGTTTTCCGCGTATAACTCATCCTGGTTGCAAATGATTACCGTTATAGCCTGGGGATATGCCTCAATTCCGAACCCAGGAGCATCACTCGAGCAATAGCGGTAAAGGAGGCTATTAGCAAAATTGTCACGATAAGCGCCGTTGTAGTGAAATTAAGATACATACATCGTTTAGCACATCACTCTCACGGCGTCTAGAAGCTGATCTTCATATGCTGACTCAGAAGGCTCGGATAATAGAGGACGAAGGTAGTTTACTCATCGCTGCCCCGACTATTACGTGTGCATGATAAAGTCTGACCCTGACGTTCCCAAGCCGAGGCAGAGGGGTTTTACGCTGAATGTCCGCTCTCTGTCGGATGATTTCGGAAGCTG')\n",
    "print(dna_list)\n",
    "\n"
   ]
  },
  {
   "cell_type": "code",
   "execution_count": 33,
   "id": "258ae76c",
   "metadata": {},
   "outputs": [
    {
     "name": "stdout",
     "output_type": "stream",
     "text": [
      "254\n"
     ]
    }
   ],
   "source": [
    "#Part 2\n",
    "count = 0\n",
    "for dna in dna_list:\n",
    "    if dna == 'T':\n",
    "        count += 1\n",
    "\n",
    "print(count)"
   ]
  },
  {
   "cell_type": "code",
   "execution_count": 35,
   "id": "11063a5c",
   "metadata": {},
   "outputs": [
    {
     "data": {
      "text/plain": [
       "254"
      ]
     },
     "execution_count": 35,
     "metadata": {},
     "output_type": "execute_result"
    }
   ],
   "source": [
    "#Part 3\n",
    "sum([1 for dna in dna_list if dna == 'T'])"
   ]
  },
  {
   "cell_type": "code",
   "execution_count": null,
   "id": "0d8d7e6f",
   "metadata": {},
   "outputs": [],
   "source": [
    "#Part 4\n"
   ]
  }
 ],
 "metadata": {
  "kernelspec": {
   "display_name": "Python 3 (ipykernel)",
   "language": "python",
   "name": "python3"
  },
  "language_info": {
   "codemirror_mode": {
    "name": "ipython",
    "version": 3
   },
   "file_extension": ".py",
   "mimetype": "text/x-python",
   "name": "python",
   "nbconvert_exporter": "python",
   "pygments_lexer": "ipython3",
   "version": "3.10.8"
  },
  "toc": {
   "base_numbering": 1,
   "nav_menu": {},
   "number_sections": true,
   "sideBar": true,
   "skip_h1_title": false,
   "title_cell": "Table of Contents",
   "title_sidebar": "Contents",
   "toc_cell": false,
   "toc_position": {},
   "toc_section_display": true,
   "toc_window_display": false
  },
  "varInspector": {
   "cols": {
    "lenName": 16,
    "lenType": 16,
    "lenVar": 40
   },
   "kernels_config": {
    "python": {
     "delete_cmd_postfix": "",
     "delete_cmd_prefix": "del ",
     "library": "var_list.py",
     "varRefreshCmd": "print(var_dic_list())"
    },
    "r": {
     "delete_cmd_postfix": ") ",
     "delete_cmd_prefix": "rm(",
     "library": "var_list.r",
     "varRefreshCmd": "cat(var_dic_list()) "
    }
   },
   "types_to_exclude": [
    "module",
    "function",
    "builtin_function_or_method",
    "instance",
    "_Feature"
   ],
   "window_display": false
  },
  "vscode": {
   "interpreter": {
    "hash": "31f2aee4e71d21fbe5cf8b01ff0e069b9275f58929596ceb00d14d90e3e16cd6"
   }
  }
 },
 "nbformat": 4,
 "nbformat_minor": 5
}
