{
 "cells": [
  {
   "cell_type": "markdown",
   "id": "123456",
   "metadata": {},
   "source": [
    "<div style=\"text-align:left;font-size:2em\"><span style=\"font-weight:bolder;font-size:1.25em\">SP2273 | Learning Portfolio</span><br><br><span style=\"font-weight:bold;color:darkred\">Just Exercises (I)</span></div>"
   ]
  },
  {
   "cell_type": "markdown",
   "id": "b21b8a91",
   "metadata": {},
   "source": [
    "## Exercise 1 :  F-strings to the rescue"
   ]
  },
  {
   "cell_type": "code",
   "execution_count": 40,
   "id": "7ae81200",
   "metadata": {},
   "outputs": [
    {
     "name": "stdout",
     "output_type": "stream",
     "text": [
      "iii5iii\n"
     ]
    }
   ],
   "source": [
    "x = 5\n",
    "print(f\"{x:i^7}\")"
   ]
  },
  {
   "cell_type": "code",
   "execution_count": 41,
   "id": "a8657ab0",
   "metadata": {},
   "outputs": [
    {
     "name": "stdout",
     "output_type": "stream",
     "text": [
      "00001\n",
      "00002\n",
      "00003\n",
      "00004\n",
      "00005\n",
      "00006\n",
      "00007\n",
      "00008\n",
      "00009\n",
      "00010\n"
     ]
    }
   ],
   "source": [
    "#Question 1\n",
    "for i in range(10):\n",
    "    print(f\"{i+1:0>5}\")\n",
    "\n",
    "\n",
    "\n"
   ]
  },
  {
   "cell_type": "code",
   "execution_count": 44,
   "id": "09636cd3",
   "metadata": {},
   "outputs": [
    {
     "name": "stdout",
     "output_type": "stream",
     "text": [
      "001          +\n",
      "002         ++\n",
      "003        +++\n",
      "004       ++++\n",
      "005      +++++\n",
      "006     ++++++\n",
      "007    +++++++\n",
      "008   ++++++++\n",
      "009  +++++++++\n",
      "010 ++++++++++\n"
     ]
    }
   ],
   "source": [
    "#Question 2\n",
    "for i in range(10):\n",
    "    print(f\"{i+1:0>3}{' '*(10-i)}{'+' * (i+1)}\")"
   ]
  },
  {
   "cell_type": "code",
   "execution_count": 45,
   "id": "fd1b6a46",
   "metadata": {},
   "outputs": [
    {
     "name": "stdout",
     "output_type": "stream",
     "text": [
      "001 -+++++++++\n",
      "002 --++++++++\n",
      "003 ---+++++++\n",
      "004 ----++++++\n",
      "005 -----+++++\n",
      "006 ------++++\n",
      "007 -------+++\n",
      "008 --------++\n",
      "009 ---------+\n",
      "010 ----------\n"
     ]
    }
   ],
   "source": [
    "#Question 3\n",
    "for i in range(10):\n",
    "    print(f\"{i+1:0>3} {'-'*(i+1)}{'+' * (9-i)}\")"
   ]
  },
  {
   "cell_type": "code",
   "execution_count": 33,
   "id": "561119e9",
   "metadata": {},
   "outputs": [
    {
     "data": {
      "text/plain": [
       "['bruce_exploits.txt',\n",
       " 'bruce_enemies.txt',\n",
       " 'bruce_friends.txt',\n",
       " 'natasha_exploits.txt',\n",
       " 'natasha_enemies.txt',\n",
       " 'natasha_friends.txt',\n",
       " 'tony_exploits.txt',\n",
       " 'tony_enemies.txt',\n",
       " 'tony_friends.txt']"
      ]
     },
     "execution_count": 33,
     "metadata": {},
     "output_type": "execute_result"
    }
   ],
   "source": [
    "#Question 4\n",
    "\n",
    "names = ['bruce', 'natasha', 'tony']\n",
    "topics = ['exploits', 'enemies', 'friends']\n",
    "list = []\n",
    "for name in names:\n",
    "    for topic in topics:\n",
    "        list += [name + '_' + topic + '.txt']\n",
    "\n",
    "list"
   ]
  },
  {
   "cell_type": "code",
   "execution_count": 48,
   "id": "812dfd77",
   "metadata": {},
   "outputs": [
    {
     "data": {
      "text/plain": [
       "['data_sg_exp-01_trial-001.txt',\n",
       " 'data_sg_exp-01_trial-002.txt',\n",
       " 'data_sg_exp-01_trial-003.txt',\n",
       " 'data_sg_exp-01_trial-004.txt',\n",
       " 'data_sg_exp-01_trial-005.txt',\n",
       " 'data_sg_exp-01_trial-006.txt',\n",
       " 'data_sg_exp-01_trial-007.txt',\n",
       " 'data_sg_exp-01_trial-008.txt',\n",
       " 'data_sg_exp-01_trial-009.txt',\n",
       " 'data_sg_exp-01_trial-010.txt',\n",
       " 'data_sg_exp-01_trial-011.txt',\n",
       " 'data_sg_exp-01_trial-012.txt',\n",
       " 'data_sg_exp-01_trial-013.txt',\n",
       " 'data_sg_exp-01_trial-014.txt',\n",
       " 'data_sg_exp-01_trial-015.txt',\n",
       " 'data_sg_exp-01_trial-016.txt',\n",
       " 'data_sg_exp-01_trial-017.txt',\n",
       " 'data_sg_exp-01_trial-018.txt',\n",
       " 'data_sg_exp-01_trial-019.txt',\n",
       " 'data_sg_exp-01_trial-020.txt',\n",
       " 'data_sg_exp-01_trial-021.txt',\n",
       " 'data_sg_exp-01_trial-022.txt',\n",
       " 'data_sg_exp-01_trial-023.txt',\n",
       " 'data_sg_exp-01_trial-024.txt',\n",
       " 'data_sg_exp-01_trial-025.txt',\n",
       " 'data_sg_exp-01_trial-026.txt',\n",
       " 'data_sg_exp-01_trial-027.txt',\n",
       " 'data_sg_exp-01_trial-028.txt',\n",
       " 'data_sg_exp-01_trial-029.txt',\n",
       " 'data_sg_exp-01_trial-030.txt',\n",
       " 'data_sg_exp-01_trial-031.txt',\n",
       " 'data_sg_exp-01_trial-032.txt',\n",
       " 'data_sg_exp-01_trial-033.txt',\n",
       " 'data_sg_exp-01_trial-034.txt',\n",
       " 'data_sg_exp-01_trial-035.txt',\n",
       " 'data_sg_exp-01_trial-036.txt',\n",
       " 'data_sg_exp-01_trial-037.txt',\n",
       " 'data_sg_exp-01_trial-038.txt',\n",
       " 'data_sg_exp-01_trial-039.txt',\n",
       " 'data_sg_exp-01_trial-040.txt',\n",
       " 'data_sg_exp-01_trial-041.txt',\n",
       " 'data_sg_exp-01_trial-042.txt',\n",
       " 'data_sg_exp-01_trial-043.txt',\n",
       " 'data_sg_exp-01_trial-044.txt',\n",
       " 'data_sg_exp-01_trial-045.txt',\n",
       " 'data_sg_exp-01_trial-046.txt',\n",
       " 'data_sg_exp-01_trial-047.txt',\n",
       " 'data_sg_exp-01_trial-048.txt',\n",
       " 'data_sg_exp-01_trial-049.txt',\n",
       " 'data_sg_exp-01_trial-050.txt',\n",
       " 'data_sg_exp-02_trial-001.txt',\n",
       " 'data_sg_exp-02_trial-002.txt',\n",
       " 'data_sg_exp-02_trial-003.txt',\n",
       " 'data_sg_exp-02_trial-004.txt',\n",
       " 'data_sg_exp-02_trial-005.txt',\n",
       " 'data_sg_exp-02_trial-006.txt',\n",
       " 'data_sg_exp-02_trial-007.txt',\n",
       " 'data_sg_exp-02_trial-008.txt',\n",
       " 'data_sg_exp-02_trial-009.txt',\n",
       " 'data_sg_exp-02_trial-010.txt',\n",
       " 'data_sg_exp-02_trial-011.txt',\n",
       " 'data_sg_exp-02_trial-012.txt',\n",
       " 'data_sg_exp-02_trial-013.txt',\n",
       " 'data_sg_exp-02_trial-014.txt',\n",
       " 'data_sg_exp-02_trial-015.txt',\n",
       " 'data_sg_exp-02_trial-016.txt',\n",
       " 'data_sg_exp-02_trial-017.txt',\n",
       " 'data_sg_exp-02_trial-018.txt',\n",
       " 'data_sg_exp-02_trial-019.txt',\n",
       " 'data_sg_exp-02_trial-020.txt',\n",
       " 'data_sg_exp-02_trial-021.txt',\n",
       " 'data_sg_exp-02_trial-022.txt',\n",
       " 'data_sg_exp-02_trial-023.txt',\n",
       " 'data_sg_exp-02_trial-024.txt',\n",
       " 'data_sg_exp-02_trial-025.txt',\n",
       " 'data_sg_exp-02_trial-026.txt',\n",
       " 'data_sg_exp-02_trial-027.txt',\n",
       " 'data_sg_exp-02_trial-028.txt',\n",
       " 'data_sg_exp-02_trial-029.txt',\n",
       " 'data_sg_exp-02_trial-030.txt',\n",
       " 'data_sg_exp-02_trial-031.txt',\n",
       " 'data_sg_exp-02_trial-032.txt',\n",
       " 'data_sg_exp-02_trial-033.txt',\n",
       " 'data_sg_exp-02_trial-034.txt',\n",
       " 'data_sg_exp-02_trial-035.txt',\n",
       " 'data_sg_exp-02_trial-036.txt',\n",
       " 'data_sg_exp-02_trial-037.txt',\n",
       " 'data_sg_exp-02_trial-038.txt',\n",
       " 'data_sg_exp-02_trial-039.txt',\n",
       " 'data_sg_exp-02_trial-040.txt',\n",
       " 'data_sg_exp-02_trial-041.txt',\n",
       " 'data_sg_exp-02_trial-042.txt',\n",
       " 'data_sg_exp-02_trial-043.txt',\n",
       " 'data_sg_exp-02_trial-044.txt',\n",
       " 'data_sg_exp-02_trial-045.txt',\n",
       " 'data_sg_exp-02_trial-046.txt',\n",
       " 'data_sg_exp-02_trial-047.txt',\n",
       " 'data_sg_exp-02_trial-048.txt',\n",
       " 'data_sg_exp-02_trial-049.txt',\n",
       " 'data_sg_exp-02_trial-050.txt',\n",
       " 'data_sg_exp-03_trial-001.txt',\n",
       " 'data_sg_exp-03_trial-002.txt',\n",
       " 'data_sg_exp-03_trial-003.txt',\n",
       " 'data_sg_exp-03_trial-004.txt',\n",
       " 'data_sg_exp-03_trial-005.txt',\n",
       " 'data_sg_exp-03_trial-006.txt',\n",
       " 'data_sg_exp-03_trial-007.txt',\n",
       " 'data_sg_exp-03_trial-008.txt',\n",
       " 'data_sg_exp-03_trial-009.txt',\n",
       " 'data_sg_exp-03_trial-010.txt',\n",
       " 'data_sg_exp-03_trial-011.txt',\n",
       " 'data_sg_exp-03_trial-012.txt',\n",
       " 'data_sg_exp-03_trial-013.txt',\n",
       " 'data_sg_exp-03_trial-014.txt',\n",
       " 'data_sg_exp-03_trial-015.txt',\n",
       " 'data_sg_exp-03_trial-016.txt',\n",
       " 'data_sg_exp-03_trial-017.txt',\n",
       " 'data_sg_exp-03_trial-018.txt',\n",
       " 'data_sg_exp-03_trial-019.txt',\n",
       " 'data_sg_exp-03_trial-020.txt',\n",
       " 'data_sg_exp-03_trial-021.txt',\n",
       " 'data_sg_exp-03_trial-022.txt',\n",
       " 'data_sg_exp-03_trial-023.txt',\n",
       " 'data_sg_exp-03_trial-024.txt',\n",
       " 'data_sg_exp-03_trial-025.txt',\n",
       " 'data_sg_exp-03_trial-026.txt',\n",
       " 'data_sg_exp-03_trial-027.txt',\n",
       " 'data_sg_exp-03_trial-028.txt',\n",
       " 'data_sg_exp-03_trial-029.txt',\n",
       " 'data_sg_exp-03_trial-030.txt',\n",
       " 'data_sg_exp-03_trial-031.txt',\n",
       " 'data_sg_exp-03_trial-032.txt',\n",
       " 'data_sg_exp-03_trial-033.txt',\n",
       " 'data_sg_exp-03_trial-034.txt',\n",
       " 'data_sg_exp-03_trial-035.txt',\n",
       " 'data_sg_exp-03_trial-036.txt',\n",
       " 'data_sg_exp-03_trial-037.txt',\n",
       " 'data_sg_exp-03_trial-038.txt',\n",
       " 'data_sg_exp-03_trial-039.txt',\n",
       " 'data_sg_exp-03_trial-040.txt',\n",
       " 'data_sg_exp-03_trial-041.txt',\n",
       " 'data_sg_exp-03_trial-042.txt',\n",
       " 'data_sg_exp-03_trial-043.txt',\n",
       " 'data_sg_exp-03_trial-044.txt',\n",
       " 'data_sg_exp-03_trial-045.txt',\n",
       " 'data_sg_exp-03_trial-046.txt',\n",
       " 'data_sg_exp-03_trial-047.txt',\n",
       " 'data_sg_exp-03_trial-048.txt',\n",
       " 'data_sg_exp-03_trial-049.txt',\n",
       " 'data_sg_exp-03_trial-050.txt',\n",
       " 'data_gb_exp-01_trial-001.txt',\n",
       " 'data_gb_exp-01_trial-002.txt',\n",
       " 'data_gb_exp-01_trial-003.txt',\n",
       " 'data_gb_exp-01_trial-004.txt',\n",
       " 'data_gb_exp-01_trial-005.txt',\n",
       " 'data_gb_exp-01_trial-006.txt',\n",
       " 'data_gb_exp-01_trial-007.txt',\n",
       " 'data_gb_exp-01_trial-008.txt',\n",
       " 'data_gb_exp-01_trial-009.txt',\n",
       " 'data_gb_exp-01_trial-010.txt',\n",
       " 'data_gb_exp-01_trial-011.txt',\n",
       " 'data_gb_exp-01_trial-012.txt',\n",
       " 'data_gb_exp-01_trial-013.txt',\n",
       " 'data_gb_exp-01_trial-014.txt',\n",
       " 'data_gb_exp-01_trial-015.txt',\n",
       " 'data_gb_exp-01_trial-016.txt',\n",
       " 'data_gb_exp-01_trial-017.txt',\n",
       " 'data_gb_exp-01_trial-018.txt',\n",
       " 'data_gb_exp-01_trial-019.txt',\n",
       " 'data_gb_exp-01_trial-020.txt',\n",
       " 'data_gb_exp-01_trial-021.txt',\n",
       " 'data_gb_exp-01_trial-022.txt',\n",
       " 'data_gb_exp-01_trial-023.txt',\n",
       " 'data_gb_exp-01_trial-024.txt',\n",
       " 'data_gb_exp-01_trial-025.txt',\n",
       " 'data_gb_exp-01_trial-026.txt',\n",
       " 'data_gb_exp-01_trial-027.txt',\n",
       " 'data_gb_exp-01_trial-028.txt',\n",
       " 'data_gb_exp-01_trial-029.txt',\n",
       " 'data_gb_exp-01_trial-030.txt',\n",
       " 'data_gb_exp-01_trial-031.txt',\n",
       " 'data_gb_exp-01_trial-032.txt',\n",
       " 'data_gb_exp-01_trial-033.txt',\n",
       " 'data_gb_exp-01_trial-034.txt',\n",
       " 'data_gb_exp-01_trial-035.txt',\n",
       " 'data_gb_exp-01_trial-036.txt',\n",
       " 'data_gb_exp-01_trial-037.txt',\n",
       " 'data_gb_exp-01_trial-038.txt',\n",
       " 'data_gb_exp-01_trial-039.txt',\n",
       " 'data_gb_exp-01_trial-040.txt',\n",
       " 'data_gb_exp-01_trial-041.txt',\n",
       " 'data_gb_exp-01_trial-042.txt',\n",
       " 'data_gb_exp-01_trial-043.txt',\n",
       " 'data_gb_exp-01_trial-044.txt',\n",
       " 'data_gb_exp-01_trial-045.txt',\n",
       " 'data_gb_exp-01_trial-046.txt',\n",
       " 'data_gb_exp-01_trial-047.txt',\n",
       " 'data_gb_exp-01_trial-048.txt',\n",
       " 'data_gb_exp-01_trial-049.txt',\n",
       " 'data_gb_exp-01_trial-050.txt',\n",
       " 'data_gb_exp-02_trial-001.txt',\n",
       " 'data_gb_exp-02_trial-002.txt',\n",
       " 'data_gb_exp-02_trial-003.txt',\n",
       " 'data_gb_exp-02_trial-004.txt',\n",
       " 'data_gb_exp-02_trial-005.txt',\n",
       " 'data_gb_exp-02_trial-006.txt',\n",
       " 'data_gb_exp-02_trial-007.txt',\n",
       " 'data_gb_exp-02_trial-008.txt',\n",
       " 'data_gb_exp-02_trial-009.txt',\n",
       " 'data_gb_exp-02_trial-010.txt',\n",
       " 'data_gb_exp-02_trial-011.txt',\n",
       " 'data_gb_exp-02_trial-012.txt',\n",
       " 'data_gb_exp-02_trial-013.txt',\n",
       " 'data_gb_exp-02_trial-014.txt',\n",
       " 'data_gb_exp-02_trial-015.txt',\n",
       " 'data_gb_exp-02_trial-016.txt',\n",
       " 'data_gb_exp-02_trial-017.txt',\n",
       " 'data_gb_exp-02_trial-018.txt',\n",
       " 'data_gb_exp-02_trial-019.txt',\n",
       " 'data_gb_exp-02_trial-020.txt',\n",
       " 'data_gb_exp-02_trial-021.txt',\n",
       " 'data_gb_exp-02_trial-022.txt',\n",
       " 'data_gb_exp-02_trial-023.txt',\n",
       " 'data_gb_exp-02_trial-024.txt',\n",
       " 'data_gb_exp-02_trial-025.txt',\n",
       " 'data_gb_exp-02_trial-026.txt',\n",
       " 'data_gb_exp-02_trial-027.txt',\n",
       " 'data_gb_exp-02_trial-028.txt',\n",
       " 'data_gb_exp-02_trial-029.txt',\n",
       " 'data_gb_exp-02_trial-030.txt',\n",
       " 'data_gb_exp-02_trial-031.txt',\n",
       " 'data_gb_exp-02_trial-032.txt',\n",
       " 'data_gb_exp-02_trial-033.txt',\n",
       " 'data_gb_exp-02_trial-034.txt',\n",
       " 'data_gb_exp-02_trial-035.txt',\n",
       " 'data_gb_exp-02_trial-036.txt',\n",
       " 'data_gb_exp-02_trial-037.txt',\n",
       " 'data_gb_exp-02_trial-038.txt',\n",
       " 'data_gb_exp-02_trial-039.txt',\n",
       " 'data_gb_exp-02_trial-040.txt',\n",
       " 'data_gb_exp-02_trial-041.txt',\n",
       " 'data_gb_exp-02_trial-042.txt',\n",
       " 'data_gb_exp-02_trial-043.txt',\n",
       " 'data_gb_exp-02_trial-044.txt',\n",
       " 'data_gb_exp-02_trial-045.txt',\n",
       " 'data_gb_exp-02_trial-046.txt',\n",
       " 'data_gb_exp-02_trial-047.txt',\n",
       " 'data_gb_exp-02_trial-048.txt',\n",
       " 'data_gb_exp-02_trial-049.txt',\n",
       " 'data_gb_exp-02_trial-050.txt',\n",
       " 'data_gb_exp-03_trial-001.txt',\n",
       " 'data_gb_exp-03_trial-002.txt',\n",
       " 'data_gb_exp-03_trial-003.txt',\n",
       " 'data_gb_exp-03_trial-004.txt',\n",
       " 'data_gb_exp-03_trial-005.txt',\n",
       " 'data_gb_exp-03_trial-006.txt',\n",
       " 'data_gb_exp-03_trial-007.txt',\n",
       " 'data_gb_exp-03_trial-008.txt',\n",
       " 'data_gb_exp-03_trial-009.txt',\n",
       " 'data_gb_exp-03_trial-010.txt',\n",
       " 'data_gb_exp-03_trial-011.txt',\n",
       " 'data_gb_exp-03_trial-012.txt',\n",
       " 'data_gb_exp-03_trial-013.txt',\n",
       " 'data_gb_exp-03_trial-014.txt',\n",
       " 'data_gb_exp-03_trial-015.txt',\n",
       " 'data_gb_exp-03_trial-016.txt',\n",
       " 'data_gb_exp-03_trial-017.txt',\n",
       " 'data_gb_exp-03_trial-018.txt',\n",
       " 'data_gb_exp-03_trial-019.txt',\n",
       " 'data_gb_exp-03_trial-020.txt',\n",
       " 'data_gb_exp-03_trial-021.txt',\n",
       " 'data_gb_exp-03_trial-022.txt',\n",
       " 'data_gb_exp-03_trial-023.txt',\n",
       " 'data_gb_exp-03_trial-024.txt',\n",
       " 'data_gb_exp-03_trial-025.txt',\n",
       " 'data_gb_exp-03_trial-026.txt',\n",
       " 'data_gb_exp-03_trial-027.txt',\n",
       " 'data_gb_exp-03_trial-028.txt',\n",
       " 'data_gb_exp-03_trial-029.txt',\n",
       " 'data_gb_exp-03_trial-030.txt',\n",
       " 'data_gb_exp-03_trial-031.txt',\n",
       " 'data_gb_exp-03_trial-032.txt',\n",
       " 'data_gb_exp-03_trial-033.txt',\n",
       " 'data_gb_exp-03_trial-034.txt',\n",
       " 'data_gb_exp-03_trial-035.txt',\n",
       " 'data_gb_exp-03_trial-036.txt',\n",
       " 'data_gb_exp-03_trial-037.txt',\n",
       " 'data_gb_exp-03_trial-038.txt',\n",
       " 'data_gb_exp-03_trial-039.txt',\n",
       " 'data_gb_exp-03_trial-040.txt',\n",
       " 'data_gb_exp-03_trial-041.txt',\n",
       " 'data_gb_exp-03_trial-042.txt',\n",
       " 'data_gb_exp-03_trial-043.txt',\n",
       " 'data_gb_exp-03_trial-044.txt',\n",
       " 'data_gb_exp-03_trial-045.txt',\n",
       " 'data_gb_exp-03_trial-046.txt',\n",
       " 'data_gb_exp-03_trial-047.txt',\n",
       " 'data_gb_exp-03_trial-048.txt',\n",
       " 'data_gb_exp-03_trial-049.txt',\n",
       " 'data_gb_exp-03_trial-050.txt']"
      ]
     },
     "execution_count": 48,
     "metadata": {},
     "output_type": "execute_result"
    }
   ],
   "source": [
    "#Question 5\n",
    "\n",
    "countries = ['sg' , 'gb']\n",
    "files = []\n",
    "\n",
    "\n",
    "\n",
    "for country in countries:\n",
    "    for i in range(3):\n",
    "        for j in range(50):\n",
    "            files += ['data_' + country + '_exp-' + f\"{i+1:0>2}\" + '_trial-' + f\"{j+1:0>3}\" + '.txt']\n",
    "            \n",
    "files       \n"
   ]
  },
  {
   "cell_type": "markdown",
   "id": "a04034fb",
   "metadata": {},
   "source": [
    "## Exercise 2 :  Tutti frutti"
   ]
  },
  {
   "cell_type": "markdown",
   "id": "a229927d",
   "metadata": {},
   "source": [
    "1. Yes"
   ]
  },
  {
   "cell_type": "code",
   "execution_count": 62,
   "id": "bf2a899b",
   "metadata": {
    "code_folding": []
   },
   "outputs": [
    {
     "name": "stdout",
     "output_type": "stream",
     "text": [
      "a e\n",
      "b a\n",
      "p e\n",
      "j t\n",
      "p h\n",
      "d n\n",
      "w n\n",
      "m o\n",
      "s y\n",
      "p t\n"
     ]
    }
   ],
   "source": [
    "#Question 2\n",
    "fruits = [\"apple\", \"banana\", \"pineapple\", \"jackfruit\",\n",
    "        \"peach\", \"durian\", \"watermelon\", \"mango\",\n",
    "        \"strawberry\", \"passionfruit\"]\n",
    "\n",
    "for fruit in fruits:\n",
    "    print(fruit[0], fruit[-1])"
   ]
  },
  {
   "cell_type": "code",
   "execution_count": 51,
   "id": "68b519ed",
   "metadata": {},
   "outputs": [
    {
     "name": "stdout",
     "output_type": "stream",
     "text": [
      "apple\n",
      "banana\n",
      "PINEAPPLE\n",
      "jackfruit\n",
      "PEACH\n",
      "durian\n",
      "watermelon\n",
      "mango\n",
      "strawberry\n",
      "PASSIONFRUIT\n"
     ]
    }
   ],
   "source": [
    "#Question 3\n",
    "for fruit in fruits:\n",
    "    if fruit[0] == 'p':\n",
    "        print(fruit.upper())\n",
    "    else:\n",
    "        print(fruit)"
   ]
  },
  {
   "cell_type": "code",
   "execution_count": 63,
   "id": "d9a8fe0d",
   "metadata": {},
   "outputs": [
    {
     "name": "stdout",
     "output_type": "stream",
     "text": [
      "['apple', 'banana', 'pineapple', 'jackfruit', 'peach', 'durian', 'watermelon', 'mango', 'strawberry', 'passionfruit', 'dragon fruit', 'apricots', 'oranges']\n"
     ]
    }
   ],
   "source": [
    "#Question 4\n",
    "#Part 1\n",
    "for fruit in [\"dragon fruit\", \"apricots\", \"oranges\"]:\n",
    "    fruits.append(fruit)\n",
    "\n",
    "print(fruits)"
   ]
  },
  {
   "cell_type": "code",
   "execution_count": 64,
   "id": "e743c8c2",
   "metadata": {},
   "outputs": [
    {
     "name": "stdout",
     "output_type": "stream",
     "text": [
      "['dragon fruit', 'apricots', 'oranges', 'apple', 'banana', 'pineapple', 'jackfruit', 'peach', 'durian', 'watermelon', 'mango', 'strawberry', 'passionfruit', 'dragon fruit', 'apricots', 'oranges']\n"
     ]
    }
   ],
   "source": [
    "#Part 2\n",
    "prepend_list = [\"dragon fruit\", \"apricots\", \"oranges\"]\n",
    "for fruit in fruits:\n",
    "    prepend_list.append(fruit)\n",
    "    \n",
    "print(prepend_list)"
   ]
  },
  {
   "cell_type": "markdown",
   "id": "268f2a42",
   "metadata": {},
   "source": [
    "## Exercise 3 :  Ciao Fibonacci"
   ]
  },
  {
   "cell_type": "code",
   "execution_count": null,
   "id": "c4dfc07b",
   "metadata": {},
   "outputs": [],
   "source": [
    "\n",
    "\n"
   ]
  },
  {
   "cell_type": "markdown",
   "id": "e47af108",
   "metadata": {},
   "source": [
    "## Exercise 4 :  A function for Fibonacci"
   ]
  },
  {
   "cell_type": "code",
   "execution_count": null,
   "id": "5c3db79b",
   "metadata": {},
   "outputs": [],
   "source": [
    "\n"
   ]
  },
  {
   "cell_type": "markdown",
   "id": "8e13b7b8",
   "metadata": {},
   "source": [
    "## Exercise 5 :  max_info() without NumPy"
   ]
  },
  {
   "cell_type": "code",
   "execution_count": null,
   "id": "f148eefc",
   "metadata": {},
   "outputs": [],
   "source": [
    "\n",
    "\n",
    "\n",
    "# Your solution here\n",
    "\n",
    "\n"
   ]
  },
  {
   "cell_type": "markdown",
   "id": "be76d704",
   "metadata": {},
   "source": [
    "## Exercise 6 :  Take count"
   ]
  },
  {
   "cell_type": "code",
   "execution_count": null,
   "id": "784aab8e",
   "metadata": {},
   "outputs": [],
   "source": [
    "\n",
    "\n",
    "\n",
    "# Your solution here\n",
    "\n",
    "\n"
   ]
  }
 ],
 "metadata": {
  "kernelspec": {
   "display_name": "Python 3 (ipykernel)",
   "language": "python",
   "name": "python3"
  },
  "language_info": {
   "codemirror_mode": {
    "name": "ipython",
    "version": 3
   },
   "file_extension": ".py",
   "mimetype": "text/x-python",
   "name": "python",
   "nbconvert_exporter": "python",
   "pygments_lexer": "ipython3",
   "version": "3.10.8"
  },
  "toc": {
   "base_numbering": 1,
   "nav_menu": {},
   "number_sections": true,
   "sideBar": true,
   "skip_h1_title": false,
   "title_cell": "Table of Contents",
   "title_sidebar": "Contents",
   "toc_cell": false,
   "toc_position": {},
   "toc_section_display": true,
   "toc_window_display": false
  },
  "varInspector": {
   "cols": {
    "lenName": 16,
    "lenType": 16,
    "lenVar": 40
   },
   "kernels_config": {
    "python": {
     "delete_cmd_postfix": "",
     "delete_cmd_prefix": "del ",
     "library": "var_list.py",
     "varRefreshCmd": "print(var_dic_list())"
    },
    "r": {
     "delete_cmd_postfix": ") ",
     "delete_cmd_prefix": "rm(",
     "library": "var_list.r",
     "varRefreshCmd": "cat(var_dic_list()) "
    }
   },
   "types_to_exclude": [
    "module",
    "function",
    "builtin_function_or_method",
    "instance",
    "_Feature"
   ],
   "window_display": false
  },
  "vscode": {
   "interpreter": {
    "hash": "31f2aee4e71d21fbe5cf8b01ff0e069b9275f58929596ceb00d14d90e3e16cd6"
   }
  }
 },
 "nbformat": 4,
 "nbformat_minor": 5
}
