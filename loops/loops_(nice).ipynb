{
 "cells": [
  {
   "cell_type": "markdown",
   "id": "123456",
   "metadata": {},
   "source": [
    "<div style=\"text-align:left;font-size:2em\"><span style=\"font-weight:bolder;font-size:1.25em\">SP2273 | Learning Portfolio</span><br><br><span style=\"font-weight:bold;color:darkred\">Loops (Nice)</span></div>"
   ]
  },
  {
   "cell_type": "markdown",
   "id": "33eb8c47",
   "metadata": {},
   "source": [
    "## 1 There is more…"
   ]
  },
  {
   "cell_type": "markdown",
   "id": "69a5e1f5",
   "metadata": {},
   "source": [
    "### 1.1 There is more to list comprehension"
   ]
  },
  {
   "cell_type": "code",
   "execution_count": 3,
   "id": "ab831000",
   "metadata": {},
   "outputs": [
    {
     "data": {
      "text/plain": [
       "[[0, 'A'],\n",
       " [0, 'B'],\n",
       " [0, 'C'],\n",
       " [1, 'A'],\n",
       " [1, 'B'],\n",
       " [1, 'C'],\n",
       " [2, 'A'],\n",
       " [2, 'B'],\n",
       " [2, 'C'],\n",
       " [3, 'A'],\n",
       " [3, 'B'],\n",
       " [3, 'C'],\n",
       " [4, 'A'],\n",
       " [4, 'B'],\n",
       " [4, 'C']]"
      ]
     },
     "execution_count": 3,
     "metadata": {},
     "output_type": "execute_result"
    }
   ],
   "source": [
    "#Can have more than one loop in a list comprehension\n",
    "\n",
    "[[a,b] for a in range(5) for b in ['A', 'B', 'C']]\n"
   ]
  },
  {
   "cell_type": "code",
   "execution_count": 5,
   "id": "ce60dd15",
   "metadata": {},
   "outputs": [
    {
     "data": {
      "text/plain": [
       "[[1, 'A'], [1, 'B'], [1, 'C'], [3, 'A'], [3, 'B'], [3, 'C']]"
      ]
     },
     "execution_count": 5,
     "metadata": {},
     "output_type": "execute_result"
    }
   ],
   "source": [
    "#Can even incorporate a condition\n",
    "\n",
    "[[a,b] for a in range(5) for b in ['A', 'B', 'C'] if a % 2 != 0]"
   ]
  },
  {
   "cell_type": "code",
   "execution_count": 6,
   "id": "052260b1",
   "metadata": {},
   "outputs": [
    {
     "data": {
      "text/plain": [
       "[1, 2, 3, 4, 5, 6, 7]"
      ]
     },
     "execution_count": 6,
     "metadata": {},
     "output_type": "execute_result"
    }
   ],
   "source": [
    "# A slightly more complictaed use of list comprehension to flatten a list\n",
    "nested_list=[[1, 2, 3], [4, 5, 6, 7]]\n",
    "[y for x in nested_list for y in x]"
   ]
  },
  {
   "cell_type": "markdown",
   "id": "88c50837",
   "metadata": {},
   "source": [
    "### 1.2 Zipping a dictionary"
   ]
  },
  {
   "cell_type": "code",
   "execution_count": 10,
   "id": "c4ba9cc3",
   "metadata": {},
   "outputs": [
    {
     "data": {
      "text/plain": [
       "{'Natasha Romanoff': 'Black Widow',\n",
       " 'Tony Stark': 'Iron Man',\n",
       " 'Stephen Strange': 'Doctor Strange'}"
      ]
     },
     "execution_count": 10,
     "metadata": {},
     "output_type": "execute_result"
    }
   ],
   "source": [
    "#zip() offers one of the easiest ways to combine two lists into a dictionary:\n",
    "\n",
    "super_names=[\"Black Widow\", \"Iron Man\", \"Doctor Strange\"]\n",
    "real_names=[\"Natasha Romanoff\", \"Tony Stark\", \"Stephen Strange\"]\n",
    "\n",
    "dict(zip(real_names, super_names))"
   ]
  },
  {
   "cell_type": "markdown",
   "id": "34104a7f",
   "metadata": {},
   "source": [
    "### 1.3 for and while has an else"
   ]
  },
  {
   "cell_type": "code",
   "execution_count": 14,
   "id": "b9a99f28",
   "metadata": {},
   "outputs": [],
   "source": [
    "# for and while loops in Python come with an optional else statement\n",
    "# code in the else block is executed only if the loops are completed. The else code-block will not run if the loop is exited prematurely by using break\n",
    "\n",
    "numbers=[0, 1, 2, 3, 4, 5, 6, 7, 8, 9, -1]\n",
    "\n",
    "for i in numbers:\n",
    "    if i < 0: break\n",
    "else:\n",
    "    print('No negative numbers in the list')\n",
    "\n",
    "    \n",
    "# Adding a negative number to the list will result in no message\n",
    "#The else statement can be used to distinguish between the loops completing as planned or if there was a break (or return or an exception)"
   ]
  },
  {
   "cell_type": "markdown",
   "id": "831a011e",
   "metadata": {},
   "source": [
    "## Explore 1 :  Changing a list"
   ]
  },
  {
   "cell_type": "code",
   "execution_count": 30,
   "id": "d067bcd5",
   "metadata": {},
   "outputs": [
    {
     "data": {
      "text/plain": [
       "['apple',\n",
       " 'banana',\n",
       " 'jackfruit',\n",
       " 'watermelons',\n",
       " 'durian',\n",
       " 'mangoes',\n",
       " 'strawberries']"
      ]
     },
     "execution_count": 30,
     "metadata": {},
     "output_type": "execute_result"
    }
   ],
   "source": [
    "fruits = [\"apple\", \"banana\", \"jackfruit\",\n",
    "          \"pineapple\", \"papaya\", \"watermelons\",\n",
    "          \"peaches\", \"durian\",  \"mangoes\",\n",
    "          \"strawberries\", \"passionfruit\"\n",
    "          ]\n",
    "\n",
    "[fruit for fruit in fruits if fruit[0] != \"p\"]\n",
    "         \n",
    "    "
   ]
  },
  {
   "cell_type": "markdown",
   "id": "6b3ea5b5",
   "metadata": {},
   "source": [
    "The error was removing an element from the list while iterating through the for loop caused a change in the subsequent indexing of the elements."
   ]
  },
  {
   "cell_type": "markdown",
   "id": "eb3c7747",
   "metadata": {},
   "source": [
    "## Explore 2 :  A list of power"
   ]
  },
  {
   "cell_type": "code",
   "execution_count": 18,
   "id": "9993fc96",
   "metadata": {},
   "outputs": [
    {
     "name": "stdout",
     "output_type": "stream",
     "text": [
      "[[1, 1, 1], [2, 4, 8], [3, 9, 27], [4, 16, 64], [5, 25, 125]]\n"
     ]
    }
   ],
   "source": [
    "maximum_n = 5\n",
    "result = [[], [], [], [], []]\n",
    "\n",
    "for n in range(1, maximum_n + 1):\n",
    "    result[n - 1].append(n)\n",
    "    result[n - 1].append(n**2)\n",
    "    result[n - 1].append(n**3)\n",
    "    \n",
    "print(result)"
   ]
  },
  {
   "cell_type": "code",
   "execution_count": null,
   "id": "89700722",
   "metadata": {},
   "outputs": [],
   "source": [
    "#[[]] * 5 is not the same as [[], [] ,[], [], []] as [[]] * 5 does not create five different empty lists. Instead, one empty list is created with 5 references to that empty list."
   ]
  },
  {
   "cell_type": "markdown",
   "id": "b45814a2",
   "metadata": {},
   "source": [
    "## Explore 3 :  Time profiling"
   ]
  },
  {
   "cell_type": "code",
   "execution_count": 29,
   "id": "fde1fa97",
   "metadata": {},
   "outputs": [
    {
     "name": "stdout",
     "output_type": "stream",
     "text": [
      "6.2 µs ± 45.8 ns per loop (mean ± std. dev. of 7 runs, 100,000 loops each)\n"
     ]
    }
   ],
   "source": [
    "%%timeit\n",
    "list = []\n",
    "for i in range(30):\n",
    "    list += [i**2]\n",
    "    \n",
    "list"
   ]
  },
  {
   "cell_type": "code",
   "execution_count": 30,
   "id": "15cbdc65",
   "metadata": {},
   "outputs": [
    {
     "name": "stdout",
     "output_type": "stream",
     "text": [
      "6.71 µs ± 61 ns per loop (mean ± std. dev. of 7 runs, 100,000 loops each)\n"
     ]
    }
   ],
   "source": [
    "%%timeit\n",
    "list = []\n",
    "i = 0\n",
    "while i < 30:\n",
    "    list += [i**2]\n",
    "    i += 1\n",
    "    \n",
    "list"
   ]
  },
  {
   "cell_type": "code",
   "execution_count": 31,
   "id": "8581985e",
   "metadata": {},
   "outputs": [
    {
     "name": "stdout",
     "output_type": "stream",
     "text": [
      "5.66 µs ± 36 ns per loop (mean ± std. dev. of 7 runs, 100,000 loops each)\n"
     ]
    }
   ],
   "source": [
    "%timeit [i**2 for i in range(30)]"
   ]
  },
  {
   "cell_type": "code",
   "execution_count": 32,
   "id": "51f4a4f1",
   "metadata": {},
   "outputs": [
    {
     "name": "stdout",
     "output_type": "stream",
     "text": [
      "5.99 µs ± 28.5 ns per loop (mean ± std. dev. of 7 runs, 100,000 loops each)\n"
     ]
    }
   ],
   "source": [
    "%%timeit\n",
    "list = []\n",
    "for i in range(30):\n",
    "    list.append(i**2)\n",
    "    \n",
    "list"
   ]
  },
  {
   "cell_type": "code",
   "execution_count": 33,
   "id": "42826715",
   "metadata": {},
   "outputs": [
    {
     "name": "stdout",
     "output_type": "stream",
     "text": [
      "54.3 µs ± 203 ns per loop (mean ± std. dev. of 7 runs, 10,000 loops each)\n"
     ]
    }
   ],
   "source": [
    "%%timeit\n",
    "list = []\n",
    "np_array = np.array(list)\n",
    "for i in range(30):\n",
    "    np_array = np.append(np_array, [i**2])"
   ]
  }
 ],
 "metadata": {
  "kernelspec": {
   "display_name": "Python 3 (ipykernel)",
   "language": "python",
   "name": "python3"
  },
  "language_info": {
   "codemirror_mode": {
    "name": "ipython",
    "version": 3
   },
   "file_extension": ".py",
   "mimetype": "text/x-python",
   "name": "python",
   "nbconvert_exporter": "python",
   "pygments_lexer": "ipython3",
   "version": "3.10.8"
  },
  "toc": {
   "base_numbering": 1,
   "nav_menu": {},
   "number_sections": true,
   "sideBar": true,
   "skip_h1_title": false,
   "title_cell": "Table of Contents",
   "title_sidebar": "Contents",
   "toc_cell": false,
   "toc_position": {},
   "toc_section_display": true,
   "toc_window_display": false
  },
  "varInspector": {
   "cols": {
    "lenName": 16,
    "lenType": 16,
    "lenVar": 40
   },
   "kernels_config": {
    "python": {
     "delete_cmd_postfix": "",
     "delete_cmd_prefix": "del ",
     "library": "var_list.py",
     "varRefreshCmd": "print(var_dic_list())"
    },
    "r": {
     "delete_cmd_postfix": ") ",
     "delete_cmd_prefix": "rm(",
     "library": "var_list.r",
     "varRefreshCmd": "cat(var_dic_list()) "
    }
   },
   "types_to_exclude": [
    "module",
    "function",
    "builtin_function_or_method",
    "instance",
    "_Feature"
   ],
   "window_display": false
  },
  "vscode": {
   "interpreter": {
    "hash": "31f2aee4e71d21fbe5cf8b01ff0e069b9275f58929596ceb00d14d90e3e16cd6"
   }
  }
 },
 "nbformat": 4,
 "nbformat_minor": 5
}
