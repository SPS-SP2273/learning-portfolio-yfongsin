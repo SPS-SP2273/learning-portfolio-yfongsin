{
 "cells": [
  {
   "cell_type": "markdown",
   "id": "123456",
   "metadata": {},
   "source": [
    "<div style=\"text-align:left;font-size:2em\"><span style=\"font-weight:bolder;font-size:1.25em\">SP2273 | Learning Portfolio</span><br><br><span style=\"font-weight:bold;color:darkred\">Loops (Good)</span></div>"
   ]
  },
  {
   "cell_type": "markdown",
   "id": "061adab3",
   "metadata": {},
   "source": [
    "## 1 Interrupting the flow"
   ]
  },
  {
   "cell_type": "code",
   "execution_count": 2,
   "id": "e6754641",
   "metadata": {},
   "outputs": [
    {
     "name": "stdout",
     "output_type": "stream",
     "text": [
      "0\n",
      "1\n",
      "2\n",
      "3\n",
      "4\n",
      "5\n",
      "6\n"
     ]
    }
   ],
   "source": [
    "#break will break out of the loop\n",
    "for i in range(10):\n",
    "    if i > 6: break\n",
    "    print(i)"
   ]
  },
  {
   "cell_type": "code",
   "execution_count": 3,
   "id": "2a93b343",
   "metadata": {},
   "outputs": [
    {
     "name": "stdout",
     "output_type": "stream",
     "text": [
      "0\n",
      "1\n",
      "2\n",
      "3\n",
      "4\n",
      "5\n",
      "7\n",
      "8\n",
      "9\n"
     ]
    }
   ],
   "source": [
    "#continue will stop proceeding the current loop\n",
    "for i in range(10):\n",
    "    if i == 6: continue        # Don't proceed further\n",
    "                               # IN THE CURRENT LOOP\n",
    "                               # if i == 6\n",
    "    print(i)"
   ]
  },
  {
   "cell_type": "code",
   "execution_count": 1,
   "id": "b35314c3",
   "metadata": {},
   "outputs": [
    {
     "name": "stdout",
     "output_type": "stream",
     "text": [
      "1\n",
      "3\n",
      "5\n",
      "7\n",
      "9\n"
     ]
    }
   ],
   "source": [
    "for i in range(10):\n",
    "    if i % 2 == 0: continue     # Don't proceed if the remainder is zero\n",
    "                                # I.e. if the number is even\n",
    "    print(i)"
   ]
  },
  {
   "cell_type": "code",
   "execution_count": null,
   "id": "f84aab70",
   "metadata": {},
   "outputs": [],
   "source": [
    "number=0\n",
    "\n",
    "while True:\n",
    "    print(number)\n",
    "    number += 1\n",
    "    if number > 4: break"
   ]
  },
  {
   "cell_type": "markdown",
   "id": "8c78d477",
   "metadata": {},
   "source": [
    "## 2 List comprehension!"
   ]
  },
  {
   "cell_type": "markdown",
   "id": "3a10041b",
   "metadata": {},
   "source": [
    "Creating new lists from other lists very common, hence Python has an optimised syntax called **list comprehension** to do that"
   ]
  },
  {
   "cell_type": "markdown",
   "id": "441908cb",
   "metadata": {},
   "source": [
    "### 2.1 Basic syntax"
   ]
  },
  {
   "cell_type": "code",
   "execution_count": 4,
   "id": "b13f5b8f",
   "metadata": {},
   "outputs": [
    {
     "data": {
      "text/plain": [
       "[0, 1, 2, 3, 4, 5, 6, 7, 8, 9]"
      ]
     },
     "execution_count": 4,
     "metadata": {},
     "output_type": "execute_result"
    }
   ],
   "source": [
    "\n",
    "# To create a simple list with numbers from 0 to 9\n",
    "[number for number in range(10)]"
   ]
  },
  {
   "cell_type": "code",
   "execution_count": 5,
   "id": "9db7300c",
   "metadata": {},
   "outputs": [
    {
     "data": {
      "text/plain": [
       "[0, 1, 4, 9, 16, 25, 36, 49, 64, 81]"
      ]
     },
     "execution_count": 5,
     "metadata": {},
     "output_type": "execute_result"
    }
   ],
   "source": [
    "#Syntax is very similar to that of a for loop. Output should be put at the front\n",
    "\n",
    "#To create a list of squares:\n",
    "[number**2 for number in range(10)]"
   ]
  },
  {
   "cell_type": "markdown",
   "id": "e6c8b286",
   "metadata": {},
   "source": [
    "### 2.2 List comprehension with conditions"
   ]
  },
  {
   "cell_type": "code",
   "execution_count": 6,
   "id": "c994d2fd",
   "metadata": {},
   "outputs": [
    {
     "data": {
      "text/plain": [
       "[0, 2, 4, 6, 8]"
      ]
     },
     "execution_count": 6,
     "metadata": {},
     "output_type": "execute_result"
    }
   ],
   "source": [
    "# List comprehension allows us to specify a condition\n",
    "\n",
    "[number for number in range(10) if number % 2 ==0]\n"
   ]
  },
  {
   "cell_type": "markdown",
   "id": "244a2695",
   "metadata": {},
   "source": [
    "## 3 Other useful stuff"
   ]
  },
  {
   "cell_type": "markdown",
   "id": "9dfee9b5",
   "metadata": {},
   "source": [
    "### 3.1 for with unpacking"
   ]
  },
  {
   "cell_type": "code",
   "execution_count": 7,
   "id": "09a7df66",
   "metadata": {},
   "outputs": [
    {
     "name": "stdout",
     "output_type": "stream",
     "text": [
      "x = 1, y = 2, z = 3\n"
     ]
    }
   ],
   "source": [
    "# Python allows a neat trick called unpacking, which works like this:\n",
    "\n",
    "x, y, z=[1, 2, 3]\n",
    "print(f'x = {x}, y = {y}, z = {z}')\n"
   ]
  },
  {
   "cell_type": "code",
   "execution_count": 8,
   "id": "3c7cb11a",
   "metadata": {},
   "outputs": [
    {
     "name": "stdout",
     "output_type": "stream",
     "text": [
      "Natasha Romanoff is Marvel's Black Widow!\n",
      "Tony Stark is Marvel's Iron Man!\n",
      "Stephen Strange is Marvel's Doctor Strange!\n"
     ]
    }
   ],
   "source": [
    "#We can combine unpacking with a for loop to extract elements from a 2D list as follows:\n",
    "\n",
    "py_superhero_info=[['Natasha Romanoff', 'Black Widow'],\n",
    "                     ['Tony Stark', 'Iron Man'],\n",
    "                     ['Stephen Strange', 'Doctor Strange']]\n",
    "\n",
    "for real_name, super_name in py_superhero_info:\n",
    "    print(f\"{real_name} is Marvel's {super_name}!\")"
   ]
  },
  {
   "cell_type": "markdown",
   "id": "fb0d7ab1",
   "metadata": {},
   "source": [
    "### 3.2 for with a zip()"
   ]
  },
  {
   "cell_type": "code",
   "execution_count": 9,
   "id": "e9c912f3",
   "metadata": {},
   "outputs": [
    {
     "name": "stdout",
     "output_type": "stream",
     "text": [
      "Natasha Romanoff is Marvel's Black Widow!\n",
      "Tony Stark is Marvel's Iron Man!\n",
      "Stephen Strange is Marvel's Doctor Strange!\n"
     ]
    }
   ],
   "source": [
    "# zip() is a neat function that can combine two lists\n",
    "\n",
    "super_names = [\"Black Widow\", \"Iron Man\", \"Doctor Strange\"]\n",
    "real_names = [\"Natasha Romanoff\", \"Tony Stark\", \"Stephen Strange\"]\n",
    "\n",
    "for real_name, super_name in zip(real_names,super_names):\n",
    "    print(f\"{real_name} is Marvel's {super_name}!\")\n"
   ]
  },
  {
   "cell_type": "markdown",
   "id": "90b93955",
   "metadata": {},
   "source": [
    "### 3.3 for with dictionaries"
   ]
  },
  {
   "cell_type": "code",
   "execution_count": 11,
   "id": "7a085bf6",
   "metadata": {},
   "outputs": [
    {
     "name": "stdout",
     "output_type": "stream",
     "text": [
      "Natasha Romanoff is Marvel's Black Widow!\n",
      "Tony Stark is Marvel's Iron Man!\n",
      "Stephen Strange is Marvel's Doctor Strange!\n"
     ]
    }
   ],
   "source": [
    "#To loop through dictionaries with a for loop:\n",
    "\n",
    "superhero_info={\"Natasha Romanoff\": \"Black Widow\",\n",
    "                \"Tony Stark\": \"Iron Man\",\n",
    "                \"Stephen Strange\": \"Doctor Strange\"}\n",
    "\n",
    "for key, value in superhero_info.items():\n",
    "    print(f\"{key} is Marvel's {value}!\")\n",
    "    \n",
    "# The 'hidden' function items() spits out both the key and the corresponding value\n"
   ]
  },
  {
   "cell_type": "code",
   "execution_count": 12,
   "id": "a2b5a84e",
   "metadata": {},
   "outputs": [
    {
     "name": "stdout",
     "output_type": "stream",
     "text": [
      "Natasha Romanoff is Marvel's Black Widow!\n",
      "Tony Stark is Marvel's Iron Man!\n",
      "Stephen Strange is Marvel's Doctor Strange!\n"
     ]
    }
   ],
   "source": [
    "# You can directly access the keys as follows:\n",
    "\n",
    "for key in superhero_info.keys():\n",
    "    value=superhero_info[key]\n",
    "    print(f\"{key} is Marvel's {value}!\")"
   ]
  },
  {
   "cell_type": "markdown",
   "id": "b3d41f55",
   "metadata": {},
   "source": [
    "## Exercise 1 :  Make me an odd list"
   ]
  },
  {
   "cell_type": "code",
   "execution_count": 22,
   "id": "ed1a9621",
   "metadata": {},
   "outputs": [
    {
     "data": {
      "text/plain": [
       "[1, 9, 25, 49, 81]"
      ]
     },
     "execution_count": 22,
     "metadata": {},
     "output_type": "execute_result"
    }
   ],
   "source": [
    "odd_list = []\n",
    "for number in range(10):\n",
    "    if number % 2 == 0: continue\n",
    "    odd_list += [number**2]\n",
    "    \n",
    "odd_list        \n",
    "    \n",
    "\n",
    "\n"
   ]
  },
  {
   "cell_type": "markdown",
   "id": "19c164ee",
   "metadata": {},
   "source": [
    "## Exercise 2 :  Make me another odd list"
   ]
  },
  {
   "cell_type": "code",
   "execution_count": 15,
   "id": "c1adb02a",
   "metadata": {},
   "outputs": [
    {
     "data": {
      "text/plain": [
       "[1, 9, 25, 49, 81]"
      ]
     },
     "execution_count": 15,
     "metadata": {},
     "output_type": "execute_result"
    }
   ],
   "source": [
    "[number**2 for number in range(10) if number % 2 != 0]\n",
    "\n"
   ]
  },
  {
   "cell_type": "markdown",
   "id": "8ecaf5a8",
   "metadata": {},
   "source": [
    "## Exercise 3 :  Time me!"
   ]
  },
  {
   "cell_type": "code",
   "execution_count": 27,
   "id": "e455bc81",
   "metadata": {},
   "outputs": [
    {
     "name": "stdout",
     "output_type": "stream",
     "text": [
      "1.3 µs ± 0.985 ns per loop (mean ± std. dev. of 7 runs, 1,000,000 loops each)\n"
     ]
    }
   ],
   "source": [
    "%%timeit \n",
    "\n",
    "odd_list = []\n",
    "for number in range(10):\n",
    "    if number % 2 == 0: continue\n",
    "    odd_list += [number**2]\n",
    "    \n",
    "odd_list "
   ]
  },
  {
   "cell_type": "code",
   "execution_count": 26,
   "id": "2422e2e9",
   "metadata": {},
   "outputs": [
    {
     "name": "stdout",
     "output_type": "stream",
     "text": [
      "1.26 µs ± 1.91 ns per loop (mean ± std. dev. of 7 runs, 1,000,000 loops each)\n"
     ]
    }
   ],
   "source": [
    "%%timeit \n",
    "[number**2 for number in range(10) if number % 2 != 0]"
   ]
  },
  {
   "cell_type": "markdown",
   "id": "0edcf2da",
   "metadata": {},
   "source": [
    "Using list comprehension is faster than using a for loop"
   ]
  }
 ],
 "metadata": {
  "kernelspec": {
   "display_name": "Python 3 (ipykernel)",
   "language": "python",
   "name": "python3"
  },
  "language_info": {
   "codemirror_mode": {
    "name": "ipython",
    "version": 3
   },
   "file_extension": ".py",
   "mimetype": "text/x-python",
   "name": "python",
   "nbconvert_exporter": "python",
   "pygments_lexer": "ipython3",
   "version": "3.10.8"
  },
  "toc": {
   "base_numbering": 1,
   "nav_menu": {},
   "number_sections": true,
   "sideBar": true,
   "skip_h1_title": false,
   "title_cell": "Table of Contents",
   "title_sidebar": "Contents",
   "toc_cell": false,
   "toc_position": {},
   "toc_section_display": true,
   "toc_window_display": false
  },
  "varInspector": {
   "cols": {
    "lenName": 16,
    "lenType": 16,
    "lenVar": 40
   },
   "kernels_config": {
    "python": {
     "delete_cmd_postfix": "",
     "delete_cmd_prefix": "del ",
     "library": "var_list.py",
     "varRefreshCmd": "print(var_dic_list())"
    },
    "r": {
     "delete_cmd_postfix": ") ",
     "delete_cmd_prefix": "rm(",
     "library": "var_list.r",
     "varRefreshCmd": "cat(var_dic_list()) "
    }
   },
   "types_to_exclude": [
    "module",
    "function",
    "builtin_function_or_method",
    "instance",
    "_Feature"
   ],
   "window_display": false
  },
  "vscode": {
   "interpreter": {
    "hash": "31f2aee4e71d21fbe5cf8b01ff0e069b9275f58929596ceb00d14d90e3e16cd6"
   }
  }
 },
 "nbformat": 4,
 "nbformat_minor": 5
}
