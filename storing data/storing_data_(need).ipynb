{
 "cells": [
  {
   "cell_type": "markdown",
   "id": "123456",
   "metadata": {},
   "source": [
    "<div style=\"text-align:left;font-size:2em\"><span style=\"font-weight:bolder;font-size:1.25em\">SP2273 | Learning Portfolio</span><br><br><span style=\"font-weight:bold;color:darkred\">Storing Data (Need)</span></div>"
   ]
  },
  {
   "cell_type": "markdown",
   "id": "3c194f87",
   "metadata": {},
   "source": [
    "## 1 Lists, Arrays & Dictionaries"
   ]
  },
  {
   "cell_type": "markdown",
   "id": "c128a20d",
   "metadata": {},
   "source": [
    "### 1.1 Let’s compare"
   ]
  },
  {
   "cell_type": "code",
   "execution_count": null,
   "id": "fa3a9f6e",
   "metadata": {},
   "outputs": [],
   "source": [
    "import numpy as np\n",
    "# Your code here\n",
    "#Python Lists\n",
    "py_super_names = [\"Black Widow\", \"Iron Man\", \"Doctor Strange\"]\n",
    "py_real_names = [\"Natasha Romanoff\", \"Tony Stark\", \"Stephen Strange\"]\n",
    "\n",
    "#Numpy Arrays\n",
    "np_super_names = np.array([\"Black Widow\", \"Iron Man\", \"Doctor Strange\"])\n",
    "np_real_names = np.array([\"Natasha Romanoff\", \"Tony Stark\", \"Stephen Strange\"])\n",
    "\n",
    "#Dictionary\n",
    "superhero_info = {\"Natasha Romanoff\": \"Black Widow\",\n",
    "                  \"Tony Stark\": \"Iron Man\",\n",
    "                  \"Stephen Strange\": \"Doctor Strange\"\n",
    "                  }\n",
    "\n",
    "#Dictionaries use a key and an associated value separated by a :\n"
   ]
  },
  {
   "cell_type": "markdown",
   "id": "e9061268",
   "metadata": {},
   "source": [
    "### 1.2 Accessing data from a list (or array)"
   ]
  },
  {
   "cell_type": "code",
   "execution_count": 1,
   "id": "623eae42",
   "metadata": {},
   "outputs": [
    {
     "name": "stdout",
     "output_type": "stream",
     "text": [
      "Natasha Romanoff\n",
      "Black Widow\n",
      "Doctor Strange\n",
      "Doctor Strange\n"
     ]
    }
   ],
   "source": [
    "\n",
    "# Your code here\n",
    "#Python is a zero-indexed language, so it starts counting at 0\n",
    "py_super_names = [\"Black Widow\", \"Iron Man\", \"Doctor Strange\"]\n",
    "py_real_names = [\"Natasha Romanoff\", \"Tony Stark\", \"Stephen Strange\"]\n",
    "\n",
    "print(py_real_names[0])\n",
    "print(py_super_names[0])\n",
    "\n",
    "#using a negative index allows us to count from the back of the list. Using index -1 will give the last element\n",
    "print(py_super_names[2])    # Forward indexing \n",
    "                            # We need to know the size \n",
    "                            # beforehand for this to work.\n",
    "        \n",
    "print(py_super_names[-1])   # Reverse indexing"
   ]
  },
  {
   "cell_type": "markdown",
   "id": "852fd594",
   "metadata": {},
   "source": [
    "### 1.3 Accessing data from a dictionary"
   ]
  },
  {
   "cell_type": "code",
   "execution_count": 3,
   "id": "48881f89",
   "metadata": {},
   "outputs": [
    {
     "name": "stdout",
     "output_type": "stream",
     "text": [
      "Black Widow\n"
     ]
    },
    {
     "data": {
      "text/plain": [
       "dict_values(['Black Widow', 'Iron Man', 'Doctor Strange'])"
      ]
     },
     "execution_count": 3,
     "metadata": {},
     "output_type": "execute_result"
    }
   ],
   "source": [
    "\n",
    "# Your code here\n",
    "#Dictionaries hold data (values) paired with a key. i.e. you can access the value using key\n",
    "superhero_info = {\"Natasha Romanoff\": \"Black Widow\",\n",
    "                  \"Tony Stark\": \"Iron Man\",\n",
    "                  \"Stephen Strange\": \"Doctor Strange\"\n",
    "                  }\n",
    "print(superhero_info[\"Natasha Romanoff\"])\n",
    "\n",
    "#Can access all the keys and values as follows:\n",
    "superhero_info.keys()\n",
    "superhero_info.values()"
   ]
  },
  {
   "cell_type": "markdown",
   "id": "1682bf30",
   "metadata": {},
   "source": [
    "### 1.4 Higher dimensional lists"
   ]
  },
  {
   "cell_type": "code",
   "execution_count": 4,
   "id": "bea2a3c6",
   "metadata": {},
   "outputs": [],
   "source": [
    "\n",
    "# 2D list (or array)\n",
    "py_superhero_info = [['Natasha Romanoff', 'Black Widow'],\n",
    "                     ['Tony Stark', 'Iron Man'],\n",
    "                     ['Stephen Strange', 'Doctor Strange']]\n"
   ]
  },
  {
   "cell_type": "markdown",
   "id": "2caa9bce",
   "metadata": {},
   "source": [
    "## 2 Lists vs. Arrays"
   ]
  },
  {
   "cell_type": "markdown",
   "id": "711ffced",
   "metadata": {},
   "source": [
    "### 2.1 Size"
   ]
  },
  {
   "cell_type": "code",
   "execution_count": 8,
   "id": "cbd1095b",
   "metadata": {},
   "outputs": [
    {
     "data": {
      "text/plain": [
       "(10, 2)"
      ]
     },
     "execution_count": 8,
     "metadata": {},
     "output_type": "execute_result"
    }
   ],
   "source": [
    "\n",
    "#Use the len() function to know how many elements there are in lists\n",
    "py_list_2d = [[1, \"A\"], [2, \"B\"], [3, \"C\"], [4, \"D\"],\n",
    "              [5, \"E\"], [6, \"F\"], [7, \"G\"], [8, \"H\"],\n",
    "              [9, \"I\"], [10, \"J\"]]\n",
    "\n",
    "np_array_2d = np.array(py_list_2d)      # Reusing the Python list \n",
    "                                        # to create a NEW\n",
    "                                        # NumPy array\n",
    "\n",
    "len(py_list_2d)\n",
    "len(np_array_2d)\n",
    "\n",
    "np_array_2d.shape \n",
    "#absence of brackets () in shape above. This is because shape is not a function. Instead, it is a property of attribute of the NumPy array"
   ]
  },
  {
   "cell_type": "markdown",
   "id": "26a7eb90",
   "metadata": {},
   "source": [
    "### 2.2 Arrays are fussy about type"
   ]
  },
  {
   "cell_type": "code",
   "execution_count": 9,
   "id": "e550fe78",
   "metadata": {},
   "outputs": [
    {
     "data": {
      "text/plain": [
       "array(['1', '1.5', 'A'], dtype='<U32')"
      ]
     },
     "execution_count": 9,
     "metadata": {},
     "output_type": "execute_result"
    }
   ],
   "source": [
    "\n",
    "#One prominent difference between lists and arrays is that arrays like having a single data type; lists are more accommodating\n",
    "py_list = [1, 1.5, 'A']\n",
    "np.array(py_list)\n",
    "#numbers are converted to Englist with ''"
   ]
  },
  {
   "cell_type": "markdown",
   "id": "ea8fa52c",
   "metadata": {},
   "source": [
    "### 2.3 Adding a number"
   ]
  },
  {
   "cell_type": "code",
   "execution_count": 11,
   "id": "898213a0",
   "metadata": {},
   "outputs": [
    {
     "data": {
      "text/plain": [
       "array([11, 12, 13, 14, 15])"
      ]
     },
     "execution_count": 11,
     "metadata": {},
     "output_type": "execute_result"
    }
   ],
   "source": [
    "py_list = [1, 2, 3, 4, 5]\n",
    "np_array = np.array(py_list)         # Reusing the Python list\n",
    "                                     # to create a NEW\n",
    "                                     # NumPy array\n",
    "py_list + 10        # Won't work!\n",
    "np_array + 10       # Works\n",
    "\n"
   ]
  },
  {
   "cell_type": "markdown",
   "id": "f37272c6",
   "metadata": {},
   "source": [
    "### 2.4 Adding another list"
   ]
  },
  {
   "cell_type": "code",
   "execution_count": 12,
   "id": "ede126a7",
   "metadata": {},
   "outputs": [
    {
     "data": {
      "text/plain": [
       "array([11, 22, 33, 44, 55])"
      ]
     },
     "execution_count": 12,
     "metadata": {},
     "output_type": "execute_result"
    }
   ],
   "source": [
    "py_list_1 = [1, 2, 3, 4, 5]\n",
    "py_list_2 = [10, 20, 30, 40, 50]\n",
    "\n",
    "np_array_1 = np.array(py_list_1)\n",
    "np_array_2 = np.array(py_list_2)\n",
    "\n",
    "# Adding python list adds elements to the list\n",
    "py_list_1 + py_list_2\n",
    "\n",
    "#Adding numpy arrays performs arithmetic additions to the elements\n",
    "np_array_1 + np_array_2"
   ]
  },
  {
   "cell_type": "markdown",
   "id": "ecf5564a",
   "metadata": {},
   "source": [
    "### 2.5 Multiplying by a Number"
   ]
  },
  {
   "cell_type": "code",
   "execution_count": 13,
   "id": "6012d98b",
   "metadata": {},
   "outputs": [
    {
     "data": {
      "text/plain": [
       "array([ 2,  4,  6,  8, 10])"
      ]
     },
     "execution_count": 13,
     "metadata": {},
     "output_type": "execute_result"
    }
   ],
   "source": [
    "py_list = [1, 2, 3, 4, 5]\n",
    "np_array = np.array(py_list)\n",
    "\n",
    "# Similar to addition, multiplying by a number makes a list grow\n",
    "py_list*2\n",
    "\n",
    "#whereas an array multiples its elements by the number\n",
    "np_array*2\n"
   ]
  },
  {
   "cell_type": "markdown",
   "id": "c8bfd809",
   "metadata": {},
   "source": [
    "### 2.6 Squaring"
   ]
  },
  {
   "cell_type": "code",
   "execution_count": null,
   "id": "77c2072d",
   "metadata": {},
   "outputs": [],
   "source": [
    "py_list = [1, 2, 3, 4, 5]\n",
    "np_array = np.array(py_list)\n",
    "\n",
    "#Squaring a list won't work\n",
    "py_list**2                      # Won't work!  \n",
    "\n",
    "#Squaring an array squares the elements\n",
    "np_array**2"
   ]
  },
  {
   "cell_type": "markdown",
   "id": "35598b0e",
   "metadata": {},
   "source": [
    "### 2.7 Asking questions"
   ]
  },
  {
   "cell_type": "code",
   "execution_count": 14,
   "id": "d2e09dd1",
   "metadata": {},
   "outputs": [
    {
     "ename": "TypeError",
     "evalue": "'>' not supported between instances of 'list' and 'int'",
     "output_type": "error",
     "traceback": [
      "\u001b[0;31m---------------------------------------------------------------------------\u001b[0m",
      "\u001b[0;31mTypeError\u001b[0m                                 Traceback (most recent call last)",
      "Cell \u001b[0;32mIn[14], line 5\u001b[0m\n\u001b[1;32m      2\u001b[0m np_array \u001b[38;5;241m=\u001b[39m np\u001b[38;5;241m.\u001b[39marray(py_list)         \n\u001b[1;32m      4\u001b[0m py_list \u001b[38;5;241m==\u001b[39m \u001b[38;5;241m3\u001b[39m     \u001b[38;5;66;03m# Works, but what IS the question?\u001b[39;00m\n\u001b[0;32m----> 5\u001b[0m \u001b[43mpy_list\u001b[49m\u001b[43m \u001b[49m\u001b[38;5;241;43m>\u001b[39;49m\u001b[43m \u001b[49m\u001b[38;5;241;43m3\u001b[39;49m      \u001b[38;5;66;03m# Won't work!\u001b[39;00m\n\u001b[1;32m      7\u001b[0m \u001b[38;5;66;03m#Compares the elements in the array\u001b[39;00m\n\u001b[1;32m      8\u001b[0m np_array \u001b[38;5;241m==\u001b[39m \u001b[38;5;241m3\u001b[39m  \n",
      "\u001b[0;31mTypeError\u001b[0m: '>' not supported between instances of 'list' and 'int'"
     ]
    }
   ],
   "source": [
    "py_list = [1, 2, 3, 4, 5]\n",
    "np_array = np.array(py_list)         \n",
    "\n",
    "py_list == 3     # Works, but what IS the question?\n",
    "py_list > 3      # Won't work!\n",
    "\n",
    "#Compares the elements in the array\n",
    "np_array == 3  \n",
    "np_array > 3  \n"
   ]
  },
  {
   "cell_type": "markdown",
   "id": "00850d29",
   "metadata": {},
   "source": [
    "### 2.8 Mathematics"
   ]
  },
  {
   "cell_type": "code",
   "execution_count": 16,
   "id": "0814b9f4",
   "metadata": {},
   "outputs": [
    {
     "ename": "AttributeError",
     "evalue": "'list' object has no attribute 'sum'",
     "output_type": "error",
     "traceback": [
      "\u001b[0;31m---------------------------------------------------------------------------\u001b[0m",
      "\u001b[0;31mAttributeError\u001b[0m                            Traceback (most recent call last)",
      "Cell \u001b[0;32mIn[16], line 7\u001b[0m\n\u001b[1;32m      5\u001b[0m \u001b[38;5;28mmax\u001b[39m(py_list)     \u001b[38;5;66;03m# max() is a base Python function\u001b[39;00m\n\u001b[1;32m      6\u001b[0m \u001b[38;5;28mmin\u001b[39m(py_list)     \u001b[38;5;66;03m# min() is a base Python function\u001b[39;00m\n\u001b[0;32m----> 7\u001b[0m \u001b[43mpy_list\u001b[49m\u001b[38;5;241;43m.\u001b[39;49m\u001b[43msum\u001b[49m()   \u001b[38;5;66;03m# Won't work!\u001b[39;00m\n\u001b[1;32m      8\u001b[0m np_array\u001b[38;5;241m.\u001b[39msum()\n\u001b[1;32m      9\u001b[0m np_array\u001b[38;5;241m.\u001b[39mmean()\n",
      "\u001b[0;31mAttributeError\u001b[0m: 'list' object has no attribute 'sum'"
     ]
    }
   ],
   "source": [
    "py_list = [1, 2, 3, 4, 5]\n",
    "np_array = np.array(py_list)         \n",
    "\n",
    "sum(py_list)     # sum() is a base Python function\n",
    "max(py_list)     # max() is a base Python function\n",
    "min(py_list)     # min() is a base Python function\n",
    "py_list.sum()   # Won't work!\n",
    "np_array.sum()\n",
    "np_array.mean()\n",
    "np_array.max()\n",
    "np_array.min()"
   ]
  },
  {
   "cell_type": "markdown",
   "id": "d1c0aaa6",
   "metadata": {},
   "source": [
    "## Exercise 1 :  Total recall?"
   ]
  },
  {
   "cell_type": "markdown",
   "id": "c0a78d34",
   "metadata": {},
   "source": [
    "1. One similarity between list and array is that they both contain elements. Another similarity between list and array is the you can access the elements using index\n",
    "\n",
    "2. One difference between list and array is that operations on a list usually works on the whole list while operations on an array usually works on the individual elements of the array. Another difference between list and array is that more than one data type can be in a list but not for an array.\n",
    "\n",
    "3. A dictionary stores data using a key value format\n",
    "\n",
    "\n"
   ]
  },
  {
   "cell_type": "markdown",
   "id": "b7a48ee1",
   "metadata": {},
   "source": [
    "## Exercise 2 :  Index me"
   ]
  },
  {
   "cell_type": "code",
   "execution_count": 18,
   "id": "7099f1ec",
   "metadata": {},
   "outputs": [
    {
     "name": "stdout",
     "output_type": "stream",
     "text": [
      "a1\n",
      "c3\n",
      "e5\n",
      "g7\n",
      "i9\n"
     ]
    }
   ],
   "source": [
    "\n",
    "\n",
    "\n",
    "# Your solution here\n",
    "py_list = [\"a1\", \"b2\", \"c3\", \"d4\", \"e5\", \"f6\", \"g7\", \"h8\", \"i9\", \"j10\"]\n",
    "print(py_list[0])   # Prints 'a1'\n",
    "print(py_list[2])   # Prints 'c3'\n",
    "print(py_list[4])   # Prints 'e5'\n",
    "print(py_list[6])   # Prints 'g7'\n",
    "print(py_list[8])   # Prints 'i9'\n",
    "\n"
   ]
  },
  {
   "cell_type": "markdown",
   "id": "02793648",
   "metadata": {},
   "source": [
    "## Exercise 3 :  Capitalise Heros"
   ]
  },
  {
   "cell_type": "code",
   "execution_count": 20,
   "id": "9bca6e47",
   "metadata": {},
   "outputs": [
    {
     "name": "stdout",
     "output_type": "stream",
     "text": [
      "{'Natasha Romanoff': 'BLACK WIDOW', 'Tony Stark': 'IRON MAN', 'Stephen Strange': 'DOCTOR STRANGE'}\n"
     ]
    }
   ],
   "source": [
    "\n",
    "\n",
    "\n",
    "# Your solution here\n",
    "superhero_info = {\"Natasha Romanoff\": \"Black Widow\",\n",
    "                  \"Tony Stark\": \"Iron Man\",\n",
    "                  \"Stephen Strange\": \"Doctor Strange\"\n",
    "                  }\n",
    "\n",
    "superhero_info['Tony Stark'] = superhero_info['Tony Stark'].upper()\n",
    "superhero_info['Natasha Romanoff'] = superhero_info['Natasha Romanoff'].upper()\n",
    "superhero_info['Stephen Strange'] = superhero_info['Stephen Strange'].upper()\n",
    "\n",
    "print(superhero_info)"
   ]
  },
  {
   "cell_type": "markdown",
   "id": "eed0cd54",
   "metadata": {},
   "source": [
    "## Exercise 4 :  How many ones"
   ]
  },
  {
   "cell_type": "code",
   "execution_count": 25,
   "id": "dda75431",
   "metadata": {},
   "outputs": [
    {
     "name": "stdout",
     "output_type": "stream",
     "text": [
      "9\n"
     ]
    }
   ],
   "source": [
    "\n",
    "\n",
    "\n",
    "# Your solution here\n",
    "numbers=[45, 60, 1, 30, 96, 1, 96, 57, 16, 1,\n",
    "        99, 62, 86, 43, 42, 60, 59, 1, 1, 35,\n",
    "        83, 47, 34, 28, 68, 23, 22, 92, 1, 79,\n",
    "        1, 29, 94, 72, 46, 47, 1, 74, 32, 20,\n",
    "        8, 37, 35, 1, 89, 29, 86, 19, 43, 61]\n",
    "\n",
    "np_numbers = np.array(numbers)\n",
    "\n",
    "number_of_1s = sum(np_numbers == 1)\n",
    "print(number_of_1s)"
   ]
  }
 ],
 "metadata": {
  "kernelspec": {
   "display_name": "Python 3 (ipykernel)",
   "language": "python",
   "name": "python3"
  },
  "language_info": {
   "codemirror_mode": {
    "name": "ipython",
    "version": 3
   },
   "file_extension": ".py",
   "mimetype": "text/x-python",
   "name": "python",
   "nbconvert_exporter": "python",
   "pygments_lexer": "ipython3",
   "version": "3.10.8"
  },
  "toc": {
   "base_numbering": 1,
   "nav_menu": {},
   "number_sections": true,
   "sideBar": true,
   "skip_h1_title": false,
   "title_cell": "Table of Contents",
   "title_sidebar": "Contents",
   "toc_cell": false,
   "toc_position": {},
   "toc_section_display": true,
   "toc_window_display": false
  },
  "varInspector": {
   "cols": {
    "lenName": 16,
    "lenType": 16,
    "lenVar": 40
   },
   "kernels_config": {
    "python": {
     "delete_cmd_postfix": "",
     "delete_cmd_prefix": "del ",
     "library": "var_list.py",
     "varRefreshCmd": "print(var_dic_list())"
    },
    "r": {
     "delete_cmd_postfix": ") ",
     "delete_cmd_prefix": "rm(",
     "library": "var_list.r",
     "varRefreshCmd": "cat(var_dic_list()) "
    }
   },
   "types_to_exclude": [
    "module",
    "function",
    "builtin_function_or_method",
    "instance",
    "_Feature"
   ],
   "window_display": false
  },
  "vscode": {
   "interpreter": {
    "hash": "31f2aee4e71d21fbe5cf8b01ff0e069b9275f58929596ceb00d14d90e3e16cd6"
   }
  }
 },
 "nbformat": 4,
 "nbformat_minor": 5
}
