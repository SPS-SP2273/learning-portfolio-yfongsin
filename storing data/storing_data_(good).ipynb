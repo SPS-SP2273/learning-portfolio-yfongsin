{
 "cells": [
  {
   "cell_type": "markdown",
   "id": "123456",
   "metadata": {},
   "source": [
    "<div style=\"text-align:left;font-size:2em\"><span style=\"font-weight:bolder;font-size:1.25em\">SP2273 | Learning Portfolio</span><br><br><span style=\"font-weight:bold;color:darkred\">Storing Data (Good)</span></div>"
   ]
  },
  {
   "cell_type": "markdown",
   "id": "7714a523",
   "metadata": {},
   "source": [
    "## 1 Subsetting: Indexing and Slicing"
   ]
  },
  {
   "cell_type": "markdown",
   "id": "519edcbc",
   "metadata": {},
   "source": [
    "### 1.1 Indexing & Slicing 1D (Lists & Arrays)"
   ]
  },
  {
   "cell_type": "code",
   "execution_count": 2,
   "id": "a1b1df80",
   "metadata": {},
   "outputs": [
    {
     "name": "stdout",
     "output_type": "stream",
     "text": [
      "a1\n",
      "j10\n",
      "['a1', 'b2', 'c3']\n",
      "['b2', 'c3', 'd4', 'e5', 'f6']\n",
      "['b2', 'd4', 'f6']\n",
      "['f6', 'g7', 'h8', 'i9', 'j10']\n",
      "['a1', 'b2', 'c3', 'd4', 'e5']\n",
      "['f6', 'e5', 'd4']\n",
      "['j10', 'i9', 'h8', 'g7', 'f6', 'e5', 'd4', 'c3', 'b2', 'a1']\n"
     ]
    }
   ],
   "source": [
    "py_list=[\"a1\", \"b2\", \"c3\", \"d4\", \"e5\",\n",
    "         \"f6\", \"g7\", \"h8\", \"i9\", \"j10\"]\n",
    "np_array=np.array(py_list)\n",
    "\n",
    "x = py_list\n",
    "print(x[0])       #First element\n",
    "print(x[-1])      #Last element\n",
    "print(x[0:3])     #Index 0 to 2\n",
    "print(x[1:6])     #Index 1 to 5\n",
    "print(x[1:6:2])   #Index 1 to 5 in steps of 2\n",
    "print(x[5:])      #Index 5 to the end\n",
    "print(x[:5])      #Index 0 to 4\n",
    "print(x[5:2:-1])  #Index 5 to 3 (i.e. in reverse)\n",
    "print(x[::-1])    #Reverses the list\n"
   ]
  },
  {
   "cell_type": "markdown",
   "id": "e308226b",
   "metadata": {},
   "source": [
    "### 1.2 Subsetting by masking (Arrays only)"
   ]
  },
  {
   "cell_type": "code",
   "execution_count": null,
   "id": "a4c4ace8",
   "metadata": {},
   "outputs": [],
   "source": [
    "#One of the most powerful things NumPy can do is subsetting by masking\n",
    "np_array = np.array([1, 2, 3, 4, 5, 6, 7, 8, 9, 10])\n",
    "my_mask = np_array > 3\n",
    "print(my_mask)\n",
    "\n",
    "#Show only those that are True\n",
    "np_array[my_mask]\n",
    "\n",
    "#A more succinct method can be written as:\n",
    "np_array[np_array > 3]\n",
    "\n",
    "#Must use Bitwise operators when combining masks with NumPy\n",
    "np_array[~(np_array > 3)]                         # '~' means 'NOT'\n",
    "np_array[(np_array > 3) & (np_array < 8)]         # '&' means 'AND'\n",
    "np_array[(np_array < 3) | (np_array > 8)]         # '|' means 'OR'"
   ]
  },
  {
   "cell_type": "markdown",
   "id": "915fbe35",
   "metadata": {},
   "source": [
    "### 1.3 Indexing & Slicing 2D Lists"
   ]
  },
  {
   "cell_type": "code",
   "execution_count": null,
   "id": "207d29e2",
   "metadata": {},
   "outputs": [],
   "source": [
    "py_list_2d = [[1, \"A\"], [2, \"B\"], [3, \"C\"], [4, \"D\"],\n",
    "              [5, \"E\"], [6, \"F\"], [7, \"G\"], [8, \"H\"],\n",
    "              [9, \"I\"], [10, \"J\"]]\n",
    "\n",
    "py_list_2d[3]        # What is at position 4 (index 3)?\n",
    "#> [4, 'D']\n",
    "\n",
    "py_list_2d[3][0]     # FIRST element at position 4 (index 3)\n",
    "#> 4\n",
    "\n",
    "py_list_2d[:3]\n",
    "#> [[1, 'A'], [2, 'B'], [3, 'C']]\n",
    "\n",
    "py_list_2d[:3][0]\n",
    "#> [1, 'A']\n",
    "\n",
    "#Instead of yielding the first elements (i.e. [1, 2, 3]) of all the sub-lists up to index 2, it gives the first of the list you get from py_list_2d[:3]\n",
    "\n",
    "py_list_2d[3:6][0]\n",
    "#> [4, 'D']"
   ]
  },
  {
   "cell_type": "markdown",
   "id": "8c902592",
   "metadata": {},
   "source": [
    "### 1.4 Indexing & Slicing 2D Arrays"
   ]
  },
  {
   "cell_type": "code",
   "execution_count": null,
   "id": "8bb53f8a",
   "metadata": {},
   "outputs": [],
   "source": [
    "np_array_2d = np.array([[1, \"A\"], [2, \"B\"], [3, \"C\"], [4, \"D\"],\n",
    "                        [5, \"E\"], [6, \"F\"], [7, \"G\"], [8, \"H\"],\n",
    "                        [9, \"I\"], [10, \"J\"]])\n",
    "\n",
    "np_array_2d[3]       # What is at position 4 (index 3)?\n",
    "#> array(['4', 'D'], dtype='<U21')\n",
    "\n",
    "np_array_2d[3, 0]    # FIRST element at position 4 (index 3)\n",
    "#> '4'\n",
    "#Syntax for arrays uses just a single pair of square brackets ([])\n",
    "\n",
    "np_array_2d[:3]\n",
    "#> array([['1', 'A'],\n",
    "#>        ['2', 'B'],\n",
    "#>        ['3', 'C']], dtype='<U21')\n",
    "\n",
    "np_array_2d[:3, 0]\n",
    "#> array(['1', '2', '3'], dtype='<U21')\n",
    "\n",
    "np_array_2d[3:6, 0]\n",
    "#> array(['4', '5', '6'], dtype='<U21')\n",
    "\n",
    "#If you want ‘everything’ you just use :\n",
    "np_array_2d[:, 0]\n",
    "#> array(['1', '2', '3', '4', '5', '6', '7', '8', '9', '10'], dtype='<U21')"
   ]
  },
  {
   "cell_type": "markdown",
   "id": "4b091445",
   "metadata": {},
   "source": [
    "### 1.5 Growing lists"
   ]
  },
  {
   "cell_type": "code",
   "execution_count": 3,
   "id": "49217562",
   "metadata": {},
   "outputs": [
    {
     "data": {
      "text/plain": [
       "[1, 2, 3, 4]"
      ]
     },
     "execution_count": 3,
     "metadata": {},
     "output_type": "execute_result"
    }
   ],
   "source": [
    "#One advantage of lists is their ease and efficiency in growing.\n",
    "\n",
    "x=[1]*10\n",
    "x               # I am lazy to type print()\n",
    "                # Let Jupyter do the hard work.\n",
    "#> [1, 1, 1, 1, 1, 1, 1, 1, 1, 1]\n",
    "\n",
    "x=[1]\n",
    "x= x + [2]\n",
    "x= x + [3]\n",
    "x= x + [4]\n",
    "x\n",
    "#> [1, 2, 3, 4]\n",
    "\n",
    "x=[1]\n",
    "x+= [2]\n",
    "x+= [3]\n",
    "x+= [4]\n",
    "x\n",
    "#> [1, 2, 3, 4]\n",
    "\n",
    "#To append multiple elements in one go\n",
    "x=[1]\n",
    "x+= [2, 3, 4]\n",
    "x\n",
    "#> [1, 2, 3, 4]\n",
    "\n",
    "#To pre-pend\n",
    "x=[1]\n",
    "x= [2, 3, 4] + x\n",
    "x\n",
    "#> [2, 3, 4, 1]\n",
    "\n",
    "#Can also use hidden function append()\n",
    "x=[1]\n",
    "x.append(2)\n",
    "x.append(3)\n",
    "x.append(4)\n",
    "x\n",
    "#> [1, 2, 3, 4]"
   ]
  },
  {
   "cell_type": "markdown",
   "id": "1a5891ab",
   "metadata": {},
   "source": [
    "## 2 Some loose ends"
   ]
  },
  {
   "cell_type": "markdown",
   "id": "ff0c83a0",
   "metadata": {},
   "source": [
    "### 2.1 Tuples"
   ]
  },
  {
   "cell_type": "code",
   "execution_count": 4,
   "id": "76398380",
   "metadata": {},
   "outputs": [
    {
     "name": "stdout",
     "output_type": "stream",
     "text": [
      "1\n"
     ]
    },
    {
     "ename": "TypeError",
     "evalue": "'tuple' object does not support item assignment",
     "output_type": "error",
     "traceback": [
      "\u001b[0;31m---------------------------------------------------------------------------\u001b[0m",
      "\u001b[0;31mTypeError\u001b[0m                                 Traceback (most recent call last)",
      "Cell \u001b[0;32mIn[4], line 9\u001b[0m\n\u001b[1;32m      5\u001b[0m \u001b[38;5;28mprint\u001b[39m(a[\u001b[38;5;241m0\u001b[39m])    \u001b[38;5;66;03m# Access data\u001b[39;00m\n\u001b[1;32m      7\u001b[0m \u001b[38;5;66;03m#But cannot change the data\u001b[39;00m\n\u001b[1;32m      8\u001b[0m \u001b[38;5;66;03m# The following will NOT work\u001b[39;00m\n\u001b[0;32m----> 9\u001b[0m \u001b[43ma\u001b[49m\u001b[43m[\u001b[49m\u001b[38;5;241;43m0\u001b[39;49m\u001b[43m]\u001b[49m\u001b[38;5;241m=\u001b[39m\u001b[38;5;241m-\u001b[39m\u001b[38;5;241m1\u001b[39m\n\u001b[1;32m     10\u001b[0m a[\u001b[38;5;241m0\u001b[39m] \u001b[38;5;241m+\u001b[39m\u001b[38;5;241m=\u001b[39m [\u001b[38;5;241m10\u001b[39m]\n",
      "\u001b[0;31mTypeError\u001b[0m: 'tuple' object does not support item assignment"
     ]
    }
   ],
   "source": [
    "#Tuple is another data storage structure that is similar to list, except it uses () and cannot be changed after creation\n",
    "a=(1, 2, 3)     # Define tuple\n",
    "\n",
    "#Can access its data\n",
    "print(a[0])    # Access data\n",
    "\n",
    "#But cannot change the data\n",
    "# The following will NOT work\n",
    "a[0]=-1\n",
    "a[0] += [10]"
   ]
  },
  {
   "cell_type": "markdown",
   "id": "02babecb",
   "metadata": {},
   "source": [
    "### 2.2 Be VERY careful when copying"
   ]
  },
  {
   "cell_type": "code",
   "execution_count": null,
   "id": "661aeeb1",
   "metadata": {},
   "outputs": [],
   "source": [
    "#Be mindful when making copies of lists and arrays\n",
    "x=[1, 2, 3]\n",
    "y=x           # DON'T do this!\n",
    "z=x           # DON'T do this!\n",
    "\n",
    "#The correct way to copy is as follows:\n",
    "x=[1, 2, 3]\n",
    "y=x.copy()\n",
    "z=x.copy()"
   ]
  },
  {
   "cell_type": "markdown",
   "id": "417572fb",
   "metadata": {},
   "source": [
    "## Exercise 1 :  Total recall?"
   ]
  },
  {
   "cell_type": "markdown",
   "id": "26613320",
   "metadata": {},
   "source": [
    "| **Term**   | **Brief description**                          |\n",
    "|------------|------------------------------------------------|\n",
    "| Subsetting | Select a subset of the data in a list or array |\n",
    "| Indexing   | Subsetting using index to select one element   |\n",
    "| Slicing    | Subsetting a range of elements                 |\n",
    "| Masking    | Subsetting by selecting only True elements     |"
   ]
  },
  {
   "cell_type": "markdown",
   "id": "4abb65bf",
   "metadata": {},
   "source": [
    "## Exercise 2 :  Show me the ‘odd’ letters"
   ]
  },
  {
   "cell_type": "code",
   "execution_count": 2,
   "id": "7f051b78",
   "metadata": {},
   "outputs": [
    {
     "data": {
      "text/plain": [
       "array(['A', 'C', 'E', 'G', 'I'], dtype='<U21')"
      ]
     },
     "execution_count": 2,
     "metadata": {},
     "output_type": "execute_result"
    }
   ],
   "source": [
    "np_array_2d = np.array([[1, \"A\"], [3, \"C\"], [2, \"B\"], [4, \"D\"],\n",
    "                        [5, \"E\"], [7, \"G\"], [6, \"F\"], [8, \"H\"],\n",
    "                        [10, \"J\"], [9, \"I\"]])\n",
    "\n",
    "np_array_2d[(np_array_2d[:, 0].astype(int) % 2) == 1, 1]\n",
    "\n",
    "\n"
   ]
  }
 ],
 "metadata": {
  "kernelspec": {
   "display_name": "Python 3 (ipykernel)",
   "language": "python",
   "name": "python3"
  },
  "language_info": {
   "codemirror_mode": {
    "name": "ipython",
    "version": 3
   },
   "file_extension": ".py",
   "mimetype": "text/x-python",
   "name": "python",
   "nbconvert_exporter": "python",
   "pygments_lexer": "ipython3",
   "version": "3.10.8"
  },
  "toc": {
   "base_numbering": 1,
   "nav_menu": {},
   "number_sections": true,
   "sideBar": true,
   "skip_h1_title": false,
   "title_cell": "Table of Contents",
   "title_sidebar": "Contents",
   "toc_cell": false,
   "toc_position": {},
   "toc_section_display": true,
   "toc_window_display": false
  },
  "varInspector": {
   "cols": {
    "lenName": 16,
    "lenType": 16,
    "lenVar": 40
   },
   "kernels_config": {
    "python": {
     "delete_cmd_postfix": "",
     "delete_cmd_prefix": "del ",
     "library": "var_list.py",
     "varRefreshCmd": "print(var_dic_list())"
    },
    "r": {
     "delete_cmd_postfix": ") ",
     "delete_cmd_prefix": "rm(",
     "library": "var_list.r",
     "varRefreshCmd": "cat(var_dic_list()) "
    }
   },
   "types_to_exclude": [
    "module",
    "function",
    "builtin_function_or_method",
    "instance",
    "_Feature"
   ],
   "window_display": false
  },
  "vscode": {
   "interpreter": {
    "hash": "31f2aee4e71d21fbe5cf8b01ff0e069b9275f58929596ceb00d14d90e3e16cd6"
   }
  }
 },
 "nbformat": 4,
 "nbformat_minor": 5
}
